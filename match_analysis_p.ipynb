{
  "nbformat": 4,
  "nbformat_minor": 0,
  "metadata": {
    "colab": {
      "name": "match_analysis_p",
      "provenance": [],
      "collapsed_sections": [
        "J4wfHZwQrs-t",
        "a9BPYqunry97",
        "7KMRBJ7zr9HD",
        "zSGyg6kWsBUl",
        "lQ2G4ZPDVOXE",
        "xrmHVMVsVS--",
        "HPQviDmNtta8",
        "qjFHK1CKty7o",
        "HSsicSdvt4Zs"
      ],
      "include_colab_link": true
    },
    "kernelspec": {
      "name": "python3",
      "display_name": "Python 3"
    }
  },
  "cells": [
    {
      "cell_type": "markdown",
      "metadata": {
        "id": "view-in-github",
        "colab_type": "text"
      },
      "source": [
        "<a href=\"https://colab.research.google.com/github/Sharon-Faith/football_match_ip/blob/main/match_analysis_p.ipynb\" target=\"_parent\"><img src=\"https://colab.research.google.com/assets/colab-badge.svg\" alt=\"Open In Colab\"/></a>"
      ]
    },
    {
      "cell_type": "markdown",
      "metadata": {
        "id": "xMxtPsqcTsSH"
      },
      "source": [
        "# Match analysis"
      ]
    },
    {
      "cell_type": "markdown",
      "metadata": {
        "id": "kLG2VTrnTvYL"
      },
      "source": [
        "## Introduction"
      ]
    },
    {
      "cell_type": "markdown",
      "metadata": {
        "id": "XecOwPNorl2W"
      },
      "source": [
        "### a) Specifying the Question"
      ]
    },
    {
      "cell_type": "markdown",
      "source": [
        "The main objective of the analysis is to develop models that will predict the results of a football game between team 1 and team 2, based on who is home and who is away, and on the type of tournament (friendly, world cup or other). Mchezopesa Ltd will utilise the results of this analysis."
      ],
      "metadata": {
        "id": "-vfkgt5jR657"
      }
    },
    {
      "cell_type": "markdown",
      "metadata": {
        "id": "vp-5Xzh6dow9"
      },
      "source": [
        "### b) Defining the Metric for Success"
      ]
    },
    {
      "cell_type": "markdown",
      "source": [
        "Developing models that will be  able to predict: \n",
        "\n",
        "*   How many goals the home team scores.\n",
        "*   How many goals the away team scores.\n",
        "*   Whether the game is a win, loss or draw from the home team's perspective.\n",
        "\n"
      ],
      "metadata": {
        "id": "2m17m2HrT0ls"
      }
    },
    {
      "cell_type": "markdown",
      "metadata": {
        "id": "vnVya2xPdow_"
      },
      "source": [
        "### c) Understanding the context "
      ]
    },
    {
      "cell_type": "markdown",
      "source": [
        "Football is one of the most popular sports in the world. One of the factors that may influence the outcome of a football game is rank. The men's FIFA World Ranking calculation has varied over the years in terms of the metrics and weights used in the calculations, but overally, the most successful men's national teams are ranked highest. There are also different types of tournaments, and friendly tournaments are those that have a minimal or non-existent effect on a team's rankings. Predictions of the results of major matches are a point of interest for numerous parties in the world of football."
      ],
      "metadata": {
        "id": "DcxKoUuaVvrX"
      }
    },
    {
      "cell_type": "markdown",
      "metadata": {
        "id": "c5xwz3QrdoxA"
      },
      "source": [
        "### d) Recording the Experimental Design"
      ]
    },
    {
      "cell_type": "markdown",
      "source": [
        "\n",
        "\n",
        "*   Determine the main objectives\n",
        "*   Load and preview the dataset.\n",
        "*   Understand the data.\n",
        "*   Prepare the dataset - Identify outliers, anomalies, duplicates, missing values, and determine how deal with them, drop unnecessary columns, perform relevant datatype conversion, generate necessary new columns, merge datasets.\n",
        "*    Analyse the dataset using univariate, bivariate and multivariate analysis techniques.\n",
        "*   Implement the solution through modelling.\n",
        "*   Challenge the solution.\n",
        "*   Conclusion\n",
        "\n"
      ],
      "metadata": {
        "id": "uaTSlFGFW6Mg"
      }
    },
    {
      "cell_type": "markdown",
      "metadata": {
        "id": "AjwybPNpdoxB"
      },
      "source": [
        "### e) Data Relevance"
      ]
    },
    {
      "cell_type": "markdown",
      "source": [
        "The datasets provided ([here](https://drive.google.com/open?id=1BYUqaEEnFtAe5lvzJh9lpVpR2MAvERUc)) are relevant to the research question. Combined, they contain information on scores from numerous matches, as well as rankings of different country teams. This is the information needed to develop the models in question. "
      ],
      "metadata": {
        "id": "32KmDcsgUole"
      }
    },
    {
      "cell_type": "markdown",
      "metadata": {
        "id": "iUNbvIvnT7ep"
      },
      "source": [
        "## Reading the Data"
      ]
    },
    {
      "cell_type": "code",
      "source": [
        "#importing libraries that will be used\n",
        "import numpy as np\n",
        "import pandas as pd\n",
        "import seaborn as sb\n",
        "import matplotlib.pyplot as plt\n",
        "from sklearn.preprocessing import PolynomialFeatures\n",
        "from sklearn.model_selection import KFold\n",
        "import scipy as sp\n",
        "from sklearn.model_selection import GridSearchCV\n",
        "from sklearn import metrics\n",
        "from sklearn.model_selection import train_test_split\n",
        "from sklearn.linear_model import LinearRegression"
      ],
      "metadata": {
        "id": "GDBbf55tSIgK"
      },
      "execution_count": 197,
      "outputs": []
    },
    {
      "cell_type": "code",
      "source": [
        "#loading the datasets"
      ],
      "metadata": {
        "id": "ANyZ7Gkbwdyj"
      },
      "execution_count": null,
      "outputs": []
    },
    {
      "cell_type": "code",
      "metadata": {
        "id": "XJn2KjW-WMlG"
      },
      "source": [
        "df_rank = pd.read_csv('fifa_ranking.csv')"
      ],
      "execution_count": 198,
      "outputs": []
    },
    {
      "cell_type": "code",
      "source": [
        "df_res = pd.read_csv('results.csv')\n"
      ],
      "metadata": {
        "id": "c-nESXM5WzbB"
      },
      "execution_count": 199,
      "outputs": []
    },
    {
      "cell_type": "markdown",
      "metadata": {
        "id": "OI3P3YnHUEBk"
      },
      "source": [
        "## Checking the Data"
      ]
    },
    {
      "cell_type": "code",
      "metadata": {
        "id": "YjSVNwgptHxY",
        "colab": {
          "base_uri": "https://localhost:8080/"
        },
        "outputId": "f7fa6d12-c774-46f6-b211-de2c551848ed"
      },
      "source": [
        "# Determining the no. of records in the datasets\n",
        "#\n",
        "print(df_rank.shape)\n",
        "print('****************')\n",
        "print(df_res.shape)"
      ],
      "execution_count": null,
      "outputs": [
        {
          "output_type": "stream",
          "name": "stdout",
          "text": [
            "(57793, 16)\n",
            "****************\n",
            "(40839, 9)\n"
          ]
        }
      ]
    },
    {
      "cell_type": "code",
      "metadata": {
        "id": "xHhTw5eKWr0n",
        "colab": {
          "base_uri": "https://localhost:8080/",
          "height": 270
        },
        "outputId": "65daa438-5cba-4e04-8c60-6c415dd23de7"
      },
      "source": [
        "# Previewing the top of the datasets\n",
        "df_rank.head()"
      ],
      "execution_count": null,
      "outputs": [
        {
          "output_type": "execute_result",
          "data": {
            "text/plain": [
              "   rank country_full country_abrv  total_points  previous_points  rank_change  \\\n",
              "0     1      Germany          GER           0.0               57            0   \n",
              "1     2        Italy          ITA           0.0               57            0   \n",
              "2     3  Switzerland          SUI           0.0               50            9   \n",
              "3     4       Sweden          SWE           0.0               55            0   \n",
              "4     5    Argentina          ARG           0.0               51            5   \n",
              "\n",
              "   cur_year_avg  cur_year_avg_weighted  last_year_avg  last_year_avg_weighted  \\\n",
              "0           0.0                    0.0            0.0                     0.0   \n",
              "1           0.0                    0.0            0.0                     0.0   \n",
              "2           0.0                    0.0            0.0                     0.0   \n",
              "3           0.0                    0.0            0.0                     0.0   \n",
              "4           0.0                    0.0            0.0                     0.0   \n",
              "\n",
              "   two_year_ago_avg  two_year_ago_weighted  three_year_ago_avg  \\\n",
              "0               0.0                    0.0                 0.0   \n",
              "1               0.0                    0.0                 0.0   \n",
              "2               0.0                    0.0                 0.0   \n",
              "3               0.0                    0.0                 0.0   \n",
              "4               0.0                    0.0                 0.0   \n",
              "\n",
              "   three_year_ago_weighted confederation   rank_date  \n",
              "0                      0.0          UEFA  1993-08-08  \n",
              "1                      0.0          UEFA  1993-08-08  \n",
              "2                      0.0          UEFA  1993-08-08  \n",
              "3                      0.0          UEFA  1993-08-08  \n",
              "4                      0.0      CONMEBOL  1993-08-08  "
            ],
            "text/html": [
              "\n",
              "  <div id=\"df-cade6baa-ff93-4724-be11-2322e1b0e8e2\">\n",
              "    <div class=\"colab-df-container\">\n",
              "      <div>\n",
              "<style scoped>\n",
              "    .dataframe tbody tr th:only-of-type {\n",
              "        vertical-align: middle;\n",
              "    }\n",
              "\n",
              "    .dataframe tbody tr th {\n",
              "        vertical-align: top;\n",
              "    }\n",
              "\n",
              "    .dataframe thead th {\n",
              "        text-align: right;\n",
              "    }\n",
              "</style>\n",
              "<table border=\"1\" class=\"dataframe\">\n",
              "  <thead>\n",
              "    <tr style=\"text-align: right;\">\n",
              "      <th></th>\n",
              "      <th>rank</th>\n",
              "      <th>country_full</th>\n",
              "      <th>country_abrv</th>\n",
              "      <th>total_points</th>\n",
              "      <th>previous_points</th>\n",
              "      <th>rank_change</th>\n",
              "      <th>cur_year_avg</th>\n",
              "      <th>cur_year_avg_weighted</th>\n",
              "      <th>last_year_avg</th>\n",
              "      <th>last_year_avg_weighted</th>\n",
              "      <th>two_year_ago_avg</th>\n",
              "      <th>two_year_ago_weighted</th>\n",
              "      <th>three_year_ago_avg</th>\n",
              "      <th>three_year_ago_weighted</th>\n",
              "      <th>confederation</th>\n",
              "      <th>rank_date</th>\n",
              "    </tr>\n",
              "  </thead>\n",
              "  <tbody>\n",
              "    <tr>\n",
              "      <th>0</th>\n",
              "      <td>1</td>\n",
              "      <td>Germany</td>\n",
              "      <td>GER</td>\n",
              "      <td>0.0</td>\n",
              "      <td>57</td>\n",
              "      <td>0</td>\n",
              "      <td>0.0</td>\n",
              "      <td>0.0</td>\n",
              "      <td>0.0</td>\n",
              "      <td>0.0</td>\n",
              "      <td>0.0</td>\n",
              "      <td>0.0</td>\n",
              "      <td>0.0</td>\n",
              "      <td>0.0</td>\n",
              "      <td>UEFA</td>\n",
              "      <td>1993-08-08</td>\n",
              "    </tr>\n",
              "    <tr>\n",
              "      <th>1</th>\n",
              "      <td>2</td>\n",
              "      <td>Italy</td>\n",
              "      <td>ITA</td>\n",
              "      <td>0.0</td>\n",
              "      <td>57</td>\n",
              "      <td>0</td>\n",
              "      <td>0.0</td>\n",
              "      <td>0.0</td>\n",
              "      <td>0.0</td>\n",
              "      <td>0.0</td>\n",
              "      <td>0.0</td>\n",
              "      <td>0.0</td>\n",
              "      <td>0.0</td>\n",
              "      <td>0.0</td>\n",
              "      <td>UEFA</td>\n",
              "      <td>1993-08-08</td>\n",
              "    </tr>\n",
              "    <tr>\n",
              "      <th>2</th>\n",
              "      <td>3</td>\n",
              "      <td>Switzerland</td>\n",
              "      <td>SUI</td>\n",
              "      <td>0.0</td>\n",
              "      <td>50</td>\n",
              "      <td>9</td>\n",
              "      <td>0.0</td>\n",
              "      <td>0.0</td>\n",
              "      <td>0.0</td>\n",
              "      <td>0.0</td>\n",
              "      <td>0.0</td>\n",
              "      <td>0.0</td>\n",
              "      <td>0.0</td>\n",
              "      <td>0.0</td>\n",
              "      <td>UEFA</td>\n",
              "      <td>1993-08-08</td>\n",
              "    </tr>\n",
              "    <tr>\n",
              "      <th>3</th>\n",
              "      <td>4</td>\n",
              "      <td>Sweden</td>\n",
              "      <td>SWE</td>\n",
              "      <td>0.0</td>\n",
              "      <td>55</td>\n",
              "      <td>0</td>\n",
              "      <td>0.0</td>\n",
              "      <td>0.0</td>\n",
              "      <td>0.0</td>\n",
              "      <td>0.0</td>\n",
              "      <td>0.0</td>\n",
              "      <td>0.0</td>\n",
              "      <td>0.0</td>\n",
              "      <td>0.0</td>\n",
              "      <td>UEFA</td>\n",
              "      <td>1993-08-08</td>\n",
              "    </tr>\n",
              "    <tr>\n",
              "      <th>4</th>\n",
              "      <td>5</td>\n",
              "      <td>Argentina</td>\n",
              "      <td>ARG</td>\n",
              "      <td>0.0</td>\n",
              "      <td>51</td>\n",
              "      <td>5</td>\n",
              "      <td>0.0</td>\n",
              "      <td>0.0</td>\n",
              "      <td>0.0</td>\n",
              "      <td>0.0</td>\n",
              "      <td>0.0</td>\n",
              "      <td>0.0</td>\n",
              "      <td>0.0</td>\n",
              "      <td>0.0</td>\n",
              "      <td>CONMEBOL</td>\n",
              "      <td>1993-08-08</td>\n",
              "    </tr>\n",
              "  </tbody>\n",
              "</table>\n",
              "</div>\n",
              "      <button class=\"colab-df-convert\" onclick=\"convertToInteractive('df-cade6baa-ff93-4724-be11-2322e1b0e8e2')\"\n",
              "              title=\"Convert this dataframe to an interactive table.\"\n",
              "              style=\"display:none;\">\n",
              "        \n",
              "  <svg xmlns=\"http://www.w3.org/2000/svg\" height=\"24px\"viewBox=\"0 0 24 24\"\n",
              "       width=\"24px\">\n",
              "    <path d=\"M0 0h24v24H0V0z\" fill=\"none\"/>\n",
              "    <path d=\"M18.56 5.44l.94 2.06.94-2.06 2.06-.94-2.06-.94-.94-2.06-.94 2.06-2.06.94zm-11 1L8.5 8.5l.94-2.06 2.06-.94-2.06-.94L8.5 2.5l-.94 2.06-2.06.94zm10 10l.94 2.06.94-2.06 2.06-.94-2.06-.94-.94-2.06-.94 2.06-2.06.94z\"/><path d=\"M17.41 7.96l-1.37-1.37c-.4-.4-.92-.59-1.43-.59-.52 0-1.04.2-1.43.59L10.3 9.45l-7.72 7.72c-.78.78-.78 2.05 0 2.83L4 21.41c.39.39.9.59 1.41.59.51 0 1.02-.2 1.41-.59l7.78-7.78 2.81-2.81c.8-.78.8-2.07 0-2.86zM5.41 20L4 18.59l7.72-7.72 1.47 1.35L5.41 20z\"/>\n",
              "  </svg>\n",
              "      </button>\n",
              "      \n",
              "  <style>\n",
              "    .colab-df-container {\n",
              "      display:flex;\n",
              "      flex-wrap:wrap;\n",
              "      gap: 12px;\n",
              "    }\n",
              "\n",
              "    .colab-df-convert {\n",
              "      background-color: #E8F0FE;\n",
              "      border: none;\n",
              "      border-radius: 50%;\n",
              "      cursor: pointer;\n",
              "      display: none;\n",
              "      fill: #1967D2;\n",
              "      height: 32px;\n",
              "      padding: 0 0 0 0;\n",
              "      width: 32px;\n",
              "    }\n",
              "\n",
              "    .colab-df-convert:hover {\n",
              "      background-color: #E2EBFA;\n",
              "      box-shadow: 0px 1px 2px rgba(60, 64, 67, 0.3), 0px 1px 3px 1px rgba(60, 64, 67, 0.15);\n",
              "      fill: #174EA6;\n",
              "    }\n",
              "\n",
              "    [theme=dark] .colab-df-convert {\n",
              "      background-color: #3B4455;\n",
              "      fill: #D2E3FC;\n",
              "    }\n",
              "\n",
              "    [theme=dark] .colab-df-convert:hover {\n",
              "      background-color: #434B5C;\n",
              "      box-shadow: 0px 1px 3px 1px rgba(0, 0, 0, 0.15);\n",
              "      filter: drop-shadow(0px 1px 2px rgba(0, 0, 0, 0.3));\n",
              "      fill: #FFFFFF;\n",
              "    }\n",
              "  </style>\n",
              "\n",
              "      <script>\n",
              "        const buttonEl =\n",
              "          document.querySelector('#df-cade6baa-ff93-4724-be11-2322e1b0e8e2 button.colab-df-convert');\n",
              "        buttonEl.style.display =\n",
              "          google.colab.kernel.accessAllowed ? 'block' : 'none';\n",
              "\n",
              "        async function convertToInteractive(key) {\n",
              "          const element = document.querySelector('#df-cade6baa-ff93-4724-be11-2322e1b0e8e2');\n",
              "          const dataTable =\n",
              "            await google.colab.kernel.invokeFunction('convertToInteractive',\n",
              "                                                     [key], {});\n",
              "          if (!dataTable) return;\n",
              "\n",
              "          const docLinkHtml = 'Like what you see? Visit the ' +\n",
              "            '<a target=\"_blank\" href=https://colab.research.google.com/notebooks/data_table.ipynb>data table notebook</a>'\n",
              "            + ' to learn more about interactive tables.';\n",
              "          element.innerHTML = '';\n",
              "          dataTable['output_type'] = 'display_data';\n",
              "          await google.colab.output.renderOutput(dataTable, element);\n",
              "          const docLink = document.createElement('div');\n",
              "          docLink.innerHTML = docLinkHtml;\n",
              "          element.appendChild(docLink);\n",
              "        }\n",
              "      </script>\n",
              "    </div>\n",
              "  </div>\n",
              "  "
            ]
          },
          "metadata": {},
          "execution_count": 6
        }
      ]
    },
    {
      "cell_type": "code",
      "source": [
        "df_res.head()"
      ],
      "metadata": {
        "colab": {
          "base_uri": "https://localhost:8080/",
          "height": 206
        },
        "id": "xpm5bQ3UYBcD",
        "outputId": "263b2e6e-3ecd-4c0b-c6bc-025c8055681a"
      },
      "execution_count": null,
      "outputs": [
        {
          "output_type": "execute_result",
          "data": {
            "text/plain": [
              "         date home_team away_team  home_score  away_score tournament     city  \\\n",
              "0  1872-11-30  Scotland   England           0           0   Friendly  Glasgow   \n",
              "1  1873-03-08   England  Scotland           4           2   Friendly   London   \n",
              "2  1874-03-07  Scotland   England           2           1   Friendly  Glasgow   \n",
              "3  1875-03-06   England  Scotland           2           2   Friendly   London   \n",
              "4  1876-03-04  Scotland   England           3           0   Friendly  Glasgow   \n",
              "\n",
              "    country  neutral  \n",
              "0  Scotland    False  \n",
              "1   England    False  \n",
              "2  Scotland    False  \n",
              "3   England    False  \n",
              "4  Scotland    False  "
            ],
            "text/html": [
              "\n",
              "  <div id=\"df-c5633184-6425-435e-89a4-4121716b7149\">\n",
              "    <div class=\"colab-df-container\">\n",
              "      <div>\n",
              "<style scoped>\n",
              "    .dataframe tbody tr th:only-of-type {\n",
              "        vertical-align: middle;\n",
              "    }\n",
              "\n",
              "    .dataframe tbody tr th {\n",
              "        vertical-align: top;\n",
              "    }\n",
              "\n",
              "    .dataframe thead th {\n",
              "        text-align: right;\n",
              "    }\n",
              "</style>\n",
              "<table border=\"1\" class=\"dataframe\">\n",
              "  <thead>\n",
              "    <tr style=\"text-align: right;\">\n",
              "      <th></th>\n",
              "      <th>date</th>\n",
              "      <th>home_team</th>\n",
              "      <th>away_team</th>\n",
              "      <th>home_score</th>\n",
              "      <th>away_score</th>\n",
              "      <th>tournament</th>\n",
              "      <th>city</th>\n",
              "      <th>country</th>\n",
              "      <th>neutral</th>\n",
              "    </tr>\n",
              "  </thead>\n",
              "  <tbody>\n",
              "    <tr>\n",
              "      <th>0</th>\n",
              "      <td>1872-11-30</td>\n",
              "      <td>Scotland</td>\n",
              "      <td>England</td>\n",
              "      <td>0</td>\n",
              "      <td>0</td>\n",
              "      <td>Friendly</td>\n",
              "      <td>Glasgow</td>\n",
              "      <td>Scotland</td>\n",
              "      <td>False</td>\n",
              "    </tr>\n",
              "    <tr>\n",
              "      <th>1</th>\n",
              "      <td>1873-03-08</td>\n",
              "      <td>England</td>\n",
              "      <td>Scotland</td>\n",
              "      <td>4</td>\n",
              "      <td>2</td>\n",
              "      <td>Friendly</td>\n",
              "      <td>London</td>\n",
              "      <td>England</td>\n",
              "      <td>False</td>\n",
              "    </tr>\n",
              "    <tr>\n",
              "      <th>2</th>\n",
              "      <td>1874-03-07</td>\n",
              "      <td>Scotland</td>\n",
              "      <td>England</td>\n",
              "      <td>2</td>\n",
              "      <td>1</td>\n",
              "      <td>Friendly</td>\n",
              "      <td>Glasgow</td>\n",
              "      <td>Scotland</td>\n",
              "      <td>False</td>\n",
              "    </tr>\n",
              "    <tr>\n",
              "      <th>3</th>\n",
              "      <td>1875-03-06</td>\n",
              "      <td>England</td>\n",
              "      <td>Scotland</td>\n",
              "      <td>2</td>\n",
              "      <td>2</td>\n",
              "      <td>Friendly</td>\n",
              "      <td>London</td>\n",
              "      <td>England</td>\n",
              "      <td>False</td>\n",
              "    </tr>\n",
              "    <tr>\n",
              "      <th>4</th>\n",
              "      <td>1876-03-04</td>\n",
              "      <td>Scotland</td>\n",
              "      <td>England</td>\n",
              "      <td>3</td>\n",
              "      <td>0</td>\n",
              "      <td>Friendly</td>\n",
              "      <td>Glasgow</td>\n",
              "      <td>Scotland</td>\n",
              "      <td>False</td>\n",
              "    </tr>\n",
              "  </tbody>\n",
              "</table>\n",
              "</div>\n",
              "      <button class=\"colab-df-convert\" onclick=\"convertToInteractive('df-c5633184-6425-435e-89a4-4121716b7149')\"\n",
              "              title=\"Convert this dataframe to an interactive table.\"\n",
              "              style=\"display:none;\">\n",
              "        \n",
              "  <svg xmlns=\"http://www.w3.org/2000/svg\" height=\"24px\"viewBox=\"0 0 24 24\"\n",
              "       width=\"24px\">\n",
              "    <path d=\"M0 0h24v24H0V0z\" fill=\"none\"/>\n",
              "    <path d=\"M18.56 5.44l.94 2.06.94-2.06 2.06-.94-2.06-.94-.94-2.06-.94 2.06-2.06.94zm-11 1L8.5 8.5l.94-2.06 2.06-.94-2.06-.94L8.5 2.5l-.94 2.06-2.06.94zm10 10l.94 2.06.94-2.06 2.06-.94-2.06-.94-.94-2.06-.94 2.06-2.06.94z\"/><path d=\"M17.41 7.96l-1.37-1.37c-.4-.4-.92-.59-1.43-.59-.52 0-1.04.2-1.43.59L10.3 9.45l-7.72 7.72c-.78.78-.78 2.05 0 2.83L4 21.41c.39.39.9.59 1.41.59.51 0 1.02-.2 1.41-.59l7.78-7.78 2.81-2.81c.8-.78.8-2.07 0-2.86zM5.41 20L4 18.59l7.72-7.72 1.47 1.35L5.41 20z\"/>\n",
              "  </svg>\n",
              "      </button>\n",
              "      \n",
              "  <style>\n",
              "    .colab-df-container {\n",
              "      display:flex;\n",
              "      flex-wrap:wrap;\n",
              "      gap: 12px;\n",
              "    }\n",
              "\n",
              "    .colab-df-convert {\n",
              "      background-color: #E8F0FE;\n",
              "      border: none;\n",
              "      border-radius: 50%;\n",
              "      cursor: pointer;\n",
              "      display: none;\n",
              "      fill: #1967D2;\n",
              "      height: 32px;\n",
              "      padding: 0 0 0 0;\n",
              "      width: 32px;\n",
              "    }\n",
              "\n",
              "    .colab-df-convert:hover {\n",
              "      background-color: #E2EBFA;\n",
              "      box-shadow: 0px 1px 2px rgba(60, 64, 67, 0.3), 0px 1px 3px 1px rgba(60, 64, 67, 0.15);\n",
              "      fill: #174EA6;\n",
              "    }\n",
              "\n",
              "    [theme=dark] .colab-df-convert {\n",
              "      background-color: #3B4455;\n",
              "      fill: #D2E3FC;\n",
              "    }\n",
              "\n",
              "    [theme=dark] .colab-df-convert:hover {\n",
              "      background-color: #434B5C;\n",
              "      box-shadow: 0px 1px 3px 1px rgba(0, 0, 0, 0.15);\n",
              "      filter: drop-shadow(0px 1px 2px rgba(0, 0, 0, 0.3));\n",
              "      fill: #FFFFFF;\n",
              "    }\n",
              "  </style>\n",
              "\n",
              "      <script>\n",
              "        const buttonEl =\n",
              "          document.querySelector('#df-c5633184-6425-435e-89a4-4121716b7149 button.colab-df-convert');\n",
              "        buttonEl.style.display =\n",
              "          google.colab.kernel.accessAllowed ? 'block' : 'none';\n",
              "\n",
              "        async function convertToInteractive(key) {\n",
              "          const element = document.querySelector('#df-c5633184-6425-435e-89a4-4121716b7149');\n",
              "          const dataTable =\n",
              "            await google.colab.kernel.invokeFunction('convertToInteractive',\n",
              "                                                     [key], {});\n",
              "          if (!dataTable) return;\n",
              "\n",
              "          const docLinkHtml = 'Like what you see? Visit the ' +\n",
              "            '<a target=\"_blank\" href=https://colab.research.google.com/notebooks/data_table.ipynb>data table notebook</a>'\n",
              "            + ' to learn more about interactive tables.';\n",
              "          element.innerHTML = '';\n",
              "          dataTable['output_type'] = 'display_data';\n",
              "          await google.colab.output.renderOutput(dataTable, element);\n",
              "          const docLink = document.createElement('div');\n",
              "          docLink.innerHTML = docLinkHtml;\n",
              "          element.appendChild(docLink);\n",
              "        }\n",
              "      </script>\n",
              "    </div>\n",
              "  </div>\n",
              "  "
            ]
          },
          "metadata": {},
          "execution_count": 7
        }
      ]
    },
    {
      "cell_type": "code",
      "metadata": {
        "id": "e9AzGcZFrIIr",
        "colab": {
          "base_uri": "https://localhost:8080/",
          "height": 270
        },
        "outputId": "74464a2c-aa4c-4d27-dd68-83724278efbf"
      },
      "source": [
        "# Previewing the bottom of the datasets\n",
        "df_rank.tail()"
      ],
      "execution_count": null,
      "outputs": [
        {
          "output_type": "execute_result",
          "data": {
            "text/plain": [
              "       rank country_full country_abrv  total_points  previous_points  \\\n",
              "57788   206     Anguilla          AIA           0.0                0   \n",
              "57789   206      Bahamas          BAH           0.0                0   \n",
              "57790   206      Eritrea          ERI           0.0                0   \n",
              "57791   206      Somalia          SOM           0.0                0   \n",
              "57792   206        Tonga          TGA           0.0                0   \n",
              "\n",
              "       rank_change  cur_year_avg  cur_year_avg_weighted  last_year_avg  \\\n",
              "57788            1           0.0                    0.0            0.0   \n",
              "57789            1           0.0                    0.0            0.0   \n",
              "57790            1           0.0                    0.0            0.0   \n",
              "57791            1           0.0                    0.0            0.0   \n",
              "57792            1           0.0                    0.0            0.0   \n",
              "\n",
              "       last_year_avg_weighted  two_year_ago_avg  two_year_ago_weighted  \\\n",
              "57788                     0.0               0.0                    0.0   \n",
              "57789                     0.0               0.0                    0.0   \n",
              "57790                     0.0               0.0                    0.0   \n",
              "57791                     0.0               0.0                    0.0   \n",
              "57792                     0.0               0.0                    0.0   \n",
              "\n",
              "       three_year_ago_avg  three_year_ago_weighted confederation   rank_date  \n",
              "57788                 0.0                      0.0      CONCACAF  2018-06-07  \n",
              "57789                 0.0                      0.0      CONCACAF  2018-06-07  \n",
              "57790                 0.0                      0.0           CAF  2018-06-07  \n",
              "57791                 0.0                      0.0           CAF  2018-06-07  \n",
              "57792                 0.0                      0.0           OFC  2018-06-07  "
            ],
            "text/html": [
              "\n",
              "  <div id=\"df-dccbf65f-0aa4-40e6-ac5c-8c15f949a2c4\">\n",
              "    <div class=\"colab-df-container\">\n",
              "      <div>\n",
              "<style scoped>\n",
              "    .dataframe tbody tr th:only-of-type {\n",
              "        vertical-align: middle;\n",
              "    }\n",
              "\n",
              "    .dataframe tbody tr th {\n",
              "        vertical-align: top;\n",
              "    }\n",
              "\n",
              "    .dataframe thead th {\n",
              "        text-align: right;\n",
              "    }\n",
              "</style>\n",
              "<table border=\"1\" class=\"dataframe\">\n",
              "  <thead>\n",
              "    <tr style=\"text-align: right;\">\n",
              "      <th></th>\n",
              "      <th>rank</th>\n",
              "      <th>country_full</th>\n",
              "      <th>country_abrv</th>\n",
              "      <th>total_points</th>\n",
              "      <th>previous_points</th>\n",
              "      <th>rank_change</th>\n",
              "      <th>cur_year_avg</th>\n",
              "      <th>cur_year_avg_weighted</th>\n",
              "      <th>last_year_avg</th>\n",
              "      <th>last_year_avg_weighted</th>\n",
              "      <th>two_year_ago_avg</th>\n",
              "      <th>two_year_ago_weighted</th>\n",
              "      <th>three_year_ago_avg</th>\n",
              "      <th>three_year_ago_weighted</th>\n",
              "      <th>confederation</th>\n",
              "      <th>rank_date</th>\n",
              "    </tr>\n",
              "  </thead>\n",
              "  <tbody>\n",
              "    <tr>\n",
              "      <th>57788</th>\n",
              "      <td>206</td>\n",
              "      <td>Anguilla</td>\n",
              "      <td>AIA</td>\n",
              "      <td>0.0</td>\n",
              "      <td>0</td>\n",
              "      <td>1</td>\n",
              "      <td>0.0</td>\n",
              "      <td>0.0</td>\n",
              "      <td>0.0</td>\n",
              "      <td>0.0</td>\n",
              "      <td>0.0</td>\n",
              "      <td>0.0</td>\n",
              "      <td>0.0</td>\n",
              "      <td>0.0</td>\n",
              "      <td>CONCACAF</td>\n",
              "      <td>2018-06-07</td>\n",
              "    </tr>\n",
              "    <tr>\n",
              "      <th>57789</th>\n",
              "      <td>206</td>\n",
              "      <td>Bahamas</td>\n",
              "      <td>BAH</td>\n",
              "      <td>0.0</td>\n",
              "      <td>0</td>\n",
              "      <td>1</td>\n",
              "      <td>0.0</td>\n",
              "      <td>0.0</td>\n",
              "      <td>0.0</td>\n",
              "      <td>0.0</td>\n",
              "      <td>0.0</td>\n",
              "      <td>0.0</td>\n",
              "      <td>0.0</td>\n",
              "      <td>0.0</td>\n",
              "      <td>CONCACAF</td>\n",
              "      <td>2018-06-07</td>\n",
              "    </tr>\n",
              "    <tr>\n",
              "      <th>57790</th>\n",
              "      <td>206</td>\n",
              "      <td>Eritrea</td>\n",
              "      <td>ERI</td>\n",
              "      <td>0.0</td>\n",
              "      <td>0</td>\n",
              "      <td>1</td>\n",
              "      <td>0.0</td>\n",
              "      <td>0.0</td>\n",
              "      <td>0.0</td>\n",
              "      <td>0.0</td>\n",
              "      <td>0.0</td>\n",
              "      <td>0.0</td>\n",
              "      <td>0.0</td>\n",
              "      <td>0.0</td>\n",
              "      <td>CAF</td>\n",
              "      <td>2018-06-07</td>\n",
              "    </tr>\n",
              "    <tr>\n",
              "      <th>57791</th>\n",
              "      <td>206</td>\n",
              "      <td>Somalia</td>\n",
              "      <td>SOM</td>\n",
              "      <td>0.0</td>\n",
              "      <td>0</td>\n",
              "      <td>1</td>\n",
              "      <td>0.0</td>\n",
              "      <td>0.0</td>\n",
              "      <td>0.0</td>\n",
              "      <td>0.0</td>\n",
              "      <td>0.0</td>\n",
              "      <td>0.0</td>\n",
              "      <td>0.0</td>\n",
              "      <td>0.0</td>\n",
              "      <td>CAF</td>\n",
              "      <td>2018-06-07</td>\n",
              "    </tr>\n",
              "    <tr>\n",
              "      <th>57792</th>\n",
              "      <td>206</td>\n",
              "      <td>Tonga</td>\n",
              "      <td>TGA</td>\n",
              "      <td>0.0</td>\n",
              "      <td>0</td>\n",
              "      <td>1</td>\n",
              "      <td>0.0</td>\n",
              "      <td>0.0</td>\n",
              "      <td>0.0</td>\n",
              "      <td>0.0</td>\n",
              "      <td>0.0</td>\n",
              "      <td>0.0</td>\n",
              "      <td>0.0</td>\n",
              "      <td>0.0</td>\n",
              "      <td>OFC</td>\n",
              "      <td>2018-06-07</td>\n",
              "    </tr>\n",
              "  </tbody>\n",
              "</table>\n",
              "</div>\n",
              "      <button class=\"colab-df-convert\" onclick=\"convertToInteractive('df-dccbf65f-0aa4-40e6-ac5c-8c15f949a2c4')\"\n",
              "              title=\"Convert this dataframe to an interactive table.\"\n",
              "              style=\"display:none;\">\n",
              "        \n",
              "  <svg xmlns=\"http://www.w3.org/2000/svg\" height=\"24px\"viewBox=\"0 0 24 24\"\n",
              "       width=\"24px\">\n",
              "    <path d=\"M0 0h24v24H0V0z\" fill=\"none\"/>\n",
              "    <path d=\"M18.56 5.44l.94 2.06.94-2.06 2.06-.94-2.06-.94-.94-2.06-.94 2.06-2.06.94zm-11 1L8.5 8.5l.94-2.06 2.06-.94-2.06-.94L8.5 2.5l-.94 2.06-2.06.94zm10 10l.94 2.06.94-2.06 2.06-.94-2.06-.94-.94-2.06-.94 2.06-2.06.94z\"/><path d=\"M17.41 7.96l-1.37-1.37c-.4-.4-.92-.59-1.43-.59-.52 0-1.04.2-1.43.59L10.3 9.45l-7.72 7.72c-.78.78-.78 2.05 0 2.83L4 21.41c.39.39.9.59 1.41.59.51 0 1.02-.2 1.41-.59l7.78-7.78 2.81-2.81c.8-.78.8-2.07 0-2.86zM5.41 20L4 18.59l7.72-7.72 1.47 1.35L5.41 20z\"/>\n",
              "  </svg>\n",
              "      </button>\n",
              "      \n",
              "  <style>\n",
              "    .colab-df-container {\n",
              "      display:flex;\n",
              "      flex-wrap:wrap;\n",
              "      gap: 12px;\n",
              "    }\n",
              "\n",
              "    .colab-df-convert {\n",
              "      background-color: #E8F0FE;\n",
              "      border: none;\n",
              "      border-radius: 50%;\n",
              "      cursor: pointer;\n",
              "      display: none;\n",
              "      fill: #1967D2;\n",
              "      height: 32px;\n",
              "      padding: 0 0 0 0;\n",
              "      width: 32px;\n",
              "    }\n",
              "\n",
              "    .colab-df-convert:hover {\n",
              "      background-color: #E2EBFA;\n",
              "      box-shadow: 0px 1px 2px rgba(60, 64, 67, 0.3), 0px 1px 3px 1px rgba(60, 64, 67, 0.15);\n",
              "      fill: #174EA6;\n",
              "    }\n",
              "\n",
              "    [theme=dark] .colab-df-convert {\n",
              "      background-color: #3B4455;\n",
              "      fill: #D2E3FC;\n",
              "    }\n",
              "\n",
              "    [theme=dark] .colab-df-convert:hover {\n",
              "      background-color: #434B5C;\n",
              "      box-shadow: 0px 1px 3px 1px rgba(0, 0, 0, 0.15);\n",
              "      filter: drop-shadow(0px 1px 2px rgba(0, 0, 0, 0.3));\n",
              "      fill: #FFFFFF;\n",
              "    }\n",
              "  </style>\n",
              "\n",
              "      <script>\n",
              "        const buttonEl =\n",
              "          document.querySelector('#df-dccbf65f-0aa4-40e6-ac5c-8c15f949a2c4 button.colab-df-convert');\n",
              "        buttonEl.style.display =\n",
              "          google.colab.kernel.accessAllowed ? 'block' : 'none';\n",
              "\n",
              "        async function convertToInteractive(key) {\n",
              "          const element = document.querySelector('#df-dccbf65f-0aa4-40e6-ac5c-8c15f949a2c4');\n",
              "          const dataTable =\n",
              "            await google.colab.kernel.invokeFunction('convertToInteractive',\n",
              "                                                     [key], {});\n",
              "          if (!dataTable) return;\n",
              "\n",
              "          const docLinkHtml = 'Like what you see? Visit the ' +\n",
              "            '<a target=\"_blank\" href=https://colab.research.google.com/notebooks/data_table.ipynb>data table notebook</a>'\n",
              "            + ' to learn more about interactive tables.';\n",
              "          element.innerHTML = '';\n",
              "          dataTable['output_type'] = 'display_data';\n",
              "          await google.colab.output.renderOutput(dataTable, element);\n",
              "          const docLink = document.createElement('div');\n",
              "          docLink.innerHTML = docLinkHtml;\n",
              "          element.appendChild(docLink);\n",
              "        }\n",
              "      </script>\n",
              "    </div>\n",
              "  </div>\n",
              "  "
            ]
          },
          "metadata": {},
          "execution_count": 8
        }
      ]
    },
    {
      "cell_type": "code",
      "source": [
        "df_res.tail()"
      ],
      "metadata": {
        "colab": {
          "base_uri": "https://localhost:8080/",
          "height": 337
        },
        "id": "QVlIz20EYJJ8",
        "outputId": "72b7999a-952f-4738-8f21-964c764b9edd"
      },
      "execution_count": null,
      "outputs": [
        {
          "output_type": "execute_result",
          "data": {
            "text/plain": [
              "             date         home_team        away_team  home_score  away_score  \\\n",
              "40834  2019-07-18    American Samoa           Tahiti           8           1   \n",
              "40835  2019-07-18              Fiji  Solomon Islands           4           4   \n",
              "40836  2019-07-19           Senegal          Algeria           0           1   \n",
              "40837  2019-07-19        Tajikistan      North Korea           0           1   \n",
              "40838  2019-07-20  Papua New Guinea             Fiji           1           1   \n",
              "\n",
              "                   tournament       city country  neutral  \n",
              "40834           Pacific Games       Apia   Samoa     True  \n",
              "40835           Pacific Games       Apia   Samoa     True  \n",
              "40836  African Cup of Nations      Cairo   Egypt     True  \n",
              "40837    Intercontinental Cup  Ahmedabad   India     True  \n",
              "40838           Pacific Games       Apia   Samoa     True  "
            ],
            "text/html": [
              "\n",
              "  <div id=\"df-0bfc3101-46db-41f3-96eb-33c9d8ec1366\">\n",
              "    <div class=\"colab-df-container\">\n",
              "      <div>\n",
              "<style scoped>\n",
              "    .dataframe tbody tr th:only-of-type {\n",
              "        vertical-align: middle;\n",
              "    }\n",
              "\n",
              "    .dataframe tbody tr th {\n",
              "        vertical-align: top;\n",
              "    }\n",
              "\n",
              "    .dataframe thead th {\n",
              "        text-align: right;\n",
              "    }\n",
              "</style>\n",
              "<table border=\"1\" class=\"dataframe\">\n",
              "  <thead>\n",
              "    <tr style=\"text-align: right;\">\n",
              "      <th></th>\n",
              "      <th>date</th>\n",
              "      <th>home_team</th>\n",
              "      <th>away_team</th>\n",
              "      <th>home_score</th>\n",
              "      <th>away_score</th>\n",
              "      <th>tournament</th>\n",
              "      <th>city</th>\n",
              "      <th>country</th>\n",
              "      <th>neutral</th>\n",
              "    </tr>\n",
              "  </thead>\n",
              "  <tbody>\n",
              "    <tr>\n",
              "      <th>40834</th>\n",
              "      <td>2019-07-18</td>\n",
              "      <td>American Samoa</td>\n",
              "      <td>Tahiti</td>\n",
              "      <td>8</td>\n",
              "      <td>1</td>\n",
              "      <td>Pacific Games</td>\n",
              "      <td>Apia</td>\n",
              "      <td>Samoa</td>\n",
              "      <td>True</td>\n",
              "    </tr>\n",
              "    <tr>\n",
              "      <th>40835</th>\n",
              "      <td>2019-07-18</td>\n",
              "      <td>Fiji</td>\n",
              "      <td>Solomon Islands</td>\n",
              "      <td>4</td>\n",
              "      <td>4</td>\n",
              "      <td>Pacific Games</td>\n",
              "      <td>Apia</td>\n",
              "      <td>Samoa</td>\n",
              "      <td>True</td>\n",
              "    </tr>\n",
              "    <tr>\n",
              "      <th>40836</th>\n",
              "      <td>2019-07-19</td>\n",
              "      <td>Senegal</td>\n",
              "      <td>Algeria</td>\n",
              "      <td>0</td>\n",
              "      <td>1</td>\n",
              "      <td>African Cup of Nations</td>\n",
              "      <td>Cairo</td>\n",
              "      <td>Egypt</td>\n",
              "      <td>True</td>\n",
              "    </tr>\n",
              "    <tr>\n",
              "      <th>40837</th>\n",
              "      <td>2019-07-19</td>\n",
              "      <td>Tajikistan</td>\n",
              "      <td>North Korea</td>\n",
              "      <td>0</td>\n",
              "      <td>1</td>\n",
              "      <td>Intercontinental Cup</td>\n",
              "      <td>Ahmedabad</td>\n",
              "      <td>India</td>\n",
              "      <td>True</td>\n",
              "    </tr>\n",
              "    <tr>\n",
              "      <th>40838</th>\n",
              "      <td>2019-07-20</td>\n",
              "      <td>Papua New Guinea</td>\n",
              "      <td>Fiji</td>\n",
              "      <td>1</td>\n",
              "      <td>1</td>\n",
              "      <td>Pacific Games</td>\n",
              "      <td>Apia</td>\n",
              "      <td>Samoa</td>\n",
              "      <td>True</td>\n",
              "    </tr>\n",
              "  </tbody>\n",
              "</table>\n",
              "</div>\n",
              "      <button class=\"colab-df-convert\" onclick=\"convertToInteractive('df-0bfc3101-46db-41f3-96eb-33c9d8ec1366')\"\n",
              "              title=\"Convert this dataframe to an interactive table.\"\n",
              "              style=\"display:none;\">\n",
              "        \n",
              "  <svg xmlns=\"http://www.w3.org/2000/svg\" height=\"24px\"viewBox=\"0 0 24 24\"\n",
              "       width=\"24px\">\n",
              "    <path d=\"M0 0h24v24H0V0z\" fill=\"none\"/>\n",
              "    <path d=\"M18.56 5.44l.94 2.06.94-2.06 2.06-.94-2.06-.94-.94-2.06-.94 2.06-2.06.94zm-11 1L8.5 8.5l.94-2.06 2.06-.94-2.06-.94L8.5 2.5l-.94 2.06-2.06.94zm10 10l.94 2.06.94-2.06 2.06-.94-2.06-.94-.94-2.06-.94 2.06-2.06.94z\"/><path d=\"M17.41 7.96l-1.37-1.37c-.4-.4-.92-.59-1.43-.59-.52 0-1.04.2-1.43.59L10.3 9.45l-7.72 7.72c-.78.78-.78 2.05 0 2.83L4 21.41c.39.39.9.59 1.41.59.51 0 1.02-.2 1.41-.59l7.78-7.78 2.81-2.81c.8-.78.8-2.07 0-2.86zM5.41 20L4 18.59l7.72-7.72 1.47 1.35L5.41 20z\"/>\n",
              "  </svg>\n",
              "      </button>\n",
              "      \n",
              "  <style>\n",
              "    .colab-df-container {\n",
              "      display:flex;\n",
              "      flex-wrap:wrap;\n",
              "      gap: 12px;\n",
              "    }\n",
              "\n",
              "    .colab-df-convert {\n",
              "      background-color: #E8F0FE;\n",
              "      border: none;\n",
              "      border-radius: 50%;\n",
              "      cursor: pointer;\n",
              "      display: none;\n",
              "      fill: #1967D2;\n",
              "      height: 32px;\n",
              "      padding: 0 0 0 0;\n",
              "      width: 32px;\n",
              "    }\n",
              "\n",
              "    .colab-df-convert:hover {\n",
              "      background-color: #E2EBFA;\n",
              "      box-shadow: 0px 1px 2px rgba(60, 64, 67, 0.3), 0px 1px 3px 1px rgba(60, 64, 67, 0.15);\n",
              "      fill: #174EA6;\n",
              "    }\n",
              "\n",
              "    [theme=dark] .colab-df-convert {\n",
              "      background-color: #3B4455;\n",
              "      fill: #D2E3FC;\n",
              "    }\n",
              "\n",
              "    [theme=dark] .colab-df-convert:hover {\n",
              "      background-color: #434B5C;\n",
              "      box-shadow: 0px 1px 3px 1px rgba(0, 0, 0, 0.15);\n",
              "      filter: drop-shadow(0px 1px 2px rgba(0, 0, 0, 0.3));\n",
              "      fill: #FFFFFF;\n",
              "    }\n",
              "  </style>\n",
              "\n",
              "      <script>\n",
              "        const buttonEl =\n",
              "          document.querySelector('#df-0bfc3101-46db-41f3-96eb-33c9d8ec1366 button.colab-df-convert');\n",
              "        buttonEl.style.display =\n",
              "          google.colab.kernel.accessAllowed ? 'block' : 'none';\n",
              "\n",
              "        async function convertToInteractive(key) {\n",
              "          const element = document.querySelector('#df-0bfc3101-46db-41f3-96eb-33c9d8ec1366');\n",
              "          const dataTable =\n",
              "            await google.colab.kernel.invokeFunction('convertToInteractive',\n",
              "                                                     [key], {});\n",
              "          if (!dataTable) return;\n",
              "\n",
              "          const docLinkHtml = 'Like what you see? Visit the ' +\n",
              "            '<a target=\"_blank\" href=https://colab.research.google.com/notebooks/data_table.ipynb>data table notebook</a>'\n",
              "            + ' to learn more about interactive tables.';\n",
              "          element.innerHTML = '';\n",
              "          dataTable['output_type'] = 'display_data';\n",
              "          await google.colab.output.renderOutput(dataTable, element);\n",
              "          const docLink = document.createElement('div');\n",
              "          docLink.innerHTML = docLinkHtml;\n",
              "          element.appendChild(docLink);\n",
              "        }\n",
              "      </script>\n",
              "    </div>\n",
              "  </div>\n",
              "  "
            ]
          },
          "metadata": {},
          "execution_count": 9
        }
      ]
    },
    {
      "cell_type": "code",
      "metadata": {
        "id": "n8-dW4sQWzbc",
        "colab": {
          "base_uri": "https://localhost:8080/"
        },
        "outputId": "a2cc2044-eb1a-46b0-d239-9daf7f345019"
      },
      "source": [
        "# Checking datatypes and other column info\n",
        "\n",
        "df_rank.info()"
      ],
      "execution_count": null,
      "outputs": [
        {
          "output_type": "stream",
          "name": "stdout",
          "text": [
            "<class 'pandas.core.frame.DataFrame'>\n",
            "RangeIndex: 57793 entries, 0 to 57792\n",
            "Data columns (total 16 columns):\n",
            " #   Column                   Non-Null Count  Dtype  \n",
            "---  ------                   --------------  -----  \n",
            " 0   rank                     57793 non-null  int64  \n",
            " 1   country_full             57793 non-null  object \n",
            " 2   country_abrv             57793 non-null  object \n",
            " 3   total_points             57793 non-null  float64\n",
            " 4   previous_points          57793 non-null  int64  \n",
            " 5   rank_change              57793 non-null  int64  \n",
            " 6   cur_year_avg             57793 non-null  float64\n",
            " 7   cur_year_avg_weighted    57793 non-null  float64\n",
            " 8   last_year_avg            57793 non-null  float64\n",
            " 9   last_year_avg_weighted   57793 non-null  float64\n",
            " 10  two_year_ago_avg         57793 non-null  float64\n",
            " 11  two_year_ago_weighted    57793 non-null  float64\n",
            " 12  three_year_ago_avg       57793 non-null  float64\n",
            " 13  three_year_ago_weighted  57793 non-null  float64\n",
            " 14  confederation            57793 non-null  object \n",
            " 15  rank_date                57793 non-null  object \n",
            "dtypes: float64(9), int64(3), object(4)\n",
            "memory usage: 7.1+ MB\n"
          ]
        }
      ]
    },
    {
      "cell_type": "code",
      "source": [
        "df_res.info()"
      ],
      "metadata": {
        "colab": {
          "base_uri": "https://localhost:8080/"
        },
        "id": "Tcn6dAsoY3df",
        "outputId": "51a76381-72da-4627-e6e9-53b338106c0c"
      },
      "execution_count": null,
      "outputs": [
        {
          "output_type": "stream",
          "name": "stdout",
          "text": [
            "<class 'pandas.core.frame.DataFrame'>\n",
            "RangeIndex: 40839 entries, 0 to 40838\n",
            "Data columns (total 9 columns):\n",
            " #   Column      Non-Null Count  Dtype \n",
            "---  ------      --------------  ----- \n",
            " 0   date        40839 non-null  object\n",
            " 1   home_team   40839 non-null  object\n",
            " 2   away_team   40839 non-null  object\n",
            " 3   home_score  40839 non-null  int64 \n",
            " 4   away_score  40839 non-null  int64 \n",
            " 5   tournament  40839 non-null  object\n",
            " 6   city        40839 non-null  object\n",
            " 7   country     40839 non-null  object\n",
            " 8   neutral     40839 non-null  bool  \n",
            "dtypes: bool(1), int64(2), object(6)\n",
            "memory usage: 2.5+ MB\n"
          ]
        }
      ]
    },
    {
      "cell_type": "markdown",
      "metadata": {
        "id": "FlBMxEDBUc9B"
      },
      "source": [
        "## Tidying the Dataset"
      ]
    },
    {
      "cell_type": "code",
      "metadata": {
        "id": "5o_bQcT5W3Wz",
        "colab": {
          "base_uri": "https://localhost:8080/",
          "height": 1000
        },
        "outputId": "124bdd91-924c-40f2-be4c-46410eda1337"
      },
      "source": [
        "# Checking for Outliers\n",
        "#\n",
        "#main columns of interest: home team score, away team score, tournament type, rank, date columns, home team, away team\n",
        "#numerical columns of interest- home team score, away team score, rank\n",
        "cols = ['rank', 'home_score', 'away_score',]\n",
        "def title(col):\n",
        "  if '_' in col:\n",
        "    return col.replace('_', ' ')\n",
        "  else:\n",
        "    return col\n",
        "for col in cols:\n",
        "  if col == 'rank':\n",
        "    df_rank.boxplot(col, grid=False)\n",
        "  else:\n",
        "    df_res.boxplot(col, grid=False)\n",
        "  plt.title(title(col))\n",
        "  plt.gcf().set_size_inches(6,6)\n",
        "  plt.show()\n",
        "  print('****************************************************')"
      ],
      "execution_count": null,
      "outputs": [
        {
          "output_type": "display_data",
          "data": {
            "text/plain": [
              "<Figure size 432x432 with 1 Axes>"
            ],
            "image/png": "[encoded data removed]"
          },
          "metadata": {
            "needs_background": "light"
          }
        },
        {
          "output_type": "stream",
          "name": "stdout",
          "text": [
            "****************************************************\n"
          ]
        },
        {
          "output_type": "display_data",
          "data": {
            "text/plain": [
              "<Figure size 432x432 with 1 Axes>"
            ],
            "image/png": "[encoded data removed]"
          },
          "metadata": {
            "needs_background": "light"
          }
        },
        {
          "output_type": "stream",
          "name": "stdout",
          "text": [
            "****************************************************\n"
          ]
        },
        {
          "output_type": "display_data",
          "data": {
            "text/plain": [
              "<Figure size 432x432 with 1 Axes>"
            ],
            "image/png": "[encoded data removed]"
          },
          "metadata": {
            "needs_background": "light"
          }
        },
        {
          "output_type": "stream",
          "name": "stdout",
          "text": [
            "****************************************************\n"
          ]
        }
      ]
    },
    {
      "cell_type": "markdown",
      "source": [
        "There were outliers observed in home and away scores, but we will not drop the outliers. It was verified that on occasion home or away teams beat their opponents with scores as high as 30 - 0, etc. Therefore the high values are not erroneous."
      ],
      "metadata": {
        "id": "U1JLKtEmuHKg"
      }
    },
    {
      "cell_type": "code",
      "source": [
        "#verified these match results to be accurate\n",
        "df_res[df_res['home_score'] > 29]"
      ],
      "metadata": {
        "colab": {
          "base_uri": "https://localhost:8080/",
          "height": 191
        },
        "id": "2IRg_zXTtTBR",
        "outputId": "762a387b-9bc5-4229-b90a-a0cb31c3de31"
      },
      "execution_count": null,
      "outputs": [
        {
          "output_type": "execute_result",
          "data": {
            "text/plain": [
              "             date  home_team       away_team  home_score  away_score  \\\n",
              "7893   1971-09-13     Tahiti    Cook Islands          30           0   \n",
              "23781  2001-04-11  Australia  American Samoa          31           0   \n",
              "\n",
              "                         tournament           city           country  neutral  \n",
              "7893            South Pacific Games        Papeete  French Polynesia    False  \n",
              "23781  FIFA World Cup qualification  Coffs Harbour         Australia    False  "
            ],
            "text/html": [
              "\n",
              "  <div id=\"df-e7b061a3-1af4-40ad-8d60-9d6acbef4f83\">\n",
              "    <div class=\"colab-df-container\">\n",
              "      <div>\n",
              "<style scoped>\n",
              "    .dataframe tbody tr th:only-of-type {\n",
              "        vertical-align: middle;\n",
              "    }\n",
              "\n",
              "    .dataframe tbody tr th {\n",
              "        vertical-align: top;\n",
              "    }\n",
              "\n",
              "    .dataframe thead th {\n",
              "        text-align: right;\n",
              "    }\n",
              "</style>\n",
              "<table border=\"1\" class=\"dataframe\">\n",
              "  <thead>\n",
              "    <tr style=\"text-align: right;\">\n",
              "      <th></th>\n",
              "      <th>date</th>\n",
              "      <th>home_team</th>\n",
              "      <th>away_team</th>\n",
              "      <th>home_score</th>\n",
              "      <th>away_score</th>\n",
              "      <th>tournament</th>\n",
              "      <th>city</th>\n",
              "      <th>country</th>\n",
              "      <th>neutral</th>\n",
              "    </tr>\n",
              "  </thead>\n",
              "  <tbody>\n",
              "    <tr>\n",
              "      <th>7893</th>\n",
              "      <td>1971-09-13</td>\n",
              "      <td>Tahiti</td>\n",
              "      <td>Cook Islands</td>\n",
              "      <td>30</td>\n",
              "      <td>0</td>\n",
              "      <td>South Pacific Games</td>\n",
              "      <td>Papeete</td>\n",
              "      <td>French Polynesia</td>\n",
              "      <td>False</td>\n",
              "    </tr>\n",
              "    <tr>\n",
              "      <th>23781</th>\n",
              "      <td>2001-04-11</td>\n",
              "      <td>Australia</td>\n",
              "      <td>American Samoa</td>\n",
              "      <td>31</td>\n",
              "      <td>0</td>\n",
              "      <td>FIFA World Cup qualification</td>\n",
              "      <td>Coffs Harbour</td>\n",
              "      <td>Australia</td>\n",
              "      <td>False</td>\n",
              "    </tr>\n",
              "  </tbody>\n",
              "</table>\n",
              "</div>\n",
              "      <button class=\"colab-df-convert\" onclick=\"convertToInteractive('df-e7b061a3-1af4-40ad-8d60-9d6acbef4f83')\"\n",
              "              title=\"Convert this dataframe to an interactive table.\"\n",
              "              style=\"display:none;\">\n",
              "        \n",
              "  <svg xmlns=\"http://www.w3.org/2000/svg\" height=\"24px\"viewBox=\"0 0 24 24\"\n",
              "       width=\"24px\">\n",
              "    <path d=\"M0 0h24v24H0V0z\" fill=\"none\"/>\n",
              "    <path d=\"M18.56 5.44l.94 2.06.94-2.06 2.06-.94-2.06-.94-.94-2.06-.94 2.06-2.06.94zm-11 1L8.5 8.5l.94-2.06 2.06-.94-2.06-.94L8.5 2.5l-.94 2.06-2.06.94zm10 10l.94 2.06.94-2.06 2.06-.94-2.06-.94-.94-2.06-.94 2.06-2.06.94z\"/><path d=\"M17.41 7.96l-1.37-1.37c-.4-.4-.92-.59-1.43-.59-.52 0-1.04.2-1.43.59L10.3 9.45l-7.72 7.72c-.78.78-.78 2.05 0 2.83L4 21.41c.39.39.9.59 1.41.59.51 0 1.02-.2 1.41-.59l7.78-7.78 2.81-2.81c.8-.78.8-2.07 0-2.86zM5.41 20L4 18.59l7.72-7.72 1.47 1.35L5.41 20z\"/>\n",
              "  </svg>\n",
              "      </button>\n",
              "      \n",
              "  <style>\n",
              "    .colab-df-container {\n",
              "      display:flex;\n",
              "      flex-wrap:wrap;\n",
              "      gap: 12px;\n",
              "    }\n",
              "\n",
              "    .colab-df-convert {\n",
              "      background-color: #E8F0FE;\n",
              "      border: none;\n",
              "      border-radius: 50%;\n",
              "      cursor: pointer;\n",
              "      display: none;\n",
              "      fill: #1967D2;\n",
              "      height: 32px;\n",
              "      padding: 0 0 0 0;\n",
              "      width: 32px;\n",
              "    }\n",
              "\n",
              "    .colab-df-convert:hover {\n",
              "      background-color: #E2EBFA;\n",
              "      box-shadow: 0px 1px 2px rgba(60, 64, 67, 0.3), 0px 1px 3px 1px rgba(60, 64, 67, 0.15);\n",
              "      fill: #174EA6;\n",
              "    }\n",
              "\n",
              "    [theme=dark] .colab-df-convert {\n",
              "      background-color: #3B4455;\n",
              "      fill: #D2E3FC;\n",
              "    }\n",
              "\n",
              "    [theme=dark] .colab-df-convert:hover {\n",
              "      background-color: #434B5C;\n",
              "      box-shadow: 0px 1px 3px 1px rgba(0, 0, 0, 0.15);\n",
              "      filter: drop-shadow(0px 1px 2px rgba(0, 0, 0, 0.3));\n",
              "      fill: #FFFFFF;\n",
              "    }\n",
              "  </style>\n",
              "\n",
              "      <script>\n",
              "        const buttonEl =\n",
              "          document.querySelector('#df-e7b061a3-1af4-40ad-8d60-9d6acbef4f83 button.colab-df-convert');\n",
              "        buttonEl.style.display =\n",
              "          google.colab.kernel.accessAllowed ? 'block' : 'none';\n",
              "\n",
              "        async function convertToInteractive(key) {\n",
              "          const element = document.querySelector('#df-e7b061a3-1af4-40ad-8d60-9d6acbef4f83');\n",
              "          const dataTable =\n",
              "            await google.colab.kernel.invokeFunction('convertToInteractive',\n",
              "                                                     [key], {});\n",
              "          if (!dataTable) return;\n",
              "\n",
              "          const docLinkHtml = 'Like what you see? Visit the ' +\n",
              "            '<a target=\"_blank\" href=https://colab.research.google.com/notebooks/data_table.ipynb>data table notebook</a>'\n",
              "            + ' to learn more about interactive tables.';\n",
              "          element.innerHTML = '';\n",
              "          dataTable['output_type'] = 'display_data';\n",
              "          await google.colab.output.renderOutput(dataTable, element);\n",
              "          const docLink = document.createElement('div');\n",
              "          docLink.innerHTML = docLinkHtml;\n",
              "          element.appendChild(docLink);\n",
              "        }\n",
              "      </script>\n",
              "    </div>\n",
              "  </div>\n",
              "  "
            ]
          },
          "metadata": {},
          "execution_count": 15
        }
      ]
    },
    {
      "cell_type": "code",
      "source": [
        "#checking the number of unique dates in the rank dataset to have an overview of how many times\n",
        "#the ranks were updated\n",
        "print(df_rank['rank_date'].nunique())"
      ],
      "metadata": {
        "colab": {
          "base_uri": "https://localhost:8080/"
        },
        "id": "CrENuYC29Jrm",
        "outputId": "2a0bc95d-417b-4304-cac0-30b9b353d126"
      },
      "execution_count": null,
      "outputs": [
        {
          "output_type": "stream",
          "name": "stdout",
          "text": [
            "286\n"
          ]
        }
      ]
    },
    {
      "cell_type": "code",
      "source": [
        "#seeing the number of unique entries in categorical columns of interest in the scores dataset\n",
        "cols = ['tournament', 'home_team', 'away_team', 'date']\n",
        "for col in cols:\n",
        "  print(f'{col} column unique values: \\n')\n",
        "  print(df_res[col].nunique(), end='\\n')\n",
        "  print('**********')\n",
        "  print('\\n')"
      ],
      "metadata": {
        "colab": {
          "base_uri": "https://localhost:8080/"
        },
        "id": "FkSQFW6n9TQK",
        "outputId": "7336aa1a-9508-45d1-cf60-3ea1ed937832"
      },
      "execution_count": null,
      "outputs": [
        {
          "output_type": "stream",
          "name": "stdout",
          "text": [
            "tournament column unique values: \n",
            "\n",
            "109\n",
            "**********\n",
            "\n",
            "\n",
            "home_team column unique values: \n",
            "\n",
            "309\n",
            "**********\n",
            "\n",
            "\n",
            "away_team column unique values: \n",
            "\n",
            "306\n",
            "**********\n",
            "\n",
            "\n",
            "date column unique values: \n",
            "\n",
            "15115\n",
            "**********\n",
            "\n",
            "\n"
          ]
        }
      ]
    },
    {
      "cell_type": "code",
      "metadata": {
        "id": "PvCYb6dgW4yh",
        "colab": {
          "base_uri": "https://localhost:8080/"
        },
        "outputId": "c5d78e7d-e8ab-4b87-8d7b-ecdf4fdfd8ea"
      },
      "source": [
        "# Identifying the Missing Data\n",
        "#\n",
        "df_rank.isnull().sum()"
      ],
      "execution_count": null,
      "outputs": [
        {
          "output_type": "execute_result",
          "data": {
            "text/plain": [
              "rank                       0\n",
              "country_full               0\n",
              "country_abrv               0\n",
              "total_points               0\n",
              "previous_points            0\n",
              "rank_change                0\n",
              "cur_year_avg               0\n",
              "cur_year_avg_weighted      0\n",
              "last_year_avg              0\n",
              "last_year_avg_weighted     0\n",
              "two_year_ago_avg           0\n",
              "two_year_ago_weighted      0\n",
              "three_year_ago_avg         0\n",
              "three_year_ago_weighted    0\n",
              "confederation              0\n",
              "rank_date                  0\n",
              "dtype: int64"
            ]
          },
          "metadata": {},
          "execution_count": 21
        }
      ]
    },
    {
      "cell_type": "code",
      "source": [
        "df_res.isnull().sum()"
      ],
      "metadata": {
        "colab": {
          "base_uri": "https://localhost:8080/"
        },
        "id": "qVmx0S9f3Me5",
        "outputId": "edd63eaa-5b77-42e5-8855-dc81b6a2ea04"
      },
      "execution_count": null,
      "outputs": [
        {
          "output_type": "execute_result",
          "data": {
            "text/plain": [
              "date          0\n",
              "home_team     0\n",
              "away_team     0\n",
              "home_score    0\n",
              "away_score    0\n",
              "tournament    0\n",
              "city          0\n",
              "country       0\n",
              "neutral       0\n",
              "dtype: int64"
            ]
          },
          "metadata": {},
          "execution_count": 22
        }
      ]
    },
    {
      "cell_type": "code",
      "metadata": {
        "id": "D-4I__6Os4C5",
        "colab": {
          "base_uri": "https://localhost:8080/"
        },
        "outputId": "23b75d95-219f-4b5f-9bfc-2c29ce276acc"
      },
      "source": [
        "# Checking for duplicates\n",
        "#\n",
        "df_res.duplicated().any()"
      ],
      "execution_count": null,
      "outputs": [
        {
          "output_type": "execute_result",
          "data": {
            "text/plain": [
              "False"
            ]
          },
          "metadata": {},
          "execution_count": 23
        }
      ]
    },
    {
      "cell_type": "code",
      "source": [
        "df_rank.duplicated().sum()"
      ],
      "metadata": {
        "colab": {
          "base_uri": "https://localhost:8080/"
        },
        "id": "JPfW-b0g3bY9",
        "outputId": "3d569fb3-8c90-4896-b9d9-9ff77d4c33f5"
      },
      "execution_count": null,
      "outputs": [
        {
          "output_type": "execute_result",
          "data": {
            "text/plain": [
              "37"
            ]
          },
          "metadata": {},
          "execution_count": 24
        }
      ]
    },
    {
      "cell_type": "code",
      "source": [
        "\n",
        "df_rank[df_rank.duplicated()]\n",
        "#Sudan's entries appear to have been duplicated"
      ],
      "metadata": {
        "colab": {
          "base_uri": "https://localhost:8080/",
          "height": 1000
        },
        "id": "_-n3J8-73f2s",
        "outputId": "b606627b-61aa-4520-c4b1-322ab5deeb55"
      },
      "execution_count": null,
      "outputs": [
        {
          "output_type": "execute_result",
          "data": {
            "text/plain": [
              "       rank country_full country_abrv  total_points  previous_points  \\\n",
              "41320   113        Sudan          SDN        297.13              304   \n",
              "41536   120        Sudan          SDN        264.81              297   \n",
              "41736   111        Sudan          SDN        301.67              265   \n",
              "41944   110        Sudan          SDN        299.75              302   \n",
              "42157   113        Sudan          SDN        292.03              300   \n",
              "42366   113        Sudan          SDN        292.03              292   \n",
              "42562   101        Sudan          SDN        338.25              292   \n",
              "42775   105        Sudan          SDN        329.36              338   \n",
              "42983   104        Sudan          SDN        329.36              329   \n",
              "43193   103        Sudan          SDN        331.79              329   \n",
              "43399   100        Sudan          SDN        350.66              332   \n",
              "43611   102        Sudan          SDN        333.08              351   \n",
              "43821   101        Sudan          SDN        348.90              333   \n",
              "44029   100        Sudan          SDN        361.33              349   \n",
              "44243   104        Sudan          SDN        343.15              361   \n",
              "44476   127        Sudan          SDN        241.12              343   \n",
              "44692   133        Sudan          SDN        223.96              241   \n",
              "44903   134        Sudan          SDN        223.96              224   \n",
              "45114   135        Sudan          SDN        223.86              224   \n",
              "45324   134        Sudan          SDN        232.99              224   \n",
              "45534   135        Sudan          SDN        228.45              233   \n",
              "45749   140        Sudan          SDN        204.37              228   \n",
              "45955   136        Sudan          SDN        215.20              204   \n",
              "46160   130        Sudan          SDN        217.69              215   \n",
              "46358   119        Sudan          SDN        258.83              218   \n",
              "46568   119        Sudan          SDN        258.07              259   \n",
              "46782   123        Sudan          SDN        236.01              258   \n",
              "46991   122        Sudan          SDN        236.01              236   \n",
              "47196   117        Sudan          SDN        240.64              236   \n",
              "47406   117        Sudan          SDN        240.64              241   \n",
              "47619   120        Sudan          SDN        254.31              241   \n",
              "47824   115        Sudan          SDN        256.36              254   \n",
              "48035   115        Sudan          SDN        263.21              256   \n",
              "48262   133        Sudan          SDN        220.73              263   \n",
              "48446   107        Sudan          SDN        297.62              221   \n",
              "48664   115        Sudan          SDN        265.36              298   \n",
              "48869   110        Sudan          SDN        294.24              265   \n",
              "\n",
              "       rank_change  cur_year_avg  cur_year_avg_weighted  last_year_avg  \\\n",
              "41320           -1        126.55                 126.55         219.72   \n",
              "41536           -7        129.14                 129.14         163.12   \n",
              "41736            9        156.34                 156.34         163.12   \n",
              "41944            1        156.34                 156.34         163.12   \n",
              "42157           -3        149.12                 149.12         180.83   \n",
              "42366            0        149.12                 149.12         180.83   \n",
              "42562           12        179.70                 179.70         209.32   \n",
              "42775           -4        171.57                 171.57         229.19   \n",
              "42983            1        171.57                 171.57         229.19   \n",
              "43193            1        169.05                 169.05         187.77   \n",
              "43399            3        186.58                 186.58         187.77   \n",
              "43611           -2        178.47                 178.47         155.52   \n",
              "43821            1        206.25                 206.25         126.55   \n",
              "44029            1        243.75                 243.75         120.92   \n",
              "44243           -4        207.86                 207.86         156.34   \n",
              "44476          -23        104.66                 104.66         156.34   \n",
              "44692           -6         95.15                  95.15         149.12   \n",
              "44903           -1         95.15                  95.15         149.12   \n",
              "45114           -1         93.24                  93.24         132.79   \n",
              "45324            1         98.24                  98.24         128.57   \n",
              "45534           -1         93.71                  93.71         128.57   \n",
              "45749           -5         55.29                  55.29         133.60   \n",
              "45955            4         60.32                  60.32         133.60   \n",
              "46160            6         66.35                  66.35         139.16   \n",
              "46358           11        104.15                 104.15         145.54   \n",
              "46568            0        104.15                 104.15         170.03   \n",
              "46782           -4        104.15                 104.15         104.66   \n",
              "46991            1        104.15                 104.15         104.66   \n",
              "47196            5        112.16                 112.16          95.15   \n",
              "47406            0        112.16                 112.16          95.15   \n",
              "47619           -3        125.99                 125.99          93.24   \n",
              "47824            5        124.06                 124.06          95.78   \n",
              "48035            0        131.95                 131.95          93.71   \n",
              "48262          -18        115.46                 115.46          55.29   \n",
              "48446           26        196.28                 196.28          60.32   \n",
              "48664           -8        163.56                 163.56          66.35   \n",
              "48869            5        173.19                 173.19         104.15   \n",
              "\n",
              "       last_year_avg_weighted  two_year_ago_avg  two_year_ago_weighted  \\\n",
              "41320                  109.86             67.36                  20.21   \n",
              "41536                   81.56             40.91                  12.27   \n",
              "41736                   81.56             40.91                  12.27   \n",
              "41944                   81.56             46.75                  14.03   \n",
              "42157                   90.42              0.00                   0.00   \n",
              "42366                   90.42              0.00                   0.00   \n",
              "42562                  104.66              7.08                   2.12   \n",
              "42775                  114.60              8.50                   2.55   \n",
              "42983                  114.60              8.50                   2.55   \n",
              "43193                   93.88            108.13                  32.44   \n",
              "43399                   93.88            129.76                  38.93   \n",
              "43611                   77.76            207.16                  62.15   \n",
              "43821                   63.27            219.72                  65.91   \n",
              "44029                   60.46            163.12                  48.94   \n",
              "44243                   78.17            163.12                  48.94   \n",
              "44476                   78.17            163.12                  48.94   \n",
              "44692                   74.56            180.83                  54.25   \n",
              "44903                   74.56            180.83                  54.25   \n",
              "45114                   66.40            209.32                  62.80   \n",
              "45324                   64.29            229.19                  68.76   \n",
              "45534                   64.29            229.19                  68.76   \n",
              "45749                   66.80            187.77                  56.33   \n",
              "45955                   66.80            155.52                  46.66   \n",
              "46160                   69.58            134.45                  40.33   \n",
              "46358                   72.77            126.55                  37.96   \n",
              "46568                   85.02            120.92                  36.27   \n",
              "46782                   52.33            156.34                  46.90   \n",
              "46991                   52.33            156.34                  46.90   \n",
              "47196                   47.57            149.12                  44.73   \n",
              "47406                   47.57            149.12                  44.73   \n",
              "47619                   46.62            132.79                  39.84   \n",
              "47824                   47.89            128.57                  38.57   \n",
              "48035                   46.85            128.57                  38.57   \n",
              "48262                   27.65            133.60                  40.08   \n",
              "48446                   30.16            133.60                  40.08   \n",
              "48664                   33.17            135.29                  40.59   \n",
              "48869                   52.08            145.54                  43.66   \n",
              "\n",
              "       three_year_ago_avg  three_year_ago_weighted confederation   rank_date  \n",
              "41320              202.53                    40.51           CAF  2011-12-21  \n",
              "41536              209.21                    41.84           CAF  2012-01-18  \n",
              "41736              257.48                    51.50           CAF  2012-02-15  \n",
              "41944              239.09                    47.82           CAF  2012-03-07  \n",
              "42157              262.47                    52.49           CAF  2012-04-11  \n",
              "42366              262.47                    52.49           CAF  2012-05-09  \n",
              "42562              258.83                    51.77           CAF  2012-06-06  \n",
              "42775              203.22                    40.64           CAF  2012-07-04  \n",
              "42983              203.22                    40.64           CAF  2012-08-08  \n",
              "43193              182.11                    36.42           CAF  2012-09-05  \n",
              "43399              156.36                    31.27           CAF  2012-10-03  \n",
              "43611               73.49                    14.70           CAF  2012-11-07  \n",
              "43821               67.36                    13.47           CAF  2012-12-19  \n",
              "44029               40.91                     8.18           CAF  2013-01-17  \n",
              "44243               40.91                     8.18           CAF  2013-02-14  \n",
              "44476               46.75                     9.35           CAF  2013-03-14  \n",
              "44692                0.00                     0.00           CAF  2013-04-11  \n",
              "44903                0.00                     0.00           CAF  2013-05-09  \n",
              "45114                7.08                     1.42           CAF  2013-06-06  \n",
              "45324                8.50                     1.70           CAF  2013-07-04  \n",
              "45534                8.50                     1.70           CAF  2013-08-08  \n",
              "45749              129.76                    25.95           CAF  2013-09-12  \n",
              "45955              207.16                    41.43           CAF  2013-10-17  \n",
              "46160              207.16                    41.43           CAF  2013-11-28  \n",
              "46358              219.72                    43.94           CAF  2013-12-19  \n",
              "46568              163.12                    32.62           CAF  2014-01-16  \n",
              "46782              163.12                    32.62           CAF  2014-02-13  \n",
              "46991              163.12                    32.62           CAF  2014-03-13  \n",
              "47196              180.83                    36.17           CAF  2014-04-10  \n",
              "47406              180.83                    36.17           CAF  2014-05-08  \n",
              "47619              209.32                    41.86           CAF  2014-06-05  \n",
              "47824              229.19                    45.84           CAF  2014-07-17  \n",
              "48035              229.19                    45.84           CAF  2014-08-14  \n",
              "48262              187.77                    37.55           CAF  2014-09-18  \n",
              "48446              155.52                    31.10           CAF  2014-10-23  \n",
              "48664              140.18                    28.04           CAF  2014-11-27  \n",
              "48869              126.55                    25.31           CAF  2014-12-18  "
            ],
            "text/html": [
              "\n",
              "  <div id=\"df-4f66d9bd-6dce-4fa4-98d2-ba4d249aadb5\">\n",
              "    <div class=\"colab-df-container\">\n",
              "      <div>\n",
              "<style scoped>\n",
              "    .dataframe tbody tr th:only-of-type {\n",
              "        vertical-align: middle;\n",
              "    }\n",
              "\n",
              "    .dataframe tbody tr th {\n",
              "        vertical-align: top;\n",
              "    }\n",
              "\n",
              "    .dataframe thead th {\n",
              "        text-align: right;\n",
              "    }\n",
              "</style>\n",
              "<table border=\"1\" class=\"dataframe\">\n",
              "  <thead>\n",
              "    <tr style=\"text-align: right;\">\n",
              "      <th></th>\n",
              "      <th>rank</th>\n",
              "      <th>country_full</th>\n",
              "      <th>country_abrv</th>\n",
              "      <th>total_points</th>\n",
              "      <th>previous_points</th>\n",
              "      <th>rank_change</th>\n",
              "      <th>cur_year_avg</th>\n",
              "      <th>cur_year_avg_weighted</th>\n",
              "      <th>last_year_avg</th>\n",
              "      <th>last_year_avg_weighted</th>\n",
              "      <th>two_year_ago_avg</th>\n",
              "      <th>two_year_ago_weighted</th>\n",
              "      <th>three_year_ago_avg</th>\n",
              "      <th>three_year_ago_weighted</th>\n",
              "      <th>confederation</th>\n",
              "      <th>rank_date</th>\n",
              "    </tr>\n",
              "  </thead>\n",
              "  <tbody>\n",
              "    <tr>\n",
              "      <th>41320</th>\n",
              "      <td>113</td>\n",
              "      <td>Sudan</td>\n",
              "      <td>SDN</td>\n",
              "      <td>297.13</td>\n",
              "      <td>304</td>\n",
              "      <td>-1</td>\n",
              "      <td>126.55</td>\n",
              "      <td>126.55</td>\n",
              "      <td>219.72</td>\n",
              "      <td>109.86</td>\n",
              "      <td>67.36</td>\n",
              "      <td>20.21</td>\n",
              "      <td>202.53</td>\n",
              "      <td>40.51</td>\n",
              "      <td>CAF</td>\n",
              "      <td>2011-12-21</td>\n",
              "    </tr>\n",
              "    <tr>\n",
              "      <th>41536</th>\n",
              "      <td>120</td>\n",
              "      <td>Sudan</td>\n",
              "      <td>SDN</td>\n",
              "      <td>264.81</td>\n",
              "      <td>297</td>\n",
              "      <td>-7</td>\n",
              "      <td>129.14</td>\n",
              "      <td>129.14</td>\n",
              "      <td>163.12</td>\n",
              "      <td>81.56</td>\n",
              "      <td>40.91</td>\n",
              "      <td>12.27</td>\n",
              "      <td>209.21</td>\n",
              "      <td>41.84</td>\n",
              "      <td>CAF</td>\n",
              "      <td>2012-01-18</td>\n",
              "    </tr>\n",
              "    <tr>\n",
              "      <th>41736</th>\n",
              "      <td>111</td>\n",
              "      <td>Sudan</td>\n",
              "      <td>SDN</td>\n",
              "      <td>301.67</td>\n",
              "      <td>265</td>\n",
              "      <td>9</td>\n",
              "      <td>156.34</td>\n",
              "      <td>156.34</td>\n",
              "      <td>163.12</td>\n",
              "      <td>81.56</td>\n",
              "      <td>40.91</td>\n",
              "      <td>12.27</td>\n",
              "      <td>257.48</td>\n",
              "      <td>51.50</td>\n",
              "      <td>CAF</td>\n",
              "      <td>2012-02-15</td>\n",
              "    </tr>\n",
              "    <tr>\n",
              "      <th>41944</th>\n",
              "      <td>110</td>\n",
              "      <td>Sudan</td>\n",
              "      <td>SDN</td>\n",
              "      <td>299.75</td>\n",
              "      <td>302</td>\n",
              "      <td>1</td>\n",
              "      <td>156.34</td>\n",
              "      <td>156.34</td>\n",
              "      <td>163.12</td>\n",
              "      <td>81.56</td>\n",
              "      <td>46.75</td>\n",
              "      <td>14.03</td>\n",
              "      <td>239.09</td>\n",
              "      <td>47.82</td>\n",
              "      <td>CAF</td>\n",
              "      <td>2012-03-07</td>\n",
              "    </tr>\n",
              "    <tr>\n",
              "      <th>42157</th>\n",
              "      <td>113</td>\n",
              "      <td>Sudan</td>\n",
              "      <td>SDN</td>\n",
              "      <td>292.03</td>\n",
              "      <td>300</td>\n",
              "      <td>-3</td>\n",
              "      <td>149.12</td>\n",
              "      <td>149.12</td>\n",
              "      <td>180.83</td>\n",
              "      <td>90.42</td>\n",
              "      <td>0.00</td>\n",
              "      <td>0.00</td>\n",
              "      <td>262.47</td>\n",
              "      <td>52.49</td>\n",
              "      <td>CAF</td>\n",
              "      <td>2012-04-11</td>\n",
              "    </tr>\n",
              "    <tr>\n",
              "      <th>42366</th>\n",
              "      <td>113</td>\n",
              "      <td>Sudan</td>\n",
              "      <td>SDN</td>\n",
              "      <td>292.03</td>\n",
              "      <td>292</td>\n",
              "      <td>0</td>\n",
              "      <td>149.12</td>\n",
              "      <td>149.12</td>\n",
              "      <td>180.83</td>\n",
              "      <td>90.42</td>\n",
              "      <td>0.00</td>\n",
              "      <td>0.00</td>\n",
              "      <td>262.47</td>\n",
              "      <td>52.49</td>\n",
              "      <td>CAF</td>\n",
              "      <td>2012-05-09</td>\n",
              "    </tr>\n",
              "    <tr>\n",
              "      <th>42562</th>\n",
              "      <td>101</td>\n",
              "      <td>Sudan</td>\n",
              "      <td>SDN</td>\n",
              "      <td>338.25</td>\n",
              "      <td>292</td>\n",
              "      <td>12</td>\n",
              "      <td>179.70</td>\n",
              "      <td>179.70</td>\n",
              "      <td>209.32</td>\n",
              "      <td>104.66</td>\n",
              "      <td>7.08</td>\n",
              "      <td>2.12</td>\n",
              "      <td>258.83</td>\n",
              "      <td>51.77</td>\n",
              "      <td>CAF</td>\n",
              "      <td>2012-06-06</td>\n",
              "    </tr>\n",
              "    <tr>\n",
              "      <th>42775</th>\n",
              "      <td>105</td>\n",
              "      <td>Sudan</td>\n",
              "      <td>SDN</td>\n",
              "      <td>329.36</td>\n",
              "      <td>338</td>\n",
              "      <td>-4</td>\n",
              "      <td>171.57</td>\n",
              "      <td>171.57</td>\n",
              "      <td>229.19</td>\n",
              "      <td>114.60</td>\n",
              "      <td>8.50</td>\n",
              "      <td>2.55</td>\n",
              "      <td>203.22</td>\n",
              "      <td>40.64</td>\n",
              "      <td>CAF</td>\n",
              "      <td>2012-07-04</td>\n",
              "    </tr>\n",
              "    <tr>\n",
              "      <th>42983</th>\n",
              "      <td>104</td>\n",
              "      <td>Sudan</td>\n",
              "      <td>SDN</td>\n",
              "      <td>329.36</td>\n",
              "      <td>329</td>\n",
              "      <td>1</td>\n",
              "      <td>171.57</td>\n",
              "      <td>171.57</td>\n",
              "      <td>229.19</td>\n",
              "      <td>114.60</td>\n",
              "      <td>8.50</td>\n",
              "      <td>2.55</td>\n",
              "      <td>203.22</td>\n",
              "      <td>40.64</td>\n",
              "      <td>CAF</td>\n",
              "      <td>2012-08-08</td>\n",
              "    </tr>\n",
              "    <tr>\n",
              "      <th>43193</th>\n",
              "      <td>103</td>\n",
              "      <td>Sudan</td>\n",
              "      <td>SDN</td>\n",
              "      <td>331.79</td>\n",
              "      <td>329</td>\n",
              "      <td>1</td>\n",
              "      <td>169.05</td>\n",
              "      <td>169.05</td>\n",
              "      <td>187.77</td>\n",
              "      <td>93.88</td>\n",
              "      <td>108.13</td>\n",
              "      <td>32.44</td>\n",
              "      <td>182.11</td>\n",
              "      <td>36.42</td>\n",
              "      <td>CAF</td>\n",
              "      <td>2012-09-05</td>\n",
              "    </tr>\n",
              "    <tr>\n",
              "      <th>43399</th>\n",
              "      <td>100</td>\n",
              "      <td>Sudan</td>\n",
              "      <td>SDN</td>\n",
              "      <td>350.66</td>\n",
              "      <td>332</td>\n",
              "      <td>3</td>\n",
              "      <td>186.58</td>\n",
              "      <td>186.58</td>\n",
              "      <td>187.77</td>\n",
              "      <td>93.88</td>\n",
              "      <td>129.76</td>\n",
              "      <td>38.93</td>\n",
              "      <td>156.36</td>\n",
              "      <td>31.27</td>\n",
              "      <td>CAF</td>\n",
              "      <td>2012-10-03</td>\n",
              "    </tr>\n",
              "    <tr>\n",
              "      <th>43611</th>\n",
              "      <td>102</td>\n",
              "      <td>Sudan</td>\n",
              "      <td>SDN</td>\n",
              "      <td>333.08</td>\n",
              "      <td>351</td>\n",
              "      <td>-2</td>\n",
              "      <td>178.47</td>\n",
              "      <td>178.47</td>\n",
              "      <td>155.52</td>\n",
              "      <td>77.76</td>\n",
              "      <td>207.16</td>\n",
              "      <td>62.15</td>\n",
              "      <td>73.49</td>\n",
              "      <td>14.70</td>\n",
              "      <td>CAF</td>\n",
              "      <td>2012-11-07</td>\n",
              "    </tr>\n",
              "    <tr>\n",
              "      <th>43821</th>\n",
              "      <td>101</td>\n",
              "      <td>Sudan</td>\n",
              "      <td>SDN</td>\n",
              "      <td>348.90</td>\n",
              "      <td>333</td>\n",
              "      <td>1</td>\n",
              "      <td>206.25</td>\n",
              "      <td>206.25</td>\n",
              "      <td>126.55</td>\n",
              "      <td>63.27</td>\n",
              "      <td>219.72</td>\n",
              "      <td>65.91</td>\n",
              "      <td>67.36</td>\n",
              "      <td>13.47</td>\n",
              "      <td>CAF</td>\n",
              "      <td>2012-12-19</td>\n",
              "    </tr>\n",
              "    <tr>\n",
              "      <th>44029</th>\n",
              "      <td>100</td>\n",
              "      <td>Sudan</td>\n",
              "      <td>SDN</td>\n",
              "      <td>361.33</td>\n",
              "      <td>349</td>\n",
              "      <td>1</td>\n",
              "      <td>243.75</td>\n",
              "      <td>243.75</td>\n",
              "      <td>120.92</td>\n",
              "      <td>60.46</td>\n",
              "      <td>163.12</td>\n",
              "      <td>48.94</td>\n",
              "      <td>40.91</td>\n",
              "      <td>8.18</td>\n",
              "      <td>CAF</td>\n",
              "      <td>2013-01-17</td>\n",
              "    </tr>\n",
              "    <tr>\n",
              "      <th>44243</th>\n",
              "      <td>104</td>\n",
              "      <td>Sudan</td>\n",
              "      <td>SDN</td>\n",
              "      <td>343.15</td>\n",
              "      <td>361</td>\n",
              "      <td>-4</td>\n",
              "      <td>207.86</td>\n",
              "      <td>207.86</td>\n",
              "      <td>156.34</td>\n",
              "      <td>78.17</td>\n",
              "      <td>163.12</td>\n",
              "      <td>48.94</td>\n",
              "      <td>40.91</td>\n",
              "      <td>8.18</td>\n",
              "      <td>CAF</td>\n",
              "      <td>2013-02-14</td>\n",
              "    </tr>\n",
              "    <tr>\n",
              "      <th>44476</th>\n",
              "      <td>127</td>\n",
              "      <td>Sudan</td>\n",
              "      <td>SDN</td>\n",
              "      <td>241.12</td>\n",
              "      <td>343</td>\n",
              "      <td>-23</td>\n",
              "      <td>104.66</td>\n",
              "      <td>104.66</td>\n",
              "      <td>156.34</td>\n",
              "      <td>78.17</td>\n",
              "      <td>163.12</td>\n",
              "      <td>48.94</td>\n",
              "      <td>46.75</td>\n",
              "      <td>9.35</td>\n",
              "      <td>CAF</td>\n",
              "      <td>2013-03-14</td>\n",
              "    </tr>\n",
              "    <tr>\n",
              "      <th>44692</th>\n",
              "      <td>133</td>\n",
              "      <td>Sudan</td>\n",
              "      <td>SDN</td>\n",
              "      <td>223.96</td>\n",
              "      <td>241</td>\n",
              "      <td>-6</td>\n",
              "      <td>95.15</td>\n",
              "      <td>95.15</td>\n",
              "      <td>149.12</td>\n",
              "      <td>74.56</td>\n",
              "      <td>180.83</td>\n",
              "      <td>54.25</td>\n",
              "      <td>0.00</td>\n",
              "      <td>0.00</td>\n",
              "      <td>CAF</td>\n",
              "      <td>2013-04-11</td>\n",
              "    </tr>\n",
              "    <tr>\n",
              "      <th>44903</th>\n",
              "      <td>134</td>\n",
              "      <td>Sudan</td>\n",
              "      <td>SDN</td>\n",
              "      <td>223.96</td>\n",
              "      <td>224</td>\n",
              "      <td>-1</td>\n",
              "      <td>95.15</td>\n",
              "      <td>95.15</td>\n",
              "      <td>149.12</td>\n",
              "      <td>74.56</td>\n",
              "      <td>180.83</td>\n",
              "      <td>54.25</td>\n",
              "      <td>0.00</td>\n",
              "      <td>0.00</td>\n",
              "      <td>CAF</td>\n",
              "      <td>2013-05-09</td>\n",
              "    </tr>\n",
              "    <tr>\n",
              "      <th>45114</th>\n",
              "      <td>135</td>\n",
              "      <td>Sudan</td>\n",
              "      <td>SDN</td>\n",
              "      <td>223.86</td>\n",
              "      <td>224</td>\n",
              "      <td>-1</td>\n",
              "      <td>93.24</td>\n",
              "      <td>93.24</td>\n",
              "      <td>132.79</td>\n",
              "      <td>66.40</td>\n",
              "      <td>209.32</td>\n",
              "      <td>62.80</td>\n",
              "      <td>7.08</td>\n",
              "      <td>1.42</td>\n",
              "      <td>CAF</td>\n",
              "      <td>2013-06-06</td>\n",
              "    </tr>\n",
              "    <tr>\n",
              "      <th>45324</th>\n",
              "      <td>134</td>\n",
              "      <td>Sudan</td>\n",
              "      <td>SDN</td>\n",
              "      <td>232.99</td>\n",
              "      <td>224</td>\n",
              "      <td>1</td>\n",
              "      <td>98.24</td>\n",
              "      <td>98.24</td>\n",
              "      <td>128.57</td>\n",
              "      <td>64.29</td>\n",
              "      <td>229.19</td>\n",
              "      <td>68.76</td>\n",
              "      <td>8.50</td>\n",
              "      <td>1.70</td>\n",
              "      <td>CAF</td>\n",
              "      <td>2013-07-04</td>\n",
              "    </tr>\n",
              "    <tr>\n",
              "      <th>45534</th>\n",
              "      <td>135</td>\n",
              "      <td>Sudan</td>\n",
              "      <td>SDN</td>\n",
              "      <td>228.45</td>\n",
              "      <td>233</td>\n",
              "      <td>-1</td>\n",
              "      <td>93.71</td>\n",
              "      <td>93.71</td>\n",
              "      <td>128.57</td>\n",
              "      <td>64.29</td>\n",
              "      <td>229.19</td>\n",
              "      <td>68.76</td>\n",
              "      <td>8.50</td>\n",
              "      <td>1.70</td>\n",
              "      <td>CAF</td>\n",
              "      <td>2013-08-08</td>\n",
              "    </tr>\n",
              "    <tr>\n",
              "      <th>45749</th>\n",
              "      <td>140</td>\n",
              "      <td>Sudan</td>\n",
              "      <td>SDN</td>\n",
              "      <td>204.37</td>\n",
              "      <td>228</td>\n",
              "      <td>-5</td>\n",
              "      <td>55.29</td>\n",
              "      <td>55.29</td>\n",
              "      <td>133.60</td>\n",
              "      <td>66.80</td>\n",
              "      <td>187.77</td>\n",
              "      <td>56.33</td>\n",
              "      <td>129.76</td>\n",
              "      <td>25.95</td>\n",
              "      <td>CAF</td>\n",
              "      <td>2013-09-12</td>\n",
              "    </tr>\n",
              "    <tr>\n",
              "      <th>45955</th>\n",
              "      <td>136</td>\n",
              "      <td>Sudan</td>\n",
              "      <td>SDN</td>\n",
              "      <td>215.20</td>\n",
              "      <td>204</td>\n",
              "      <td>4</td>\n",
              "      <td>60.32</td>\n",
              "      <td>60.32</td>\n",
              "      <td>133.60</td>\n",
              "      <td>66.80</td>\n",
              "      <td>155.52</td>\n",
              "      <td>46.66</td>\n",
              "      <td>207.16</td>\n",
              "      <td>41.43</td>\n",
              "      <td>CAF</td>\n",
              "      <td>2013-10-17</td>\n",
              "    </tr>\n",
              "    <tr>\n",
              "      <th>46160</th>\n",
              "      <td>130</td>\n",
              "      <td>Sudan</td>\n",
              "      <td>SDN</td>\n",
              "      <td>217.69</td>\n",
              "      <td>215</td>\n",
              "      <td>6</td>\n",
              "      <td>66.35</td>\n",
              "      <td>66.35</td>\n",
              "      <td>139.16</td>\n",
              "      <td>69.58</td>\n",
              "      <td>134.45</td>\n",
              "      <td>40.33</td>\n",
              "      <td>207.16</td>\n",
              "      <td>41.43</td>\n",
              "      <td>CAF</td>\n",
              "      <td>2013-11-28</td>\n",
              "    </tr>\n",
              "    <tr>\n",
              "      <th>46358</th>\n",
              "      <td>119</td>\n",
              "      <td>Sudan</td>\n",
              "      <td>SDN</td>\n",
              "      <td>258.83</td>\n",
              "      <td>218</td>\n",
              "      <td>11</td>\n",
              "      <td>104.15</td>\n",
              "      <td>104.15</td>\n",
              "      <td>145.54</td>\n",
              "      <td>72.77</td>\n",
              "      <td>126.55</td>\n",
              "      <td>37.96</td>\n",
              "      <td>219.72</td>\n",
              "      <td>43.94</td>\n",
              "      <td>CAF</td>\n",
              "      <td>2013-12-19</td>\n",
              "    </tr>\n",
              "    <tr>\n",
              "      <th>46568</th>\n",
              "      <td>119</td>\n",
              "      <td>Sudan</td>\n",
              "      <td>SDN</td>\n",
              "      <td>258.07</td>\n",
              "      <td>259</td>\n",
              "      <td>0</td>\n",
              "      <td>104.15</td>\n",
              "      <td>104.15</td>\n",
              "      <td>170.03</td>\n",
              "      <td>85.02</td>\n",
              "      <td>120.92</td>\n",
              "      <td>36.27</td>\n",
              "      <td>163.12</td>\n",
              "      <td>32.62</td>\n",
              "      <td>CAF</td>\n",
              "      <td>2014-01-16</td>\n",
              "    </tr>\n",
              "    <tr>\n",
              "      <th>46782</th>\n",
              "      <td>123</td>\n",
              "      <td>Sudan</td>\n",
              "      <td>SDN</td>\n",
              "      <td>236.01</td>\n",
              "      <td>258</td>\n",
              "      <td>-4</td>\n",
              "      <td>104.15</td>\n",
              "      <td>104.15</td>\n",
              "      <td>104.66</td>\n",
              "      <td>52.33</td>\n",
              "      <td>156.34</td>\n",
              "      <td>46.90</td>\n",
              "      <td>163.12</td>\n",
              "      <td>32.62</td>\n",
              "      <td>CAF</td>\n",
              "      <td>2014-02-13</td>\n",
              "    </tr>\n",
              "    <tr>\n",
              "      <th>46991</th>\n",
              "      <td>122</td>\n",
              "      <td>Sudan</td>\n",
              "      <td>SDN</td>\n",
              "      <td>236.01</td>\n",
              "      <td>236</td>\n",
              "      <td>1</td>\n",
              "      <td>104.15</td>\n",
              "      <td>104.15</td>\n",
              "      <td>104.66</td>\n",
              "      <td>52.33</td>\n",
              "      <td>156.34</td>\n",
              "      <td>46.90</td>\n",
              "      <td>163.12</td>\n",
              "      <td>32.62</td>\n",
              "      <td>CAF</td>\n",
              "      <td>2014-03-13</td>\n",
              "    </tr>\n",
              "    <tr>\n",
              "      <th>47196</th>\n",
              "      <td>117</td>\n",
              "      <td>Sudan</td>\n",
              "      <td>SDN</td>\n",
              "      <td>240.64</td>\n",
              "      <td>236</td>\n",
              "      <td>5</td>\n",
              "      <td>112.16</td>\n",
              "      <td>112.16</td>\n",
              "      <td>95.15</td>\n",
              "      <td>47.57</td>\n",
              "      <td>149.12</td>\n",
              "      <td>44.73</td>\n",
              "      <td>180.83</td>\n",
              "      <td>36.17</td>\n",
              "      <td>CAF</td>\n",
              "      <td>2014-04-10</td>\n",
              "    </tr>\n",
              "    <tr>\n",
              "      <th>47406</th>\n",
              "      <td>117</td>\n",
              "      <td>Sudan</td>\n",
              "      <td>SDN</td>\n",
              "      <td>240.64</td>\n",
              "      <td>241</td>\n",
              "      <td>0</td>\n",
              "      <td>112.16</td>\n",
              "      <td>112.16</td>\n",
              "      <td>95.15</td>\n",
              "      <td>47.57</td>\n",
              "      <td>149.12</td>\n",
              "      <td>44.73</td>\n",
              "      <td>180.83</td>\n",
              "      <td>36.17</td>\n",
              "      <td>CAF</td>\n",
              "      <td>2014-05-08</td>\n",
              "    </tr>\n",
              "    <tr>\n",
              "      <th>47619</th>\n",
              "      <td>120</td>\n",
              "      <td>Sudan</td>\n",
              "      <td>SDN</td>\n",
              "      <td>254.31</td>\n",
              "      <td>241</td>\n",
              "      <td>-3</td>\n",
              "      <td>125.99</td>\n",
              "      <td>125.99</td>\n",
              "      <td>93.24</td>\n",
              "      <td>46.62</td>\n",
              "      <td>132.79</td>\n",
              "      <td>39.84</td>\n",
              "      <td>209.32</td>\n",
              "      <td>41.86</td>\n",
              "      <td>CAF</td>\n",
              "      <td>2014-06-05</td>\n",
              "    </tr>\n",
              "    <tr>\n",
              "      <th>47824</th>\n",
              "      <td>115</td>\n",
              "      <td>Sudan</td>\n",
              "      <td>SDN</td>\n",
              "      <td>256.36</td>\n",
              "      <td>254</td>\n",
              "      <td>5</td>\n",
              "      <td>124.06</td>\n",
              "      <td>124.06</td>\n",
              "      <td>95.78</td>\n",
              "      <td>47.89</td>\n",
              "      <td>128.57</td>\n",
              "      <td>38.57</td>\n",
              "      <td>229.19</td>\n",
              "      <td>45.84</td>\n",
              "      <td>CAF</td>\n",
              "      <td>2014-07-17</td>\n",
              "    </tr>\n",
              "    <tr>\n",
              "      <th>48035</th>\n",
              "      <td>115</td>\n",
              "      <td>Sudan</td>\n",
              "      <td>SDN</td>\n",
              "      <td>263.21</td>\n",
              "      <td>256</td>\n",
              "      <td>0</td>\n",
              "      <td>131.95</td>\n",
              "      <td>131.95</td>\n",
              "      <td>93.71</td>\n",
              "      <td>46.85</td>\n",
              "      <td>128.57</td>\n",
              "      <td>38.57</td>\n",
              "      <td>229.19</td>\n",
              "      <td>45.84</td>\n",
              "      <td>CAF</td>\n",
              "      <td>2014-08-14</td>\n",
              "    </tr>\n",
              "    <tr>\n",
              "      <th>48262</th>\n",
              "      <td>133</td>\n",
              "      <td>Sudan</td>\n",
              "      <td>SDN</td>\n",
              "      <td>220.73</td>\n",
              "      <td>263</td>\n",
              "      <td>-18</td>\n",
              "      <td>115.46</td>\n",
              "      <td>115.46</td>\n",
              "      <td>55.29</td>\n",
              "      <td>27.65</td>\n",
              "      <td>133.60</td>\n",
              "      <td>40.08</td>\n",
              "      <td>187.77</td>\n",
              "      <td>37.55</td>\n",
              "      <td>CAF</td>\n",
              "      <td>2014-09-18</td>\n",
              "    </tr>\n",
              "    <tr>\n",
              "      <th>48446</th>\n",
              "      <td>107</td>\n",
              "      <td>Sudan</td>\n",
              "      <td>SDN</td>\n",
              "      <td>297.62</td>\n",
              "      <td>221</td>\n",
              "      <td>26</td>\n",
              "      <td>196.28</td>\n",
              "      <td>196.28</td>\n",
              "      <td>60.32</td>\n",
              "      <td>30.16</td>\n",
              "      <td>133.60</td>\n",
              "      <td>40.08</td>\n",
              "      <td>155.52</td>\n",
              "      <td>31.10</td>\n",
              "      <td>CAF</td>\n",
              "      <td>2014-10-23</td>\n",
              "    </tr>\n",
              "    <tr>\n",
              "      <th>48664</th>\n",
              "      <td>115</td>\n",
              "      <td>Sudan</td>\n",
              "      <td>SDN</td>\n",
              "      <td>265.36</td>\n",
              "      <td>298</td>\n",
              "      <td>-8</td>\n",
              "      <td>163.56</td>\n",
              "      <td>163.56</td>\n",
              "      <td>66.35</td>\n",
              "      <td>33.17</td>\n",
              "      <td>135.29</td>\n",
              "      <td>40.59</td>\n",
              "      <td>140.18</td>\n",
              "      <td>28.04</td>\n",
              "      <td>CAF</td>\n",
              "      <td>2014-11-27</td>\n",
              "    </tr>\n",
              "    <tr>\n",
              "      <th>48869</th>\n",
              "      <td>110</td>\n",
              "      <td>Sudan</td>\n",
              "      <td>SDN</td>\n",
              "      <td>294.24</td>\n",
              "      <td>265</td>\n",
              "      <td>5</td>\n",
              "      <td>173.19</td>\n",
              "      <td>173.19</td>\n",
              "      <td>104.15</td>\n",
              "      <td>52.08</td>\n",
              "      <td>145.54</td>\n",
              "      <td>43.66</td>\n",
              "      <td>126.55</td>\n",
              "      <td>25.31</td>\n",
              "      <td>CAF</td>\n",
              "      <td>2014-12-18</td>\n",
              "    </tr>\n",
              "  </tbody>\n",
              "</table>\n",
              "</div>\n",
              "      <button class=\"colab-df-convert\" onclick=\"convertToInteractive('df-4f66d9bd-6dce-4fa4-98d2-ba4d249aadb5')\"\n",
              "              title=\"Convert this dataframe to an interactive table.\"\n",
              "              style=\"display:none;\">\n",
              "        \n",
              "  <svg xmlns=\"http://www.w3.org/2000/svg\" height=\"24px\"viewBox=\"0 0 24 24\"\n",
              "       width=\"24px\">\n",
              "    <path d=\"M0 0h24v24H0V0z\" fill=\"none\"/>\n",
              "    <path d=\"M18.56 5.44l.94 2.06.94-2.06 2.06-.94-2.06-.94-.94-2.06-.94 2.06-2.06.94zm-11 1L8.5 8.5l.94-2.06 2.06-.94-2.06-.94L8.5 2.5l-.94 2.06-2.06.94zm10 10l.94 2.06.94-2.06 2.06-.94-2.06-.94-.94-2.06-.94 2.06-2.06.94z\"/><path d=\"M17.41 7.96l-1.37-1.37c-.4-.4-.92-.59-1.43-.59-.52 0-1.04.2-1.43.59L10.3 9.45l-7.72 7.72c-.78.78-.78 2.05 0 2.83L4 21.41c.39.39.9.59 1.41.59.51 0 1.02-.2 1.41-.59l7.78-7.78 2.81-2.81c.8-.78.8-2.07 0-2.86zM5.41 20L4 18.59l7.72-7.72 1.47 1.35L5.41 20z\"/>\n",
              "  </svg>\n",
              "      </button>\n",
              "      \n",
              "  <style>\n",
              "    .colab-df-container {\n",
              "      display:flex;\n",
              "      flex-wrap:wrap;\n",
              "      gap: 12px;\n",
              "    }\n",
              "\n",
              "    .colab-df-convert {\n",
              "      background-color: #E8F0FE;\n",
              "      border: none;\n",
              "      border-radius: 50%;\n",
              "      cursor: pointer;\n",
              "      display: none;\n",
              "      fill: #1967D2;\n",
              "      height: 32px;\n",
              "      padding: 0 0 0 0;\n",
              "      width: 32px;\n",
              "    }\n",
              "\n",
              "    .colab-df-convert:hover {\n",
              "      background-color: #E2EBFA;\n",
              "      box-shadow: 0px 1px 2px rgba(60, 64, 67, 0.3), 0px 1px 3px 1px rgba(60, 64, 67, 0.15);\n",
              "      fill: #174EA6;\n",
              "    }\n",
              "\n",
              "    [theme=dark] .colab-df-convert {\n",
              "      background-color: #3B4455;\n",
              "      fill: #D2E3FC;\n",
              "    }\n",
              "\n",
              "    [theme=dark] .colab-df-convert:hover {\n",
              "      background-color: #434B5C;\n",
              "      box-shadow: 0px 1px 3px 1px rgba(0, 0, 0, 0.15);\n",
              "      filter: drop-shadow(0px 1px 2px rgba(0, 0, 0, 0.3));\n",
              "      fill: #FFFFFF;\n",
              "    }\n",
              "  </style>\n",
              "\n",
              "      <script>\n",
              "        const buttonEl =\n",
              "          document.querySelector('#df-4f66d9bd-6dce-4fa4-98d2-ba4d249aadb5 button.colab-df-convert');\n",
              "        buttonEl.style.display =\n",
              "          google.colab.kernel.accessAllowed ? 'block' : 'none';\n",
              "\n",
              "        async function convertToInteractive(key) {\n",
              "          const element = document.querySelector('#df-4f66d9bd-6dce-4fa4-98d2-ba4d249aadb5');\n",
              "          const dataTable =\n",
              "            await google.colab.kernel.invokeFunction('convertToInteractive',\n",
              "                                                     [key], {});\n",
              "          if (!dataTable) return;\n",
              "\n",
              "          const docLinkHtml = 'Like what you see? Visit the ' +\n",
              "            '<a target=\"_blank\" href=https://colab.research.google.com/notebooks/data_table.ipynb>data table notebook</a>'\n",
              "            + ' to learn more about interactive tables.';\n",
              "          element.innerHTML = '';\n",
              "          dataTable['output_type'] = 'display_data';\n",
              "          await google.colab.output.renderOutput(dataTable, element);\n",
              "          const docLink = document.createElement('div');\n",
              "          docLink.innerHTML = docLinkHtml;\n",
              "          element.appendChild(docLink);\n",
              "        }\n",
              "      </script>\n",
              "    </div>\n",
              "  </div>\n",
              "  "
            ]
          },
          "metadata": {},
          "execution_count": 25
        }
      ]
    },
    {
      "cell_type": "code",
      "source": [
        "#Further examining Sudan's duplicated entries\n",
        "df_rank[(df_rank['rank'] == 113) & (df_rank['country_abrv'] == 'SDN') & (df_rank['rank_date'] == '2011-12-21')]"
      ],
      "metadata": {
        "colab": {
          "base_uri": "https://localhost:8080/",
          "height": 176
        },
        "id": "oroL5g6I4KJ0",
        "outputId": "d420e8a8-39d9-400c-c537-536193a1b399"
      },
      "execution_count": null,
      "outputs": [
        {
          "output_type": "execute_result",
          "data": {
            "text/plain": [
              "       rank country_full country_abrv  total_points  previous_points  \\\n",
              "41319   113        Sudan          SDN        297.13              304   \n",
              "41320   113        Sudan          SDN        297.13              304   \n",
              "\n",
              "       rank_change  cur_year_avg  cur_year_avg_weighted  last_year_avg  \\\n",
              "41319           -1        126.55                 126.55         219.72   \n",
              "41320           -1        126.55                 126.55         219.72   \n",
              "\n",
              "       last_year_avg_weighted  two_year_ago_avg  two_year_ago_weighted  \\\n",
              "41319                  109.86             67.36                  20.21   \n",
              "41320                  109.86             67.36                  20.21   \n",
              "\n",
              "       three_year_ago_avg  three_year_ago_weighted confederation   rank_date  \n",
              "41319              202.53                    40.51           CAF  2011-12-21  \n",
              "41320              202.53                    40.51           CAF  2011-12-21  "
            ],
            "text/html": [
              "\n",
              "  <div id=\"df-26e9b9ae-5317-46bc-8b9d-9f11167dc7dd\">\n",
              "    <div class=\"colab-df-container\">\n",
              "      <div>\n",
              "<style scoped>\n",
              "    .dataframe tbody tr th:only-of-type {\n",
              "        vertical-align: middle;\n",
              "    }\n",
              "\n",
              "    .dataframe tbody tr th {\n",
              "        vertical-align: top;\n",
              "    }\n",
              "\n",
              "    .dataframe thead th {\n",
              "        text-align: right;\n",
              "    }\n",
              "</style>\n",
              "<table border=\"1\" class=\"dataframe\">\n",
              "  <thead>\n",
              "    <tr style=\"text-align: right;\">\n",
              "      <th></th>\n",
              "      <th>rank</th>\n",
              "      <th>country_full</th>\n",
              "      <th>country_abrv</th>\n",
              "      <th>total_points</th>\n",
              "      <th>previous_points</th>\n",
              "      <th>rank_change</th>\n",
              "      <th>cur_year_avg</th>\n",
              "      <th>cur_year_avg_weighted</th>\n",
              "      <th>last_year_avg</th>\n",
              "      <th>last_year_avg_weighted</th>\n",
              "      <th>two_year_ago_avg</th>\n",
              "      <th>two_year_ago_weighted</th>\n",
              "      <th>three_year_ago_avg</th>\n",
              "      <th>three_year_ago_weighted</th>\n",
              "      <th>confederation</th>\n",
              "      <th>rank_date</th>\n",
              "    </tr>\n",
              "  </thead>\n",
              "  <tbody>\n",
              "    <tr>\n",
              "      <th>41319</th>\n",
              "      <td>113</td>\n",
              "      <td>Sudan</td>\n",
              "      <td>SDN</td>\n",
              "      <td>297.13</td>\n",
              "      <td>304</td>\n",
              "      <td>-1</td>\n",
              "      <td>126.55</td>\n",
              "      <td>126.55</td>\n",
              "      <td>219.72</td>\n",
              "      <td>109.86</td>\n",
              "      <td>67.36</td>\n",
              "      <td>20.21</td>\n",
              "      <td>202.53</td>\n",
              "      <td>40.51</td>\n",
              "      <td>CAF</td>\n",
              "      <td>2011-12-21</td>\n",
              "    </tr>\n",
              "    <tr>\n",
              "      <th>41320</th>\n",
              "      <td>113</td>\n",
              "      <td>Sudan</td>\n",
              "      <td>SDN</td>\n",
              "      <td>297.13</td>\n",
              "      <td>304</td>\n",
              "      <td>-1</td>\n",
              "      <td>126.55</td>\n",
              "      <td>126.55</td>\n",
              "      <td>219.72</td>\n",
              "      <td>109.86</td>\n",
              "      <td>67.36</td>\n",
              "      <td>20.21</td>\n",
              "      <td>202.53</td>\n",
              "      <td>40.51</td>\n",
              "      <td>CAF</td>\n",
              "      <td>2011-12-21</td>\n",
              "    </tr>\n",
              "  </tbody>\n",
              "</table>\n",
              "</div>\n",
              "      <button class=\"colab-df-convert\" onclick=\"convertToInteractive('df-26e9b9ae-5317-46bc-8b9d-9f11167dc7dd')\"\n",
              "              title=\"Convert this dataframe to an interactive table.\"\n",
              "              style=\"display:none;\">\n",
              "        \n",
              "  <svg xmlns=\"http://www.w3.org/2000/svg\" height=\"24px\"viewBox=\"0 0 24 24\"\n",
              "       width=\"24px\">\n",
              "    <path d=\"M0 0h24v24H0V0z\" fill=\"none\"/>\n",
              "    <path d=\"M18.56 5.44l.94 2.06.94-2.06 2.06-.94-2.06-.94-.94-2.06-.94 2.06-2.06.94zm-11 1L8.5 8.5l.94-2.06 2.06-.94-2.06-.94L8.5 2.5l-.94 2.06-2.06.94zm10 10l.94 2.06.94-2.06 2.06-.94-2.06-.94-.94-2.06-.94 2.06-2.06.94z\"/><path d=\"M17.41 7.96l-1.37-1.37c-.4-.4-.92-.59-1.43-.59-.52 0-1.04.2-1.43.59L10.3 9.45l-7.72 7.72c-.78.78-.78 2.05 0 2.83L4 21.41c.39.39.9.59 1.41.59.51 0 1.02-.2 1.41-.59l7.78-7.78 2.81-2.81c.8-.78.8-2.07 0-2.86zM5.41 20L4 18.59l7.72-7.72 1.47 1.35L5.41 20z\"/>\n",
              "  </svg>\n",
              "      </button>\n",
              "      \n",
              "  <style>\n",
              "    .colab-df-container {\n",
              "      display:flex;\n",
              "      flex-wrap:wrap;\n",
              "      gap: 12px;\n",
              "    }\n",
              "\n",
              "    .colab-df-convert {\n",
              "      background-color: #E8F0FE;\n",
              "      border: none;\n",
              "      border-radius: 50%;\n",
              "      cursor: pointer;\n",
              "      display: none;\n",
              "      fill: #1967D2;\n",
              "      height: 32px;\n",
              "      padding: 0 0 0 0;\n",
              "      width: 32px;\n",
              "    }\n",
              "\n",
              "    .colab-df-convert:hover {\n",
              "      background-color: #E2EBFA;\n",
              "      box-shadow: 0px 1px 2px rgba(60, 64, 67, 0.3), 0px 1px 3px 1px rgba(60, 64, 67, 0.15);\n",
              "      fill: #174EA6;\n",
              "    }\n",
              "\n",
              "    [theme=dark] .colab-df-convert {\n",
              "      background-color: #3B4455;\n",
              "      fill: #D2E3FC;\n",
              "    }\n",
              "\n",
              "    [theme=dark] .colab-df-convert:hover {\n",
              "      background-color: #434B5C;\n",
              "      box-shadow: 0px 1px 3px 1px rgba(0, 0, 0, 0.15);\n",
              "      filter: drop-shadow(0px 1px 2px rgba(0, 0, 0, 0.3));\n",
              "      fill: #FFFFFF;\n",
              "    }\n",
              "  </style>\n",
              "\n",
              "      <script>\n",
              "        const buttonEl =\n",
              "          document.querySelector('#df-26e9b9ae-5317-46bc-8b9d-9f11167dc7dd button.colab-df-convert');\n",
              "        buttonEl.style.display =\n",
              "          google.colab.kernel.accessAllowed ? 'block' : 'none';\n",
              "\n",
              "        async function convertToInteractive(key) {\n",
              "          const element = document.querySelector('#df-26e9b9ae-5317-46bc-8b9d-9f11167dc7dd');\n",
              "          const dataTable =\n",
              "            await google.colab.kernel.invokeFunction('convertToInteractive',\n",
              "                                                     [key], {});\n",
              "          if (!dataTable) return;\n",
              "\n",
              "          const docLinkHtml = 'Like what you see? Visit the ' +\n",
              "            '<a target=\"_blank\" href=https://colab.research.google.com/notebooks/data_table.ipynb>data table notebook</a>'\n",
              "            + ' to learn more about interactive tables.';\n",
              "          element.innerHTML = '';\n",
              "          dataTable['output_type'] = 'display_data';\n",
              "          await google.colab.output.renderOutput(dataTable, element);\n",
              "          const docLink = document.createElement('div');\n",
              "          docLink.innerHTML = docLinkHtml;\n",
              "          element.appendChild(docLink);\n",
              "        }\n",
              "      </script>\n",
              "    </div>\n",
              "  </div>\n",
              "  "
            ]
          },
          "metadata": {},
          "execution_count": 26
        }
      ]
    },
    {
      "cell_type": "code",
      "source": [
        "#dropping the duplicates because as shown above various records Sudan seems to have been input twice\n",
        "df_rank.drop_duplicates(inplace=True)"
      ],
      "metadata": {
        "id": "xbAQesmS4uY3"
      },
      "execution_count": null,
      "outputs": []
    },
    {
      "cell_type": "code",
      "source": [
        "#verifying duplicates were dropped\n",
        "df_rank.duplicated().sum()"
      ],
      "metadata": {
        "colab": {
          "base_uri": "https://localhost:8080/"
        },
        "id": "5JZuGtUy5Oet",
        "outputId": "d5a8198a-5a22-478c-8dc0-0173ef3efc1c"
      },
      "execution_count": null,
      "outputs": [
        {
          "output_type": "execute_result",
          "data": {
            "text/plain": [
              "0"
            ]
          },
          "metadata": {},
          "execution_count": 29
        }
      ]
    },
    {
      "cell_type": "code",
      "source": [
        ""
      ],
      "metadata": {
        "id": "uHNjiRerz7lq"
      },
      "execution_count": null,
      "outputs": []
    },
    {
      "cell_type": "code",
      "source": [
        "#converting date columns in the dataset to datetime format \n",
        "df_rank['rank_date'] = pd.to_datetime(df_rank['rank_date'])\n",
        "df_res['date'] = pd.to_datetime(df_res['date'])"
      ],
      "metadata": {
        "id": "8tV8VQ2hm0BY"
      },
      "execution_count": null,
      "outputs": []
    },
    {
      "cell_type": "code",
      "source": [
        ""
      ],
      "metadata": {
        "id": "2cBNQNvM13H7"
      },
      "execution_count": null,
      "outputs": []
    },
    {
      "cell_type": "code",
      "source": [
        "#rankings appear to update monthly. compare with date of match\n",
        "df_rank[df_rank['country_full'] == 'Germany'][['rank', 'rank_date']]"
      ],
      "metadata": {
        "colab": {
          "base_uri": "https://localhost:8080/",
          "height": 424
        },
        "id": "KBR9uOvn5sGf",
        "outputId": "948283bf-fe71-4f42-ace5-490408684671"
      },
      "execution_count": 201,
      "outputs": [
        {
          "output_type": "execute_result",
          "data": {
            "text/plain": [
              "       rank   rank_date\n",
              "0         1  1993-08-08\n",
              "172       5  1993-09-23\n",
              "337       4  1993-10-22\n",
              "503       3  1993-11-19\n",
              "669       1  1993-12-23\n",
              "...     ...         ...\n",
              "56738     1  2018-02-15\n",
              "56949     1  2018-03-15\n",
              "57160     1  2018-04-12\n",
              "57371     1  2018-05-17\n",
              "57582     1  2018-06-07\n",
              "\n",
              "[286 rows x 2 columns]"
            ],
            "text/html": [
              "\n",
              "  <div id=\"df-443fede3-afec-4f0a-a554-64557231e877\">\n",
              "    <div class=\"colab-df-container\">\n",
              "      <div>\n",
              "<style scoped>\n",
              "    .dataframe tbody tr th:only-of-type {\n",
              "        vertical-align: middle;\n",
              "    }\n",
              "\n",
              "    .dataframe tbody tr th {\n",
              "        vertical-align: top;\n",
              "    }\n",
              "\n",
              "    .dataframe thead th {\n",
              "        text-align: right;\n",
              "    }\n",
              "</style>\n",
              "<table border=\"1\" class=\"dataframe\">\n",
              "  <thead>\n",
              "    <tr style=\"text-align: right;\">\n",
              "      <th></th>\n",
              "      <th>rank</th>\n",
              "      <th>rank_date</th>\n",
              "    </tr>\n",
              "  </thead>\n",
              "  <tbody>\n",
              "    <tr>\n",
              "      <th>0</th>\n",
              "      <td>1</td>\n",
              "      <td>1993-08-08</td>\n",
              "    </tr>\n",
              "    <tr>\n",
              "      <th>172</th>\n",
              "      <td>5</td>\n",
              "      <td>1993-09-23</td>\n",
              "    </tr>\n",
              "    <tr>\n",
              "      <th>337</th>\n",
              "      <td>4</td>\n",
              "      <td>1993-10-22</td>\n",
              "    </tr>\n",
              "    <tr>\n",
              "      <th>503</th>\n",
              "      <td>3</td>\n",
              "      <td>1993-11-19</td>\n",
              "    </tr>\n",
              "    <tr>\n",
              "      <th>669</th>\n",
              "      <td>1</td>\n",
              "      <td>1993-12-23</td>\n",
              "    </tr>\n",
              "    <tr>\n",
              "      <th>...</th>\n",
              "      <td>...</td>\n",
              "      <td>...</td>\n",
              "    </tr>\n",
              "    <tr>\n",
              "      <th>56738</th>\n",
              "      <td>1</td>\n",
              "      <td>2018-02-15</td>\n",
              "    </tr>\n",
              "    <tr>\n",
              "      <th>56949</th>\n",
              "      <td>1</td>\n",
              "      <td>2018-03-15</td>\n",
              "    </tr>\n",
              "    <tr>\n",
              "      <th>57160</th>\n",
              "      <td>1</td>\n",
              "      <td>2018-04-12</td>\n",
              "    </tr>\n",
              "    <tr>\n",
              "      <th>57371</th>\n",
              "      <td>1</td>\n",
              "      <td>2018-05-17</td>\n",
              "    </tr>\n",
              "    <tr>\n",
              "      <th>57582</th>\n",
              "      <td>1</td>\n",
              "      <td>2018-06-07</td>\n",
              "    </tr>\n",
              "  </tbody>\n",
              "</table>\n",
              "<p>286 rows × 2 columns</p>\n",
              "</div>\n",
              "      <button class=\"colab-df-convert\" onclick=\"convertToInteractive('df-443fede3-afec-4f0a-a554-64557231e877')\"\n",
              "              title=\"Convert this dataframe to an interactive table.\"\n",
              "              style=\"display:none;\">\n",
              "        \n",
              "  <svg xmlns=\"http://www.w3.org/2000/svg\" height=\"24px\"viewBox=\"0 0 24 24\"\n",
              "       width=\"24px\">\n",
              "    <path d=\"M0 0h24v24H0V0z\" fill=\"none\"/>\n",
              "    <path d=\"M18.56 5.44l.94 2.06.94-2.06 2.06-.94-2.06-.94-.94-2.06-.94 2.06-2.06.94zm-11 1L8.5 8.5l.94-2.06 2.06-.94-2.06-.94L8.5 2.5l-.94 2.06-2.06.94zm10 10l.94 2.06.94-2.06 2.06-.94-2.06-.94-.94-2.06-.94 2.06-2.06.94z\"/><path d=\"M17.41 7.96l-1.37-1.37c-.4-.4-.92-.59-1.43-.59-.52 0-1.04.2-1.43.59L10.3 9.45l-7.72 7.72c-.78.78-.78 2.05 0 2.83L4 21.41c.39.39.9.59 1.41.59.51 0 1.02-.2 1.41-.59l7.78-7.78 2.81-2.81c.8-.78.8-2.07 0-2.86zM5.41 20L4 18.59l7.72-7.72 1.47 1.35L5.41 20z\"/>\n",
              "  </svg>\n",
              "      </button>\n",
              "      \n",
              "  <style>\n",
              "    .colab-df-container {\n",
              "      display:flex;\n",
              "      flex-wrap:wrap;\n",
              "      gap: 12px;\n",
              "    }\n",
              "\n",
              "    .colab-df-convert {\n",
              "      background-color: #E8F0FE;\n",
              "      border: none;\n",
              "      border-radius: 50%;\n",
              "      cursor: pointer;\n",
              "      display: none;\n",
              "      fill: #1967D2;\n",
              "      height: 32px;\n",
              "      padding: 0 0 0 0;\n",
              "      width: 32px;\n",
              "    }\n",
              "\n",
              "    .colab-df-convert:hover {\n",
              "      background-color: #E2EBFA;\n",
              "      box-shadow: 0px 1px 2px rgba(60, 64, 67, 0.3), 0px 1px 3px 1px rgba(60, 64, 67, 0.15);\n",
              "      fill: #174EA6;\n",
              "    }\n",
              "\n",
              "    [theme=dark] .colab-df-convert {\n",
              "      background-color: #3B4455;\n",
              "      fill: #D2E3FC;\n",
              "    }\n",
              "\n",
              "    [theme=dark] .colab-df-convert:hover {\n",
              "      background-color: #434B5C;\n",
              "      box-shadow: 0px 1px 3px 1px rgba(0, 0, 0, 0.15);\n",
              "      filter: drop-shadow(0px 1px 2px rgba(0, 0, 0, 0.3));\n",
              "      fill: #FFFFFF;\n",
              "    }\n",
              "  </style>\n",
              "\n",
              "      <script>\n",
              "        const buttonEl =\n",
              "          document.querySelector('#df-443fede3-afec-4f0a-a554-64557231e877 button.colab-df-convert');\n",
              "        buttonEl.style.display =\n",
              "          google.colab.kernel.accessAllowed ? 'block' : 'none';\n",
              "\n",
              "        async function convertToInteractive(key) {\n",
              "          const element = document.querySelector('#df-443fede3-afec-4f0a-a554-64557231e877');\n",
              "          const dataTable =\n",
              "            await google.colab.kernel.invokeFunction('convertToInteractive',\n",
              "                                                     [key], {});\n",
              "          if (!dataTable) return;\n",
              "\n",
              "          const docLinkHtml = 'Like what you see? Visit the ' +\n",
              "            '<a target=\"_blank\" href=https://colab.research.google.com/notebooks/data_table.ipynb>data table notebook</a>'\n",
              "            + ' to learn more about interactive tables.';\n",
              "          element.innerHTML = '';\n",
              "          dataTable['output_type'] = 'display_data';\n",
              "          await google.colab.output.renderOutput(dataTable, element);\n",
              "          const docLink = document.createElement('div');\n",
              "          docLink.innerHTML = docLinkHtml;\n",
              "          element.appendChild(docLink);\n",
              "        }\n",
              "      </script>\n",
              "    </div>\n",
              "  </div>\n",
              "  "
            ]
          },
          "metadata": {},
          "execution_count": 201
        }
      ]
    },
    {
      "cell_type": "code",
      "source": [
        "#creating a function for new column with the year and month\n",
        "#this will help in relating the month and year of a ranking \n",
        "#(which are more static and show a monthly update trend) in the ranking dataset to the corresponding part\n",
        "#of the date of a game in the scores dataset, which is the first step (more info added later) \n",
        "# in matching home and away teams to their proper rankings for the particular time of their match.\n",
        "def year_month(x):\n",
        "  return f'{x.year}-{x.month}'"
      ],
      "metadata": {
        "id": "3TSGj9CQysdk"
      },
      "execution_count": null,
      "outputs": []
    },
    {
      "cell_type": "code",
      "source": [
        "#creating the year_month columns explained above\n",
        "df_rank['year_month'] = df_rank['rank_date'].apply(lambda x: year_month(x))\n",
        "df_res['year_month'] = df_res['date'].apply(lambda x: year_month(x))"
      ],
      "metadata": {
        "id": "mNml7DeLnmbq"
      },
      "execution_count": null,
      "outputs": []
    },
    {
      "cell_type": "code",
      "source": [
        "#previewing\n",
        "print(df_rank.head(2))\n",
        "print(df_res.head(2))"
      ],
      "metadata": {
        "colab": {
          "base_uri": "https://localhost:8080/"
        },
        "id": "cmfHo3DJzeUc",
        "outputId": "81dc785d-ab84-4ddc-aa6f-0b29f324154a"
      },
      "execution_count": null,
      "outputs": [
        {
          "output_type": "stream",
          "name": "stdout",
          "text": [
            "   rank country_full country_abrv  total_points  previous_points  rank_change  \\\n",
            "0     1      Germany          GER           0.0               57            0   \n",
            "1     2        Italy          ITA           0.0               57            0   \n",
            "\n",
            "   cur_year_avg  cur_year_avg_weighted  last_year_avg  last_year_avg_weighted  \\\n",
            "0           0.0                    0.0            0.0                     0.0   \n",
            "1           0.0                    0.0            0.0                     0.0   \n",
            "\n",
            "   two_year_ago_avg  two_year_ago_weighted  three_year_ago_avg  \\\n",
            "0               0.0                    0.0                 0.0   \n",
            "1               0.0                    0.0                 0.0   \n",
            "\n",
            "   three_year_ago_weighted confederation  rank_date year_month  \n",
            "0                      0.0          UEFA 1993-08-08     1993-8  \n",
            "1                      0.0          UEFA 1993-08-08     1993-8  \n",
            "        date home_team away_team  home_score  away_score tournament     city  \\\n",
            "0 1872-11-30  Scotland   England           0           0   Friendly  Glasgow   \n",
            "1 1873-03-08   England  Scotland           4           2   Friendly   London   \n",
            "\n",
            "    country  neutral year_month  \n",
            "0  Scotland    False    1872-11  \n",
            "1   England    False     1873-3  \n"
          ]
        }
      ]
    },
    {
      "cell_type": "code",
      "source": [
        "#seeing earliest date in rank dataset\n",
        "df_rank['rank_date'].min()"
      ],
      "metadata": {
        "colab": {
          "base_uri": "https://localhost:8080/"
        },
        "id": "98bBLtxxtgU8",
        "outputId": "2c8dc8d3-3bff-4d47-f031-e3eb1d86d0f5"
      },
      "execution_count": null,
      "outputs": [
        {
          "output_type": "execute_result",
          "data": {
            "text/plain": [
              "Timestamp('1993-08-08 00:00:00')"
            ]
          },
          "metadata": {},
          "execution_count": 38
        }
      ]
    },
    {
      "cell_type": "code",
      "source": [
        "#seeing latest date in rank dataset\n",
        "df_rank['rank_date'].max()"
      ],
      "metadata": {
        "colab": {
          "base_uri": "https://localhost:8080/"
        },
        "id": "RaRhfez6Lkgu",
        "outputId": "f932e012-fce5-46bf-b47a-b5b8fa3f2a61"
      },
      "execution_count": null,
      "outputs": [
        {
          "output_type": "execute_result",
          "data": {
            "text/plain": [
              "Timestamp('2018-06-07 00:00:00')"
            ]
          },
          "metadata": {},
          "execution_count": 40
        }
      ]
    },
    {
      "cell_type": "code",
      "source": [
        "#seeing earliest date in scores dataset\n",
        "df_res['date'].min()"
      ],
      "metadata": {
        "colab": {
          "base_uri": "https://localhost:8080/"
        },
        "id": "6aSKfKg6toAq",
        "outputId": "9da025d1-11b0-49dc-d49c-7f80cda546a1"
      },
      "execution_count": null,
      "outputs": [
        {
          "output_type": "execute_result",
          "data": {
            "text/plain": [
              "Timestamp('1872-11-30 00:00:00')"
            ]
          },
          "metadata": {},
          "execution_count": 41
        }
      ]
    },
    {
      "cell_type": "code",
      "source": [
        "#seeing latest date in scores dataset\n",
        "df_res['date'].max()"
      ],
      "metadata": {
        "colab": {
          "base_uri": "https://localhost:8080/"
        },
        "id": "j_OvwEH6Ls0U",
        "outputId": "84e50025-16d2-4cde-f80a-81d9821dc103"
      },
      "execution_count": null,
      "outputs": [
        {
          "output_type": "execute_result",
          "data": {
            "text/plain": [
              "Timestamp('2019-07-20 00:00:00')"
            ]
          },
          "metadata": {},
          "execution_count": 42
        }
      ]
    },
    {
      "cell_type": "code",
      "source": [
        "#scores dataset has to be filtered to dates available in rank because rank will be used in modelling"
      ],
      "metadata": {
        "id": "Y6TRkQwpTDKe"
      },
      "execution_count": null,
      "outputs": []
    },
    {
      "cell_type": "code",
      "source": [
        "##rank is only available from 1993 August to june 2018, and it will be used for modelling so \n",
        "#filter out matches from results dataframe not in that date range\n",
        "\n",
        "df_res2 = df_res[(df_res['date'] >= df_rank['rank_date'].min()) & (df_res['date'] <= df_rank['rank_date'].max())].copy()"
      ],
      "metadata": {
        "id": "vJhg_Ilb1H6Y"
      },
      "execution_count": null,
      "outputs": []
    },
    {
      "cell_type": "code",
      "source": [
        "df_res2"
      ],
      "metadata": {
        "colab": {
          "base_uri": "https://localhost:8080/",
          "height": 800
        },
        "id": "qsxQjmND1Zu7",
        "outputId": "e063511b-87f9-4b13-e017-0c60c5001dd1"
      },
      "execution_count": null,
      "outputs": [
        {
          "output_type": "execute_result",
          "data": {
            "text/plain": [
              "            date        home_team                away_team  home_score  \\\n",
              "17915 1993-08-08          Bolivia                  Uruguay           3   \n",
              "17916 1993-08-08           Brazil                   Mexico           1   \n",
              "17917 1993-08-08          Ecuador                Venezuela           5   \n",
              "17918 1993-08-08           Guinea             Sierra Leone           1   \n",
              "17919 1993-08-08         Paraguay                Argentina           1   \n",
              "...          ...              ...                      ...         ...   \n",
              "39829 2018-06-07         Abkhazia  United Koreans in Japan           2   \n",
              "39830 2018-06-07           Barawa                   Panjab           0   \n",
              "39831 2018-06-07         Cascadia          Western Armenia           4   \n",
              "39832 2018-06-07  Northern Cyprus                  Padania           3   \n",
              "39833 2018-06-07       Kárpátalja             Székely Land           4   \n",
              "\n",
              "       away_score                    tournament        city   country  \\\n",
              "17915           1  FIFA World Cup qualification      La Paz   Bolivia   \n",
              "17916           1                      Friendly      Maceió    Brazil   \n",
              "17917           0  FIFA World Cup qualification       Quito   Ecuador   \n",
              "17918           0                      Friendly     Conakry    Guinea   \n",
              "17919           3  FIFA World Cup qualification    Asunción  Paraguay   \n",
              "...           ...                           ...         ...       ...   \n",
              "39829           0     CONIFA World Football Cup     Bromley   England   \n",
              "39830           5     CONIFA World Football Cup      Sutton   England   \n",
              "39831           0     CONIFA World Football Cup     Bromley   England   \n",
              "39832           2     CONIFA World Football Cup  Carshalton   England   \n",
              "39833           2     CONIFA World Football Cup  Carshalton   England   \n",
              "\n",
              "       neutral year_month  \n",
              "17915    False     1993-8  \n",
              "17916    False     1993-8  \n",
              "17917    False     1993-8  \n",
              "17918    False     1993-8  \n",
              "17919    False     1993-8  \n",
              "...        ...        ...  \n",
              "39829     True     2018-6  \n",
              "39830    False     2018-6  \n",
              "39831     True     2018-6  \n",
              "39832     True     2018-6  \n",
              "39833     True     2018-6  \n",
              "\n",
              "[21919 rows x 10 columns]"
            ],
            "text/html": [
              "\n",
              "  <div id=\"df-6a1d8b16-dca2-4c2f-9072-85df892cb55f\">\n",
              "    <div class=\"colab-df-container\">\n",
              "      <div>\n",
              "<style scoped>\n",
              "    .dataframe tbody tr th:only-of-type {\n",
              "        vertical-align: middle;\n",
              "    }\n",
              "\n",
              "    .dataframe tbody tr th {\n",
              "        vertical-align: top;\n",
              "    }\n",
              "\n",
              "    .dataframe thead th {\n",
              "        text-align: right;\n",
              "    }\n",
              "</style>\n",
              "<table border=\"1\" class=\"dataframe\">\n",
              "  <thead>\n",
              "    <tr style=\"text-align: right;\">\n",
              "      <th></th>\n",
              "      <th>date</th>\n",
              "      <th>home_team</th>\n",
              "      <th>away_team</th>\n",
              "      <th>home_score</th>\n",
              "      <th>away_score</th>\n",
              "      <th>tournament</th>\n",
              "      <th>city</th>\n",
              "      <th>country</th>\n",
              "      <th>neutral</th>\n",
              "      <th>year_month</th>\n",
              "    </tr>\n",
              "  </thead>\n",
              "  <tbody>\n",
              "    <tr>\n",
              "      <th>17915</th>\n",
              "      <td>1993-08-08</td>\n",
              "      <td>Bolivia</td>\n",
              "      <td>Uruguay</td>\n",
              "      <td>3</td>\n",
              "      <td>1</td>\n",
              "      <td>FIFA World Cup qualification</td>\n",
              "      <td>La Paz</td>\n",
              "      <td>Bolivia</td>\n",
              "      <td>False</td>\n",
              "      <td>1993-8</td>\n",
              "    </tr>\n",
              "    <tr>\n",
              "      <th>17916</th>\n",
              "      <td>1993-08-08</td>\n",
              "      <td>Brazil</td>\n",
              "      <td>Mexico</td>\n",
              "      <td>1</td>\n",
              "      <td>1</td>\n",
              "      <td>Friendly</td>\n",
              "      <td>Maceió</td>\n",
              "      <td>Brazil</td>\n",
              "      <td>False</td>\n",
              "      <td>1993-8</td>\n",
              "    </tr>\n",
              "    <tr>\n",
              "      <th>17917</th>\n",
              "      <td>1993-08-08</td>\n",
              "      <td>Ecuador</td>\n",
              "      <td>Venezuela</td>\n",
              "      <td>5</td>\n",
              "      <td>0</td>\n",
              "      <td>FIFA World Cup qualification</td>\n",
              "      <td>Quito</td>\n",
              "      <td>Ecuador</td>\n",
              "      <td>False</td>\n",
              "      <td>1993-8</td>\n",
              "    </tr>\n",
              "    <tr>\n",
              "      <th>17918</th>\n",
              "      <td>1993-08-08</td>\n",
              "      <td>Guinea</td>\n",
              "      <td>Sierra Leone</td>\n",
              "      <td>1</td>\n",
              "      <td>0</td>\n",
              "      <td>Friendly</td>\n",
              "      <td>Conakry</td>\n",
              "      <td>Guinea</td>\n",
              "      <td>False</td>\n",
              "      <td>1993-8</td>\n",
              "    </tr>\n",
              "    <tr>\n",
              "      <th>17919</th>\n",
              "      <td>1993-08-08</td>\n",
              "      <td>Paraguay</td>\n",
              "      <td>Argentina</td>\n",
              "      <td>1</td>\n",
              "      <td>3</td>\n",
              "      <td>FIFA World Cup qualification</td>\n",
              "      <td>Asunción</td>\n",
              "      <td>Paraguay</td>\n",
              "      <td>False</td>\n",
              "      <td>1993-8</td>\n",
              "    </tr>\n",
              "    <tr>\n",
              "      <th>...</th>\n",
              "      <td>...</td>\n",
              "      <td>...</td>\n",
              "      <td>...</td>\n",
              "      <td>...</td>\n",
              "      <td>...</td>\n",
              "      <td>...</td>\n",
              "      <td>...</td>\n",
              "      <td>...</td>\n",
              "      <td>...</td>\n",
              "      <td>...</td>\n",
              "    </tr>\n",
              "    <tr>\n",
              "      <th>39829</th>\n",
              "      <td>2018-06-07</td>\n",
              "      <td>Abkhazia</td>\n",
              "      <td>United Koreans in Japan</td>\n",
              "      <td>2</td>\n",
              "      <td>0</td>\n",
              "      <td>CONIFA World Football Cup</td>\n",
              "      <td>Bromley</td>\n",
              "      <td>England</td>\n",
              "      <td>True</td>\n",
              "      <td>2018-6</td>\n",
              "    </tr>\n",
              "    <tr>\n",
              "      <th>39830</th>\n",
              "      <td>2018-06-07</td>\n",
              "      <td>Barawa</td>\n",
              "      <td>Panjab</td>\n",
              "      <td>0</td>\n",
              "      <td>5</td>\n",
              "      <td>CONIFA World Football Cup</td>\n",
              "      <td>Sutton</td>\n",
              "      <td>England</td>\n",
              "      <td>False</td>\n",
              "      <td>2018-6</td>\n",
              "    </tr>\n",
              "    <tr>\n",
              "      <th>39831</th>\n",
              "      <td>2018-06-07</td>\n",
              "      <td>Cascadia</td>\n",
              "      <td>Western Armenia</td>\n",
              "      <td>4</td>\n",
              "      <td>0</td>\n",
              "      <td>CONIFA World Football Cup</td>\n",
              "      <td>Bromley</td>\n",
              "      <td>England</td>\n",
              "      <td>True</td>\n",
              "      <td>2018-6</td>\n",
              "    </tr>\n",
              "    <tr>\n",
              "      <th>39832</th>\n",
              "      <td>2018-06-07</td>\n",
              "      <td>Northern Cyprus</td>\n",
              "      <td>Padania</td>\n",
              "      <td>3</td>\n",
              "      <td>2</td>\n",
              "      <td>CONIFA World Football Cup</td>\n",
              "      <td>Carshalton</td>\n",
              "      <td>England</td>\n",
              "      <td>True</td>\n",
              "      <td>2018-6</td>\n",
              "    </tr>\n",
              "    <tr>\n",
              "      <th>39833</th>\n",
              "      <td>2018-06-07</td>\n",
              "      <td>Kárpátalja</td>\n",
              "      <td>Székely Land</td>\n",
              "      <td>4</td>\n",
              "      <td>2</td>\n",
              "      <td>CONIFA World Football Cup</td>\n",
              "      <td>Carshalton</td>\n",
              "      <td>England</td>\n",
              "      <td>True</td>\n",
              "      <td>2018-6</td>\n",
              "    </tr>\n",
              "  </tbody>\n",
              "</table>\n",
              "<p>21919 rows × 10 columns</p>\n",
              "</div>\n",
              "      <button class=\"colab-df-convert\" onclick=\"convertToInteractive('df-6a1d8b16-dca2-4c2f-9072-85df892cb55f')\"\n",
              "              title=\"Convert this dataframe to an interactive table.\"\n",
              "              style=\"display:none;\">\n",
              "        \n",
              "  <svg xmlns=\"http://www.w3.org/2000/svg\" height=\"24px\"viewBox=\"0 0 24 24\"\n",
              "       width=\"24px\">\n",
              "    <path d=\"M0 0h24v24H0V0z\" fill=\"none\"/>\n",
              "    <path d=\"M18.56 5.44l.94 2.06.94-2.06 2.06-.94-2.06-.94-.94-2.06-.94 2.06-2.06.94zm-11 1L8.5 8.5l.94-2.06 2.06-.94-2.06-.94L8.5 2.5l-.94 2.06-2.06.94zm10 10l.94 2.06.94-2.06 2.06-.94-2.06-.94-.94-2.06-.94 2.06-2.06.94z\"/><path d=\"M17.41 7.96l-1.37-1.37c-.4-.4-.92-.59-1.43-.59-.52 0-1.04.2-1.43.59L10.3 9.45l-7.72 7.72c-.78.78-.78 2.05 0 2.83L4 21.41c.39.39.9.59 1.41.59.51 0 1.02-.2 1.41-.59l7.78-7.78 2.81-2.81c.8-.78.8-2.07 0-2.86zM5.41 20L4 18.59l7.72-7.72 1.47 1.35L5.41 20z\"/>\n",
              "  </svg>\n",
              "      </button>\n",
              "      \n",
              "  <style>\n",
              "    .colab-df-container {\n",
              "      display:flex;\n",
              "      flex-wrap:wrap;\n",
              "      gap: 12px;\n",
              "    }\n",
              "\n",
              "    .colab-df-convert {\n",
              "      background-color: #E8F0FE;\n",
              "      border: none;\n",
              "      border-radius: 50%;\n",
              "      cursor: pointer;\n",
              "      display: none;\n",
              "      fill: #1967D2;\n",
              "      height: 32px;\n",
              "      padding: 0 0 0 0;\n",
              "      width: 32px;\n",
              "    }\n",
              "\n",
              "    .colab-df-convert:hover {\n",
              "      background-color: #E2EBFA;\n",
              "      box-shadow: 0px 1px 2px rgba(60, 64, 67, 0.3), 0px 1px 3px 1px rgba(60, 64, 67, 0.15);\n",
              "      fill: #174EA6;\n",
              "    }\n",
              "\n",
              "    [theme=dark] .colab-df-convert {\n",
              "      background-color: #3B4455;\n",
              "      fill: #D2E3FC;\n",
              "    }\n",
              "\n",
              "    [theme=dark] .colab-df-convert:hover {\n",
              "      background-color: #434B5C;\n",
              "      box-shadow: 0px 1px 3px 1px rgba(0, 0, 0, 0.15);\n",
              "      filter: drop-shadow(0px 1px 2px rgba(0, 0, 0, 0.3));\n",
              "      fill: #FFFFFF;\n",
              "    }\n",
              "  </style>\n",
              "\n",
              "      <script>\n",
              "        const buttonEl =\n",
              "          document.querySelector('#df-6a1d8b16-dca2-4c2f-9072-85df892cb55f button.colab-df-convert');\n",
              "        buttonEl.style.display =\n",
              "          google.colab.kernel.accessAllowed ? 'block' : 'none';\n",
              "\n",
              "        async function convertToInteractive(key) {\n",
              "          const element = document.querySelector('#df-6a1d8b16-dca2-4c2f-9072-85df892cb55f');\n",
              "          const dataTable =\n",
              "            await google.colab.kernel.invokeFunction('convertToInteractive',\n",
              "                                                     [key], {});\n",
              "          if (!dataTable) return;\n",
              "\n",
              "          const docLinkHtml = 'Like what you see? Visit the ' +\n",
              "            '<a target=\"_blank\" href=https://colab.research.google.com/notebooks/data_table.ipynb>data table notebook</a>'\n",
              "            + ' to learn more about interactive tables.';\n",
              "          element.innerHTML = '';\n",
              "          dataTable['output_type'] = 'display_data';\n",
              "          await google.colab.output.renderOutput(dataTable, element);\n",
              "          const docLink = document.createElement('div');\n",
              "          docLink.innerHTML = docLinkHtml;\n",
              "          element.appendChild(docLink);\n",
              "        }\n",
              "      </script>\n",
              "    </div>\n",
              "  </div>\n",
              "  "
            ]
          },
          "metadata": {},
          "execution_count": 48
        }
      ]
    },
    {
      "cell_type": "code",
      "source": [
        "df_res2.shape"
      ],
      "metadata": {
        "colab": {
          "base_uri": "https://localhost:8080/"
        },
        "id": "Tw6B9M4X2XBp",
        "outputId": "24c8a06c-d608-400c-cc55-f01309de8f0c"
      },
      "execution_count": null,
      "outputs": [
        {
          "output_type": "execute_result",
          "data": {
            "text/plain": [
              "(21919, 10)"
            ]
          },
          "metadata": {},
          "execution_count": 49
        }
      ]
    },
    {
      "cell_type": "code",
      "source": [
        "df_rank.shape"
      ],
      "metadata": {
        "colab": {
          "base_uri": "https://localhost:8080/"
        },
        "id": "HutNs2L02g1A",
        "outputId": "c12a110a-738b-4dce-fe95-6dd34b9a46fc"
      },
      "execution_count": null,
      "outputs": [
        {
          "output_type": "execute_result",
          "data": {
            "text/plain": [
              "(57756, 17)"
            ]
          },
          "metadata": {},
          "execution_count": 50
        }
      ]
    },
    {
      "cell_type": "code",
      "source": [
        "#drop unnecessary columns for analysis from scores dataframe\n",
        "df_res2.drop(columns=['city', 'country', 'neutral'], inplace=True)"
      ],
      "metadata": {
        "id": "hmNvLRdF24LI"
      },
      "execution_count": null,
      "outputs": []
    },
    {
      "cell_type": "code",
      "source": [
        "df_rank.columns"
      ],
      "metadata": {
        "colab": {
          "base_uri": "https://localhost:8080/"
        },
        "id": "r4uXDCK-4Dps",
        "outputId": "a3e91faa-cf2e-4b43-fc1d-4e1a8db03983"
      },
      "execution_count": null,
      "outputs": [
        {
          "output_type": "execute_result",
          "data": {
            "text/plain": [
              "Index(['rank', 'country_full', 'country_abrv', 'total_points',\n",
              "       'previous_points', 'rank_change', 'cur_year_avg',\n",
              "       'cur_year_avg_weighted', 'last_year_avg', 'last_year_avg_weighted',\n",
              "       'two_year_ago_avg', 'two_year_ago_weighted', 'three_year_ago_avg',\n",
              "       'three_year_ago_weighted', 'confederation', 'rank_date', 'year_month'],\n",
              "      dtype='object')"
            ]
          },
          "metadata": {},
          "execution_count": 52
        }
      ]
    },
    {
      "cell_type": "code",
      "source": [
        "#drop unnecessary columns for analysis from rank info dataframe\n",
        "df_rank.drop(columns=['country_abrv', 'total_points',\n",
        "       'previous_points', 'rank_change', 'cur_year_avg',\n",
        "       'cur_year_avg_weighted', 'last_year_avg', 'last_year_avg_weighted',\n",
        "       'two_year_ago_avg', 'two_year_ago_weighted', 'three_year_ago_avg',\n",
        "       'three_year_ago_weighted', 'confederation'], inplace=True)"
      ],
      "metadata": {
        "id": "neuUd_lj3utd"
      },
      "execution_count": null,
      "outputs": []
    },
    {
      "cell_type": "code",
      "source": [
        "#previewing\n",
        "df_rank.head(1)"
      ],
      "metadata": {
        "colab": {
          "base_uri": "https://localhost:8080/",
          "height": 81
        },
        "id": "gRQfSdBc4qtV",
        "outputId": "d9c0dfea-8f4d-4bb7-9ce4-e5a70f89152e"
      },
      "execution_count": null,
      "outputs": [
        {
          "output_type": "execute_result",
          "data": {
            "text/plain": [
              "   rank country_full  rank_date year_month\n",
              "0     1      Germany 1993-08-08     1993-8"
            ],
            "text/html": [
              "\n",
              "  <div id=\"df-5e23f014-1b25-4468-85e6-dbbb37ef3890\">\n",
              "    <div class=\"colab-df-container\">\n",
              "      <div>\n",
              "<style scoped>\n",
              "    .dataframe tbody tr th:only-of-type {\n",
              "        vertical-align: middle;\n",
              "    }\n",
              "\n",
              "    .dataframe tbody tr th {\n",
              "        vertical-align: top;\n",
              "    }\n",
              "\n",
              "    .dataframe thead th {\n",
              "        text-align: right;\n",
              "    }\n",
              "</style>\n",
              "<table border=\"1\" class=\"dataframe\">\n",
              "  <thead>\n",
              "    <tr style=\"text-align: right;\">\n",
              "      <th></th>\n",
              "      <th>rank</th>\n",
              "      <th>country_full</th>\n",
              "      <th>rank_date</th>\n",
              "      <th>year_month</th>\n",
              "    </tr>\n",
              "  </thead>\n",
              "  <tbody>\n",
              "    <tr>\n",
              "      <th>0</th>\n",
              "      <td>1</td>\n",
              "      <td>Germany</td>\n",
              "      <td>1993-08-08</td>\n",
              "      <td>1993-8</td>\n",
              "    </tr>\n",
              "  </tbody>\n",
              "</table>\n",
              "</div>\n",
              "      <button class=\"colab-df-convert\" onclick=\"convertToInteractive('df-5e23f014-1b25-4468-85e6-dbbb37ef3890')\"\n",
              "              title=\"Convert this dataframe to an interactive table.\"\n",
              "              style=\"display:none;\">\n",
              "        \n",
              "  <svg xmlns=\"http://www.w3.org/2000/svg\" height=\"24px\"viewBox=\"0 0 24 24\"\n",
              "       width=\"24px\">\n",
              "    <path d=\"M0 0h24v24H0V0z\" fill=\"none\"/>\n",
              "    <path d=\"M18.56 5.44l.94 2.06.94-2.06 2.06-.94-2.06-.94-.94-2.06-.94 2.06-2.06.94zm-11 1L8.5 8.5l.94-2.06 2.06-.94-2.06-.94L8.5 2.5l-.94 2.06-2.06.94zm10 10l.94 2.06.94-2.06 2.06-.94-2.06-.94-.94-2.06-.94 2.06-2.06.94z\"/><path d=\"M17.41 7.96l-1.37-1.37c-.4-.4-.92-.59-1.43-.59-.52 0-1.04.2-1.43.59L10.3 9.45l-7.72 7.72c-.78.78-.78 2.05 0 2.83L4 21.41c.39.39.9.59 1.41.59.51 0 1.02-.2 1.41-.59l7.78-7.78 2.81-2.81c.8-.78.8-2.07 0-2.86zM5.41 20L4 18.59l7.72-7.72 1.47 1.35L5.41 20z\"/>\n",
              "  </svg>\n",
              "      </button>\n",
              "      \n",
              "  <style>\n",
              "    .colab-df-container {\n",
              "      display:flex;\n",
              "      flex-wrap:wrap;\n",
              "      gap: 12px;\n",
              "    }\n",
              "\n",
              "    .colab-df-convert {\n",
              "      background-color: #E8F0FE;\n",
              "      border: none;\n",
              "      border-radius: 50%;\n",
              "      cursor: pointer;\n",
              "      display: none;\n",
              "      fill: #1967D2;\n",
              "      height: 32px;\n",
              "      padding: 0 0 0 0;\n",
              "      width: 32px;\n",
              "    }\n",
              "\n",
              "    .colab-df-convert:hover {\n",
              "      background-color: #E2EBFA;\n",
              "      box-shadow: 0px 1px 2px rgba(60, 64, 67, 0.3), 0px 1px 3px 1px rgba(60, 64, 67, 0.15);\n",
              "      fill: #174EA6;\n",
              "    }\n",
              "\n",
              "    [theme=dark] .colab-df-convert {\n",
              "      background-color: #3B4455;\n",
              "      fill: #D2E3FC;\n",
              "    }\n",
              "\n",
              "    [theme=dark] .colab-df-convert:hover {\n",
              "      background-color: #434B5C;\n",
              "      box-shadow: 0px 1px 3px 1px rgba(0, 0, 0, 0.15);\n",
              "      filter: drop-shadow(0px 1px 2px rgba(0, 0, 0, 0.3));\n",
              "      fill: #FFFFFF;\n",
              "    }\n",
              "  </style>\n",
              "\n",
              "      <script>\n",
              "        const buttonEl =\n",
              "          document.querySelector('#df-5e23f014-1b25-4468-85e6-dbbb37ef3890 button.colab-df-convert');\n",
              "        buttonEl.style.display =\n",
              "          google.colab.kernel.accessAllowed ? 'block' : 'none';\n",
              "\n",
              "        async function convertToInteractive(key) {\n",
              "          const element = document.querySelector('#df-5e23f014-1b25-4468-85e6-dbbb37ef3890');\n",
              "          const dataTable =\n",
              "            await google.colab.kernel.invokeFunction('convertToInteractive',\n",
              "                                                     [key], {});\n",
              "          if (!dataTable) return;\n",
              "\n",
              "          const docLinkHtml = 'Like what you see? Visit the ' +\n",
              "            '<a target=\"_blank\" href=https://colab.research.google.com/notebooks/data_table.ipynb>data table notebook</a>'\n",
              "            + ' to learn more about interactive tables.';\n",
              "          element.innerHTML = '';\n",
              "          dataTable['output_type'] = 'display_data';\n",
              "          await google.colab.output.renderOutput(dataTable, element);\n",
              "          const docLink = document.createElement('div');\n",
              "          docLink.innerHTML = docLinkHtml;\n",
              "          element.appendChild(docLink);\n",
              "        }\n",
              "      </script>\n",
              "    </div>\n",
              "  </div>\n",
              "  "
            ]
          },
          "metadata": {},
          "execution_count": 54
        }
      ]
    },
    {
      "cell_type": "code",
      "source": [
        "df_res2.head(1)"
      ],
      "metadata": {
        "colab": {
          "base_uri": "https://localhost:8080/",
          "height": 81
        },
        "id": "d7BzYBA-31Oh",
        "outputId": "aac53a73-fb4f-478f-ae0a-3a0aab4cb0ea"
      },
      "execution_count": null,
      "outputs": [
        {
          "output_type": "execute_result",
          "data": {
            "text/plain": [
              "            date home_team away_team  home_score  away_score  \\\n",
              "17915 1993-08-08   Bolivia   Uruguay           3           1   \n",
              "\n",
              "                         tournament year_month  \n",
              "17915  FIFA World Cup qualification     1993-8  "
            ],
            "text/html": [
              "\n",
              "  <div id=\"df-8c77e73b-9de6-45cf-abc6-c909286dc31a\">\n",
              "    <div class=\"colab-df-container\">\n",
              "      <div>\n",
              "<style scoped>\n",
              "    .dataframe tbody tr th:only-of-type {\n",
              "        vertical-align: middle;\n",
              "    }\n",
              "\n",
              "    .dataframe tbody tr th {\n",
              "        vertical-align: top;\n",
              "    }\n",
              "\n",
              "    .dataframe thead th {\n",
              "        text-align: right;\n",
              "    }\n",
              "</style>\n",
              "<table border=\"1\" class=\"dataframe\">\n",
              "  <thead>\n",
              "    <tr style=\"text-align: right;\">\n",
              "      <th></th>\n",
              "      <th>date</th>\n",
              "      <th>home_team</th>\n",
              "      <th>away_team</th>\n",
              "      <th>home_score</th>\n",
              "      <th>away_score</th>\n",
              "      <th>tournament</th>\n",
              "      <th>year_month</th>\n",
              "    </tr>\n",
              "  </thead>\n",
              "  <tbody>\n",
              "    <tr>\n",
              "      <th>17915</th>\n",
              "      <td>1993-08-08</td>\n",
              "      <td>Bolivia</td>\n",
              "      <td>Uruguay</td>\n",
              "      <td>3</td>\n",
              "      <td>1</td>\n",
              "      <td>FIFA World Cup qualification</td>\n",
              "      <td>1993-8</td>\n",
              "    </tr>\n",
              "  </tbody>\n",
              "</table>\n",
              "</div>\n",
              "      <button class=\"colab-df-convert\" onclick=\"convertToInteractive('df-8c77e73b-9de6-45cf-abc6-c909286dc31a')\"\n",
              "              title=\"Convert this dataframe to an interactive table.\"\n",
              "              style=\"display:none;\">\n",
              "        \n",
              "  <svg xmlns=\"http://www.w3.org/2000/svg\" height=\"24px\"viewBox=\"0 0 24 24\"\n",
              "       width=\"24px\">\n",
              "    <path d=\"M0 0h24v24H0V0z\" fill=\"none\"/>\n",
              "    <path d=\"M18.56 5.44l.94 2.06.94-2.06 2.06-.94-2.06-.94-.94-2.06-.94 2.06-2.06.94zm-11 1L8.5 8.5l.94-2.06 2.06-.94-2.06-.94L8.5 2.5l-.94 2.06-2.06.94zm10 10l.94 2.06.94-2.06 2.06-.94-2.06-.94-.94-2.06-.94 2.06-2.06.94z\"/><path d=\"M17.41 7.96l-1.37-1.37c-.4-.4-.92-.59-1.43-.59-.52 0-1.04.2-1.43.59L10.3 9.45l-7.72 7.72c-.78.78-.78 2.05 0 2.83L4 21.41c.39.39.9.59 1.41.59.51 0 1.02-.2 1.41-.59l7.78-7.78 2.81-2.81c.8-.78.8-2.07 0-2.86zM5.41 20L4 18.59l7.72-7.72 1.47 1.35L5.41 20z\"/>\n",
              "  </svg>\n",
              "      </button>\n",
              "      \n",
              "  <style>\n",
              "    .colab-df-container {\n",
              "      display:flex;\n",
              "      flex-wrap:wrap;\n",
              "      gap: 12px;\n",
              "    }\n",
              "\n",
              "    .colab-df-convert {\n",
              "      background-color: #E8F0FE;\n",
              "      border: none;\n",
              "      border-radius: 50%;\n",
              "      cursor: pointer;\n",
              "      display: none;\n",
              "      fill: #1967D2;\n",
              "      height: 32px;\n",
              "      padding: 0 0 0 0;\n",
              "      width: 32px;\n",
              "    }\n",
              "\n",
              "    .colab-df-convert:hover {\n",
              "      background-color: #E2EBFA;\n",
              "      box-shadow: 0px 1px 2px rgba(60, 64, 67, 0.3), 0px 1px 3px 1px rgba(60, 64, 67, 0.15);\n",
              "      fill: #174EA6;\n",
              "    }\n",
              "\n",
              "    [theme=dark] .colab-df-convert {\n",
              "      background-color: #3B4455;\n",
              "      fill: #D2E3FC;\n",
              "    }\n",
              "\n",
              "    [theme=dark] .colab-df-convert:hover {\n",
              "      background-color: #434B5C;\n",
              "      box-shadow: 0px 1px 3px 1px rgba(0, 0, 0, 0.15);\n",
              "      filter: drop-shadow(0px 1px 2px rgba(0, 0, 0, 0.3));\n",
              "      fill: #FFFFFF;\n",
              "    }\n",
              "  </style>\n",
              "\n",
              "      <script>\n",
              "        const buttonEl =\n",
              "          document.querySelector('#df-8c77e73b-9de6-45cf-abc6-c909286dc31a button.colab-df-convert');\n",
              "        buttonEl.style.display =\n",
              "          google.colab.kernel.accessAllowed ? 'block' : 'none';\n",
              "\n",
              "        async function convertToInteractive(key) {\n",
              "          const element = document.querySelector('#df-8c77e73b-9de6-45cf-abc6-c909286dc31a');\n",
              "          const dataTable =\n",
              "            await google.colab.kernel.invokeFunction('convertToInteractive',\n",
              "                                                     [key], {});\n",
              "          if (!dataTable) return;\n",
              "\n",
              "          const docLinkHtml = 'Like what you see? Visit the ' +\n",
              "            '<a target=\"_blank\" href=https://colab.research.google.com/notebooks/data_table.ipynb>data table notebook</a>'\n",
              "            + ' to learn more about interactive tables.';\n",
              "          element.innerHTML = '';\n",
              "          dataTable['output_type'] = 'display_data';\n",
              "          await google.colab.output.renderOutput(dataTable, element);\n",
              "          const docLink = document.createElement('div');\n",
              "          docLink.innerHTML = docLinkHtml;\n",
              "          element.appendChild(docLink);\n",
              "        }\n",
              "      </script>\n",
              "    </div>\n",
              "  </div>\n",
              "  "
            ]
          },
          "metadata": {},
          "execution_count": 55
        }
      ]
    },
    {
      "cell_type": "code",
      "source": [
        "#resetting index to start from 0\n",
        "df_res2 = df_res2.reset_index().drop('index', axis=1)\n",
        "df_res2"
      ],
      "metadata": {
        "colab": {
          "base_uri": "https://localhost:8080/",
          "height": 641
        },
        "id": "NCel5O1PQk-2",
        "outputId": "19c5a233-6a33-4582-b472-47583bc3184e"
      },
      "execution_count": null,
      "outputs": [
        {
          "output_type": "execute_result",
          "data": {
            "text/plain": [
              "            date        home_team                away_team  home_score  \\\n",
              "0     1993-08-08          Bolivia                  Uruguay           3   \n",
              "1     1993-08-08           Brazil                   Mexico           1   \n",
              "2     1993-08-08          Ecuador                Venezuela           5   \n",
              "3     1993-08-08           Guinea             Sierra Leone           1   \n",
              "4     1993-08-08         Paraguay                Argentina           1   \n",
              "...          ...              ...                      ...         ...   \n",
              "21914 2018-06-07         Abkhazia  United Koreans in Japan           2   \n",
              "21915 2018-06-07           Barawa                   Panjab           0   \n",
              "21916 2018-06-07         Cascadia          Western Armenia           4   \n",
              "21917 2018-06-07  Northern Cyprus                  Padania           3   \n",
              "21918 2018-06-07       Kárpátalja             Székely Land           4   \n",
              "\n",
              "       away_score                    tournament year_month  \n",
              "0               1  FIFA World Cup qualification     1993-8  \n",
              "1               1                      Friendly     1993-8  \n",
              "2               0  FIFA World Cup qualification     1993-8  \n",
              "3               0                      Friendly     1993-8  \n",
              "4               3  FIFA World Cup qualification     1993-8  \n",
              "...           ...                           ...        ...  \n",
              "21914           0     CONIFA World Football Cup     2018-6  \n",
              "21915           5     CONIFA World Football Cup     2018-6  \n",
              "21916           0     CONIFA World Football Cup     2018-6  \n",
              "21917           2     CONIFA World Football Cup     2018-6  \n",
              "21918           2     CONIFA World Football Cup     2018-6  \n",
              "\n",
              "[21919 rows x 7 columns]"
            ],
            "text/html": [
              "\n",
              "  <div id=\"df-d0ce2758-55ee-4afb-97b0-13a2af0b1bf3\">\n",
              "    <div class=\"colab-df-container\">\n",
              "      <div>\n",
              "<style scoped>\n",
              "    .dataframe tbody tr th:only-of-type {\n",
              "        vertical-align: middle;\n",
              "    }\n",
              "\n",
              "    .dataframe tbody tr th {\n",
              "        vertical-align: top;\n",
              "    }\n",
              "\n",
              "    .dataframe thead th {\n",
              "        text-align: right;\n",
              "    }\n",
              "</style>\n",
              "<table border=\"1\" class=\"dataframe\">\n",
              "  <thead>\n",
              "    <tr style=\"text-align: right;\">\n",
              "      <th></th>\n",
              "      <th>date</th>\n",
              "      <th>home_team</th>\n",
              "      <th>away_team</th>\n",
              "      <th>home_score</th>\n",
              "      <th>away_score</th>\n",
              "      <th>tournament</th>\n",
              "      <th>year_month</th>\n",
              "    </tr>\n",
              "  </thead>\n",
              "  <tbody>\n",
              "    <tr>\n",
              "      <th>0</th>\n",
              "      <td>1993-08-08</td>\n",
              "      <td>Bolivia</td>\n",
              "      <td>Uruguay</td>\n",
              "      <td>3</td>\n",
              "      <td>1</td>\n",
              "      <td>FIFA World Cup qualification</td>\n",
              "      <td>1993-8</td>\n",
              "    </tr>\n",
              "    <tr>\n",
              "      <th>1</th>\n",
              "      <td>1993-08-08</td>\n",
              "      <td>Brazil</td>\n",
              "      <td>Mexico</td>\n",
              "      <td>1</td>\n",
              "      <td>1</td>\n",
              "      <td>Friendly</td>\n",
              "      <td>1993-8</td>\n",
              "    </tr>\n",
              "    <tr>\n",
              "      <th>2</th>\n",
              "      <td>1993-08-08</td>\n",
              "      <td>Ecuador</td>\n",
              "      <td>Venezuela</td>\n",
              "      <td>5</td>\n",
              "      <td>0</td>\n",
              "      <td>FIFA World Cup qualification</td>\n",
              "      <td>1993-8</td>\n",
              "    </tr>\n",
              "    <tr>\n",
              "      <th>3</th>\n",
              "      <td>1993-08-08</td>\n",
              "      <td>Guinea</td>\n",
              "      <td>Sierra Leone</td>\n",
              "      <td>1</td>\n",
              "      <td>0</td>\n",
              "      <td>Friendly</td>\n",
              "      <td>1993-8</td>\n",
              "    </tr>\n",
              "    <tr>\n",
              "      <th>4</th>\n",
              "      <td>1993-08-08</td>\n",
              "      <td>Paraguay</td>\n",
              "      <td>Argentina</td>\n",
              "      <td>1</td>\n",
              "      <td>3</td>\n",
              "      <td>FIFA World Cup qualification</td>\n",
              "      <td>1993-8</td>\n",
              "    </tr>\n",
              "    <tr>\n",
              "      <th>...</th>\n",
              "      <td>...</td>\n",
              "      <td>...</td>\n",
              "      <td>...</td>\n",
              "      <td>...</td>\n",
              "      <td>...</td>\n",
              "      <td>...</td>\n",
              "      <td>...</td>\n",
              "    </tr>\n",
              "    <tr>\n",
              "      <th>21914</th>\n",
              "      <td>2018-06-07</td>\n",
              "      <td>Abkhazia</td>\n",
              "      <td>United Koreans in Japan</td>\n",
              "      <td>2</td>\n",
              "      <td>0</td>\n",
              "      <td>CONIFA World Football Cup</td>\n",
              "      <td>2018-6</td>\n",
              "    </tr>\n",
              "    <tr>\n",
              "      <th>21915</th>\n",
              "      <td>2018-06-07</td>\n",
              "      <td>Barawa</td>\n",
              "      <td>Panjab</td>\n",
              "      <td>0</td>\n",
              "      <td>5</td>\n",
              "      <td>CONIFA World Football Cup</td>\n",
              "      <td>2018-6</td>\n",
              "    </tr>\n",
              "    <tr>\n",
              "      <th>21916</th>\n",
              "      <td>2018-06-07</td>\n",
              "      <td>Cascadia</td>\n",
              "      <td>Western Armenia</td>\n",
              "      <td>4</td>\n",
              "      <td>0</td>\n",
              "      <td>CONIFA World Football Cup</td>\n",
              "      <td>2018-6</td>\n",
              "    </tr>\n",
              "    <tr>\n",
              "      <th>21917</th>\n",
              "      <td>2018-06-07</td>\n",
              "      <td>Northern Cyprus</td>\n",
              "      <td>Padania</td>\n",
              "      <td>3</td>\n",
              "      <td>2</td>\n",
              "      <td>CONIFA World Football Cup</td>\n",
              "      <td>2018-6</td>\n",
              "    </tr>\n",
              "    <tr>\n",
              "      <th>21918</th>\n",
              "      <td>2018-06-07</td>\n",
              "      <td>Kárpátalja</td>\n",
              "      <td>Székely Land</td>\n",
              "      <td>4</td>\n",
              "      <td>2</td>\n",
              "      <td>CONIFA World Football Cup</td>\n",
              "      <td>2018-6</td>\n",
              "    </tr>\n",
              "  </tbody>\n",
              "</table>\n",
              "<p>21919 rows × 7 columns</p>\n",
              "</div>\n",
              "      <button class=\"colab-df-convert\" onclick=\"convertToInteractive('df-d0ce2758-55ee-4afb-97b0-13a2af0b1bf3')\"\n",
              "              title=\"Convert this dataframe to an interactive table.\"\n",
              "              style=\"display:none;\">\n",
              "        \n",
              "  <svg xmlns=\"http://www.w3.org/2000/svg\" height=\"24px\"viewBox=\"0 0 24 24\"\n",
              "       width=\"24px\">\n",
              "    <path d=\"M0 0h24v24H0V0z\" fill=\"none\"/>\n",
              "    <path d=\"M18.56 5.44l.94 2.06.94-2.06 2.06-.94-2.06-.94-.94-2.06-.94 2.06-2.06.94zm-11 1L8.5 8.5l.94-2.06 2.06-.94-2.06-.94L8.5 2.5l-.94 2.06-2.06.94zm10 10l.94 2.06.94-2.06 2.06-.94-2.06-.94-.94-2.06-.94 2.06-2.06.94z\"/><path d=\"M17.41 7.96l-1.37-1.37c-.4-.4-.92-.59-1.43-.59-.52 0-1.04.2-1.43.59L10.3 9.45l-7.72 7.72c-.78.78-.78 2.05 0 2.83L4 21.41c.39.39.9.59 1.41.59.51 0 1.02-.2 1.41-.59l7.78-7.78 2.81-2.81c.8-.78.8-2.07 0-2.86zM5.41 20L4 18.59l7.72-7.72 1.47 1.35L5.41 20z\"/>\n",
              "  </svg>\n",
              "      </button>\n",
              "      \n",
              "  <style>\n",
              "    .colab-df-container {\n",
              "      display:flex;\n",
              "      flex-wrap:wrap;\n",
              "      gap: 12px;\n",
              "    }\n",
              "\n",
              "    .colab-df-convert {\n",
              "      background-color: #E8F0FE;\n",
              "      border: none;\n",
              "      border-radius: 50%;\n",
              "      cursor: pointer;\n",
              "      display: none;\n",
              "      fill: #1967D2;\n",
              "      height: 32px;\n",
              "      padding: 0 0 0 0;\n",
              "      width: 32px;\n",
              "    }\n",
              "\n",
              "    .colab-df-convert:hover {\n",
              "      background-color: #E2EBFA;\n",
              "      box-shadow: 0px 1px 2px rgba(60, 64, 67, 0.3), 0px 1px 3px 1px rgba(60, 64, 67, 0.15);\n",
              "      fill: #174EA6;\n",
              "    }\n",
              "\n",
              "    [theme=dark] .colab-df-convert {\n",
              "      background-color: #3B4455;\n",
              "      fill: #D2E3FC;\n",
              "    }\n",
              "\n",
              "    [theme=dark] .colab-df-convert:hover {\n",
              "      background-color: #434B5C;\n",
              "      box-shadow: 0px 1px 3px 1px rgba(0, 0, 0, 0.15);\n",
              "      filter: drop-shadow(0px 1px 2px rgba(0, 0, 0, 0.3));\n",
              "      fill: #FFFFFF;\n",
              "    }\n",
              "  </style>\n",
              "\n",
              "      <script>\n",
              "        const buttonEl =\n",
              "          document.querySelector('#df-d0ce2758-55ee-4afb-97b0-13a2af0b1bf3 button.colab-df-convert');\n",
              "        buttonEl.style.display =\n",
              "          google.colab.kernel.accessAllowed ? 'block' : 'none';\n",
              "\n",
              "        async function convertToInteractive(key) {\n",
              "          const element = document.querySelector('#df-d0ce2758-55ee-4afb-97b0-13a2af0b1bf3');\n",
              "          const dataTable =\n",
              "            await google.colab.kernel.invokeFunction('convertToInteractive',\n",
              "                                                     [key], {});\n",
              "          if (!dataTable) return;\n",
              "\n",
              "          const docLinkHtml = 'Like what you see? Visit the ' +\n",
              "            '<a target=\"_blank\" href=https://colab.research.google.com/notebooks/data_table.ipynb>data table notebook</a>'\n",
              "            + ' to learn more about interactive tables.';\n",
              "          element.innerHTML = '';\n",
              "          dataTable['output_type'] = 'display_data';\n",
              "          await google.colab.output.renderOutput(dataTable, element);\n",
              "          const docLink = document.createElement('div');\n",
              "          docLink.innerHTML = docLinkHtml;\n",
              "          element.appendChild(docLink);\n",
              "        }\n",
              "      </script>\n",
              "    </div>\n",
              "  </div>\n",
              "  "
            ]
          },
          "metadata": {},
          "execution_count": 56
        }
      ]
    },
    {
      "cell_type": "code",
      "source": [
        "# combine home team and year_month  to create column specifying home\n",
        "#team and year_month of the game in scores dataset\n",
        "df_res2['year_month_home'] = df_res2.apply(lambda x: x['home_team'] + ' ' + x['year_month'], axis=1)"
      ],
      "metadata": {
        "id": "PlHtt5CzdWaT"
      },
      "execution_count": null,
      "outputs": []
    },
    {
      "cell_type": "code",
      "source": [
        "# combine country and year_month in ranking dataset to enable column specifying country\n",
        "#and year_month of the ranking (which periodically update, on a ~monthly basis, hence focus on year month)\n",
        "df_rank['year_month_home'] = df_rank.apply(lambda x: x['country_full'] + ' ' + x['year_month'], axis=1)"
      ],
      "metadata": {
        "id": "E99r_dpIgMJX"
      },
      "execution_count": null,
      "outputs": []
    },
    {
      "cell_type": "code",
      "source": [
        "#check duplicates in column that will be used for merging onto scores dataset \n",
        "df_rank.duplicated(subset=['year_month_home']).sum()"
      ],
      "metadata": {
        "colab": {
          "base_uri": "https://localhost:8080/"
        },
        "id": "L5qbviJ4n39j",
        "outputId": "a450e92d-acef-48ac-d659-3f451840dd69"
      },
      "execution_count": null,
      "outputs": [
        {
          "output_type": "execute_result",
          "data": {
            "text/plain": [
              "209"
            ]
          },
          "metadata": {},
          "execution_count": 62
        }
      ]
    },
    {
      "cell_type": "code",
      "source": [
        "#drop duplicates in column that will be used for merging. Many records, > 55000 left for analysis\n",
        "df_rank.drop_duplicates(subset=['year_month_home'], inplace=True)"
      ],
      "metadata": {
        "id": "pxP4gwBfXMwt"
      },
      "execution_count": null,
      "outputs": []
    },
    {
      "cell_type": "code",
      "source": [
        "df_res2.shape"
      ],
      "metadata": {
        "colab": {
          "base_uri": "https://localhost:8080/"
        },
        "id": "SZkJ5-ZLXtak",
        "outputId": "1ca5b136-b2d4-426d-e994-1958068bcce2"
      },
      "execution_count": null,
      "outputs": [
        {
          "output_type": "execute_result",
          "data": {
            "text/plain": [
              "(21919, 8)"
            ]
          },
          "metadata": {},
          "execution_count": 64
        }
      ]
    },
    {
      "cell_type": "code",
      "source": [
        "df_rank.shape"
      ],
      "metadata": {
        "colab": {
          "base_uri": "https://localhost:8080/"
        },
        "id": "de-K8Zw3XxtB",
        "outputId": "b403a12a-d929-4e11-e5ff-b0d9c59ec0e5"
      },
      "execution_count": null,
      "outputs": [
        {
          "output_type": "execute_result",
          "data": {
            "text/plain": [
              "(57547, 5)"
            ]
          },
          "metadata": {},
          "execution_count": 65
        }
      ]
    },
    {
      "cell_type": "code",
      "source": [
        "#using left join on scores dataset on year_month_home. rank associated with each record at this point\n",
        "#is of the country that matches the home team, at the particular year and month\n",
        "df_merged_home = df_res2.merge(df_rank, on='year_month_home', how='left')"
      ],
      "metadata": {
        "id": "C2REBYm2XoGU"
      },
      "execution_count": null,
      "outputs": []
    },
    {
      "cell_type": "code",
      "source": [
        "df_merged_home.shape"
      ],
      "metadata": {
        "colab": {
          "base_uri": "https://localhost:8080/"
        },
        "id": "63FoIKJuX0Sq",
        "outputId": "52c90e65-9dc3-449e-ea0f-0d309c8f1c3a"
      },
      "execution_count": null,
      "outputs": [
        {
          "output_type": "execute_result",
          "data": {
            "text/plain": [
              "(21919, 12)"
            ]
          },
          "metadata": {},
          "execution_count": 67
        }
      ]
    },
    {
      "cell_type": "code",
      "source": [
        "df_merged_home.columns"
      ],
      "metadata": {
        "colab": {
          "base_uri": "https://localhost:8080/"
        },
        "id": "xwRX_ln2bEZx",
        "outputId": "e29b30bc-e8a3-4ddd-c4df-20da1796fa9e"
      },
      "execution_count": null,
      "outputs": [
        {
          "output_type": "execute_result",
          "data": {
            "text/plain": [
              "Index(['date', 'home_team', 'away_team', 'home_score', 'away_score',\n",
              "       'tournament', 'year_month_x', 'year_month_home', 'rank', 'country_full',\n",
              "       'rank_date', 'year_month_y'],\n",
              "      dtype='object')"
            ]
          },
          "metadata": {},
          "execution_count": 68
        }
      ]
    },
    {
      "cell_type": "code",
      "source": [
        "#renaming rank column to specify it is the home rank that  has been merged\n",
        "df_merged_home.rename(columns = {'rank': 'home_rank'}, inplace=True)"
      ],
      "metadata": {
        "id": "Ks5MTcLeYUuM"
      },
      "execution_count": null,
      "outputs": []
    },
    {
      "cell_type": "code",
      "source": [
        "df_merged_home.head(2)"
      ],
      "metadata": {
        "colab": {
          "base_uri": "https://localhost:8080/",
          "height": 228
        },
        "id": "pWHcDsTnaKwA",
        "outputId": "14cf2148-da11-4567-d9c9-f80bba6c715d"
      },
      "execution_count": null,
      "outputs": [
        {
          "output_type": "execute_result",
          "data": {
            "text/plain": [
              "        date home_team away_team  home_score  away_score  \\\n",
              "0 1993-08-08   Bolivia   Uruguay           3           1   \n",
              "1 1993-08-08    Brazil    Mexico           1           1   \n",
              "\n",
              "                     tournament year_month_x year_month_home  home_rank  \\\n",
              "0  FIFA World Cup qualification       1993-8  Bolivia 1993-8       59.0   \n",
              "1                      Friendly       1993-8   Brazil 1993-8        8.0   \n",
              "\n",
              "  country_full  rank_date year_month_y  \n",
              "0      Bolivia 1993-08-08       1993-8  \n",
              "1       Brazil 1993-08-08       1993-8  "
            ],
            "text/html": [
              "\n",
              "  <div id=\"df-7ef7e708-f8e6-4e28-8064-ff9a7e6d0ee4\">\n",
              "    <div class=\"colab-df-container\">\n",
              "      <div>\n",
              "<style scoped>\n",
              "    .dataframe tbody tr th:only-of-type {\n",
              "        vertical-align: middle;\n",
              "    }\n",
              "\n",
              "    .dataframe tbody tr th {\n",
              "        vertical-align: top;\n",
              "    }\n",
              "\n",
              "    .dataframe thead th {\n",
              "        text-align: right;\n",
              "    }\n",
              "</style>\n",
              "<table border=\"1\" class=\"dataframe\">\n",
              "  <thead>\n",
              "    <tr style=\"text-align: right;\">\n",
              "      <th></th>\n",
              "      <th>date</th>\n",
              "      <th>home_team</th>\n",
              "      <th>away_team</th>\n",
              "      <th>home_score</th>\n",
              "      <th>away_score</th>\n",
              "      <th>tournament</th>\n",
              "      <th>year_month_x</th>\n",
              "      <th>year_month_home</th>\n",
              "      <th>home_rank</th>\n",
              "      <th>country_full</th>\n",
              "      <th>rank_date</th>\n",
              "      <th>year_month_y</th>\n",
              "    </tr>\n",
              "  </thead>\n",
              "  <tbody>\n",
              "    <tr>\n",
              "      <th>0</th>\n",
              "      <td>1993-08-08</td>\n",
              "      <td>Bolivia</td>\n",
              "      <td>Uruguay</td>\n",
              "      <td>3</td>\n",
              "      <td>1</td>\n",
              "      <td>FIFA World Cup qualification</td>\n",
              "      <td>1993-8</td>\n",
              "      <td>Bolivia 1993-8</td>\n",
              "      <td>59.0</td>\n",
              "      <td>Bolivia</td>\n",
              "      <td>1993-08-08</td>\n",
              "      <td>1993-8</td>\n",
              "    </tr>\n",
              "    <tr>\n",
              "      <th>1</th>\n",
              "      <td>1993-08-08</td>\n",
              "      <td>Brazil</td>\n",
              "      <td>Mexico</td>\n",
              "      <td>1</td>\n",
              "      <td>1</td>\n",
              "      <td>Friendly</td>\n",
              "      <td>1993-8</td>\n",
              "      <td>Brazil 1993-8</td>\n",
              "      <td>8.0</td>\n",
              "      <td>Brazil</td>\n",
              "      <td>1993-08-08</td>\n",
              "      <td>1993-8</td>\n",
              "    </tr>\n",
              "  </tbody>\n",
              "</table>\n",
              "</div>\n",
              "      <button class=\"colab-df-convert\" onclick=\"convertToInteractive('df-7ef7e708-f8e6-4e28-8064-ff9a7e6d0ee4')\"\n",
              "              title=\"Convert this dataframe to an interactive table.\"\n",
              "              style=\"display:none;\">\n",
              "        \n",
              "  <svg xmlns=\"http://www.w3.org/2000/svg\" height=\"24px\"viewBox=\"0 0 24 24\"\n",
              "       width=\"24px\">\n",
              "    <path d=\"M0 0h24v24H0V0z\" fill=\"none\"/>\n",
              "    <path d=\"M18.56 5.44l.94 2.06.94-2.06 2.06-.94-2.06-.94-.94-2.06-.94 2.06-2.06.94zm-11 1L8.5 8.5l.94-2.06 2.06-.94-2.06-.94L8.5 2.5l-.94 2.06-2.06.94zm10 10l.94 2.06.94-2.06 2.06-.94-2.06-.94-.94-2.06-.94 2.06-2.06.94z\"/><path d=\"M17.41 7.96l-1.37-1.37c-.4-.4-.92-.59-1.43-.59-.52 0-1.04.2-1.43.59L10.3 9.45l-7.72 7.72c-.78.78-.78 2.05 0 2.83L4 21.41c.39.39.9.59 1.41.59.51 0 1.02-.2 1.41-.59l7.78-7.78 2.81-2.81c.8-.78.8-2.07 0-2.86zM5.41 20L4 18.59l7.72-7.72 1.47 1.35L5.41 20z\"/>\n",
              "  </svg>\n",
              "      </button>\n",
              "      \n",
              "  <style>\n",
              "    .colab-df-container {\n",
              "      display:flex;\n",
              "      flex-wrap:wrap;\n",
              "      gap: 12px;\n",
              "    }\n",
              "\n",
              "    .colab-df-convert {\n",
              "      background-color: #E8F0FE;\n",
              "      border: none;\n",
              "      border-radius: 50%;\n",
              "      cursor: pointer;\n",
              "      display: none;\n",
              "      fill: #1967D2;\n",
              "      height: 32px;\n",
              "      padding: 0 0 0 0;\n",
              "      width: 32px;\n",
              "    }\n",
              "\n",
              "    .colab-df-convert:hover {\n",
              "      background-color: #E2EBFA;\n",
              "      box-shadow: 0px 1px 2px rgba(60, 64, 67, 0.3), 0px 1px 3px 1px rgba(60, 64, 67, 0.15);\n",
              "      fill: #174EA6;\n",
              "    }\n",
              "\n",
              "    [theme=dark] .colab-df-convert {\n",
              "      background-color: #3B4455;\n",
              "      fill: #D2E3FC;\n",
              "    }\n",
              "\n",
              "    [theme=dark] .colab-df-convert:hover {\n",
              "      background-color: #434B5C;\n",
              "      box-shadow: 0px 1px 3px 1px rgba(0, 0, 0, 0.15);\n",
              "      filter: drop-shadow(0px 1px 2px rgba(0, 0, 0, 0.3));\n",
              "      fill: #FFFFFF;\n",
              "    }\n",
              "  </style>\n",
              "\n",
              "      <script>\n",
              "        const buttonEl =\n",
              "          document.querySelector('#df-7ef7e708-f8e6-4e28-8064-ff9a7e6d0ee4 button.colab-df-convert');\n",
              "        buttonEl.style.display =\n",
              "          google.colab.kernel.accessAllowed ? 'block' : 'none';\n",
              "\n",
              "        async function convertToInteractive(key) {\n",
              "          const element = document.querySelector('#df-7ef7e708-f8e6-4e28-8064-ff9a7e6d0ee4');\n",
              "          const dataTable =\n",
              "            await google.colab.kernel.invokeFunction('convertToInteractive',\n",
              "                                                     [key], {});\n",
              "          if (!dataTable) return;\n",
              "\n",
              "          const docLinkHtml = 'Like what you see? Visit the ' +\n",
              "            '<a target=\"_blank\" href=https://colab.research.google.com/notebooks/data_table.ipynb>data table notebook</a>'\n",
              "            + ' to learn more about interactive tables.';\n",
              "          element.innerHTML = '';\n",
              "          dataTable['output_type'] = 'display_data';\n",
              "          await google.colab.output.renderOutput(dataTable, element);\n",
              "          const docLink = document.createElement('div');\n",
              "          docLink.innerHTML = docLinkHtml;\n",
              "          element.appendChild(docLink);\n",
              "        }\n",
              "      </script>\n",
              "    </div>\n",
              "  </div>\n",
              "  "
            ]
          },
          "metadata": {},
          "execution_count": 70
        }
      ]
    },
    {
      "cell_type": "code",
      "source": [
        "#similar to above, creating column for away team, year and month\n",
        "df_merged_home['year_month_away'] = df_merged_home.apply(lambda x: x['away_team'] + ' ' + x['year_month_x'], axis=1)"
      ],
      "metadata": {
        "id": "_qNXpLQ4aVha"
      },
      "execution_count": null,
      "outputs": []
    },
    {
      "cell_type": "code",
      "source": [
        "df_merged_home.head(2)"
      ],
      "metadata": {
        "colab": {
          "base_uri": "https://localhost:8080/",
          "height": 228
        },
        "id": "_7iJTfFyc6C8",
        "outputId": "35347776-413f-487b-ba89-8e0e6ac3d3fa"
      },
      "execution_count": null,
      "outputs": [
        {
          "output_type": "execute_result",
          "data": {
            "text/plain": [
              "        date home_team away_team  home_score  away_score  \\\n",
              "0 1993-08-08   Bolivia   Uruguay           3           1   \n",
              "1 1993-08-08    Brazil    Mexico           1           1   \n",
              "\n",
              "                     tournament year_month_x year_month_home  home_rank  \\\n",
              "0  FIFA World Cup qualification       1993-8  Bolivia 1993-8       59.0   \n",
              "1                      Friendly       1993-8   Brazil 1993-8        8.0   \n",
              "\n",
              "  country_full  rank_date year_month_y year_month_away  \n",
              "0      Bolivia 1993-08-08       1993-8  Uruguay 1993-8  \n",
              "1       Brazil 1993-08-08       1993-8   Mexico 1993-8  "
            ],
            "text/html": [
              "\n",
              "  <div id=\"df-f86ba676-578b-42d6-bc98-c59143a0d901\">\n",
              "    <div class=\"colab-df-container\">\n",
              "      <div>\n",
              "<style scoped>\n",
              "    .dataframe tbody tr th:only-of-type {\n",
              "        vertical-align: middle;\n",
              "    }\n",
              "\n",
              "    .dataframe tbody tr th {\n",
              "        vertical-align: top;\n",
              "    }\n",
              "\n",
              "    .dataframe thead th {\n",
              "        text-align: right;\n",
              "    }\n",
              "</style>\n",
              "<table border=\"1\" class=\"dataframe\">\n",
              "  <thead>\n",
              "    <tr style=\"text-align: right;\">\n",
              "      <th></th>\n",
              "      <th>date</th>\n",
              "      <th>home_team</th>\n",
              "      <th>away_team</th>\n",
              "      <th>home_score</th>\n",
              "      <th>away_score</th>\n",
              "      <th>tournament</th>\n",
              "      <th>year_month_x</th>\n",
              "      <th>year_month_home</th>\n",
              "      <th>home_rank</th>\n",
              "      <th>country_full</th>\n",
              "      <th>rank_date</th>\n",
              "      <th>year_month_y</th>\n",
              "      <th>year_month_away</th>\n",
              "    </tr>\n",
              "  </thead>\n",
              "  <tbody>\n",
              "    <tr>\n",
              "      <th>0</th>\n",
              "      <td>1993-08-08</td>\n",
              "      <td>Bolivia</td>\n",
              "      <td>Uruguay</td>\n",
              "      <td>3</td>\n",
              "      <td>1</td>\n",
              "      <td>FIFA World Cup qualification</td>\n",
              "      <td>1993-8</td>\n",
              "      <td>Bolivia 1993-8</td>\n",
              "      <td>59.0</td>\n",
              "      <td>Bolivia</td>\n",
              "      <td>1993-08-08</td>\n",
              "      <td>1993-8</td>\n",
              "      <td>Uruguay 1993-8</td>\n",
              "    </tr>\n",
              "    <tr>\n",
              "      <th>1</th>\n",
              "      <td>1993-08-08</td>\n",
              "      <td>Brazil</td>\n",
              "      <td>Mexico</td>\n",
              "      <td>1</td>\n",
              "      <td>1</td>\n",
              "      <td>Friendly</td>\n",
              "      <td>1993-8</td>\n",
              "      <td>Brazil 1993-8</td>\n",
              "      <td>8.0</td>\n",
              "      <td>Brazil</td>\n",
              "      <td>1993-08-08</td>\n",
              "      <td>1993-8</td>\n",
              "      <td>Mexico 1993-8</td>\n",
              "    </tr>\n",
              "  </tbody>\n",
              "</table>\n",
              "</div>\n",
              "      <button class=\"colab-df-convert\" onclick=\"convertToInteractive('df-f86ba676-578b-42d6-bc98-c59143a0d901')\"\n",
              "              title=\"Convert this dataframe to an interactive table.\"\n",
              "              style=\"display:none;\">\n",
              "        \n",
              "  <svg xmlns=\"http://www.w3.org/2000/svg\" height=\"24px\"viewBox=\"0 0 24 24\"\n",
              "       width=\"24px\">\n",
              "    <path d=\"M0 0h24v24H0V0z\" fill=\"none\"/>\n",
              "    <path d=\"M18.56 5.44l.94 2.06.94-2.06 2.06-.94-2.06-.94-.94-2.06-.94 2.06-2.06.94zm-11 1L8.5 8.5l.94-2.06 2.06-.94-2.06-.94L8.5 2.5l-.94 2.06-2.06.94zm10 10l.94 2.06.94-2.06 2.06-.94-2.06-.94-.94-2.06-.94 2.06-2.06.94z\"/><path d=\"M17.41 7.96l-1.37-1.37c-.4-.4-.92-.59-1.43-.59-.52 0-1.04.2-1.43.59L10.3 9.45l-7.72 7.72c-.78.78-.78 2.05 0 2.83L4 21.41c.39.39.9.59 1.41.59.51 0 1.02-.2 1.41-.59l7.78-7.78 2.81-2.81c.8-.78.8-2.07 0-2.86zM5.41 20L4 18.59l7.72-7.72 1.47 1.35L5.41 20z\"/>\n",
              "  </svg>\n",
              "      </button>\n",
              "      \n",
              "  <style>\n",
              "    .colab-df-container {\n",
              "      display:flex;\n",
              "      flex-wrap:wrap;\n",
              "      gap: 12px;\n",
              "    }\n",
              "\n",
              "    .colab-df-convert {\n",
              "      background-color: #E8F0FE;\n",
              "      border: none;\n",
              "      border-radius: 50%;\n",
              "      cursor: pointer;\n",
              "      display: none;\n",
              "      fill: #1967D2;\n",
              "      height: 32px;\n",
              "      padding: 0 0 0 0;\n",
              "      width: 32px;\n",
              "    }\n",
              "\n",
              "    .colab-df-convert:hover {\n",
              "      background-color: #E2EBFA;\n",
              "      box-shadow: 0px 1px 2px rgba(60, 64, 67, 0.3), 0px 1px 3px 1px rgba(60, 64, 67, 0.15);\n",
              "      fill: #174EA6;\n",
              "    }\n",
              "\n",
              "    [theme=dark] .colab-df-convert {\n",
              "      background-color: #3B4455;\n",
              "      fill: #D2E3FC;\n",
              "    }\n",
              "\n",
              "    [theme=dark] .colab-df-convert:hover {\n",
              "      background-color: #434B5C;\n",
              "      box-shadow: 0px 1px 3px 1px rgba(0, 0, 0, 0.15);\n",
              "      filter: drop-shadow(0px 1px 2px rgba(0, 0, 0, 0.3));\n",
              "      fill: #FFFFFF;\n",
              "    }\n",
              "  </style>\n",
              "\n",
              "      <script>\n",
              "        const buttonEl =\n",
              "          document.querySelector('#df-f86ba676-578b-42d6-bc98-c59143a0d901 button.colab-df-convert');\n",
              "        buttonEl.style.display =\n",
              "          google.colab.kernel.accessAllowed ? 'block' : 'none';\n",
              "\n",
              "        async function convertToInteractive(key) {\n",
              "          const element = document.querySelector('#df-f86ba676-578b-42d6-bc98-c59143a0d901');\n",
              "          const dataTable =\n",
              "            await google.colab.kernel.invokeFunction('convertToInteractive',\n",
              "                                                     [key], {});\n",
              "          if (!dataTable) return;\n",
              "\n",
              "          const docLinkHtml = 'Like what you see? Visit the ' +\n",
              "            '<a target=\"_blank\" href=https://colab.research.google.com/notebooks/data_table.ipynb>data table notebook</a>'\n",
              "            + ' to learn more about interactive tables.';\n",
              "          element.innerHTML = '';\n",
              "          dataTable['output_type'] = 'display_data';\n",
              "          await google.colab.output.renderOutput(dataTable, element);\n",
              "          const docLink = document.createElement('div');\n",
              "          docLink.innerHTML = docLinkHtml;\n",
              "          element.appendChild(docLink);\n",
              "        }\n",
              "      </script>\n",
              "    </div>\n",
              "  </div>\n",
              "  "
            ]
          },
          "metadata": {},
          "execution_count": 72
        }
      ]
    },
    {
      "cell_type": "code",
      "source": [
        "#creating corresponding column as above in rank dataset for merging\n",
        "df_rank['year_month_away'] = df_rank.apply(lambda x: x['country_full'] + ' ' + x['year_month'], axis=1)"
      ],
      "metadata": {
        "id": "9iL9ov6-aekT"
      },
      "execution_count": null,
      "outputs": []
    },
    {
      "cell_type": "code",
      "source": [
        "df_rank.duplicated(subset=['year_month_away']).sum()"
      ],
      "metadata": {
        "colab": {
          "base_uri": "https://localhost:8080/"
        },
        "outputId": "70586fcc-9c6b-424c-e412-9a6978ea6977",
        "id": "u21u2TwvdZNz"
      },
      "execution_count": null,
      "outputs": [
        {
          "output_type": "execute_result",
          "data": {
            "text/plain": [
              "0"
            ]
          },
          "metadata": {},
          "execution_count": 74
        }
      ]
    },
    {
      "cell_type": "code",
      "source": [
        "df_merged_home.shape"
      ],
      "metadata": {
        "colab": {
          "base_uri": "https://localhost:8080/"
        },
        "id": "YM5ndyutbzcV",
        "outputId": "61da0f12-57ee-4046-886b-862123466900"
      },
      "execution_count": null,
      "outputs": [
        {
          "output_type": "execute_result",
          "data": {
            "text/plain": [
              "(21919, 13)"
            ]
          },
          "metadata": {},
          "execution_count": 75
        }
      ]
    },
    {
      "cell_type": "code",
      "source": [
        "#using left join on merged dataset on year_month_away. rank associated with each record at this point\n",
        "#is of the country that matches the away team, at the particular year and month\n",
        "df_home_away = df_merged_home.merge(df_rank, on='year_month_away', how='left')"
      ],
      "metadata": {
        "id": "W9m4RHimbjdy"
      },
      "execution_count": null,
      "outputs": []
    },
    {
      "cell_type": "code",
      "source": [
        "df_home_away.shape"
      ],
      "metadata": {
        "colab": {
          "base_uri": "https://localhost:8080/"
        },
        "id": "pvbAPpkOdO_C",
        "outputId": "00b95af2-0311-4d50-949c-55d924b2028b"
      },
      "execution_count": null,
      "outputs": [
        {
          "output_type": "execute_result",
          "data": {
            "text/plain": [
              "(21919, 18)"
            ]
          },
          "metadata": {},
          "execution_count": 77
        }
      ]
    },
    {
      "cell_type": "code",
      "source": [
        "#renaming the new rank, specifying it as the away team rank\n",
        "df_home_away.rename(columns = {'rank': 'away_rank'}, inplace=True)"
      ],
      "metadata": {
        "id": "2FyD-BAHd5bk"
      },
      "execution_count": null,
      "outputs": []
    },
    {
      "cell_type": "code",
      "source": [
        "#previewing final merged \n",
        "#Verified that home and away ranks were properly matched by checking excel format of rankings dataset for these records\n",
        "df_home_away.head(2)"
      ],
      "metadata": {
        "colab": {
          "base_uri": "https://localhost:8080/",
          "height": 228
        },
        "id": "TsrpydgIdogF",
        "outputId": "320639dc-97ef-4a48-83a0-6e632ec7a15c"
      },
      "execution_count": null,
      "outputs": [
        {
          "output_type": "execute_result",
          "data": {
            "text/plain": [
              "        date home_team away_team  home_score  away_score  \\\n",
              "0 1993-08-08   Bolivia   Uruguay           3           1   \n",
              "1 1993-08-08    Brazil    Mexico           1           1   \n",
              "\n",
              "                     tournament year_month_x year_month_home_x  home_rank  \\\n",
              "0  FIFA World Cup qualification       1993-8    Bolivia 1993-8       59.0   \n",
              "1                      Friendly       1993-8     Brazil 1993-8        8.0   \n",
              "\n",
              "  country_full_x rank_date_x year_month_y year_month_away  away_rank  \\\n",
              "0        Bolivia  1993-08-08       1993-8  Uruguay 1993-8       22.0   \n",
              "1         Brazil  1993-08-08       1993-8   Mexico 1993-8       14.0   \n",
              "\n",
              "  country_full_y rank_date_y year_month year_month_home_y  \n",
              "0        Uruguay  1993-08-08     1993-8    Uruguay 1993-8  \n",
              "1         Mexico  1993-08-08     1993-8     Mexico 1993-8  "
            ],
            "text/html": [
              "\n",
              "  <div id=\"df-819a26a1-b3f5-46b9-a29c-bdc7003c2cf5\">\n",
              "    <div class=\"colab-df-container\">\n",
              "      <div>\n",
              "<style scoped>\n",
              "    .dataframe tbody tr th:only-of-type {\n",
              "        vertical-align: middle;\n",
              "    }\n",
              "\n",
              "    .dataframe tbody tr th {\n",
              "        vertical-align: top;\n",
              "    }\n",
              "\n",
              "    .dataframe thead th {\n",
              "        text-align: right;\n",
              "    }\n",
              "</style>\n",
              "<table border=\"1\" class=\"dataframe\">\n",
              "  <thead>\n",
              "    <tr style=\"text-align: right;\">\n",
              "      <th></th>\n",
              "      <th>date</th>\n",
              "      <th>home_team</th>\n",
              "      <th>away_team</th>\n",
              "      <th>home_score</th>\n",
              "      <th>away_score</th>\n",
              "      <th>tournament</th>\n",
              "      <th>year_month_x</th>\n",
              "      <th>year_month_home_x</th>\n",
              "      <th>home_rank</th>\n",
              "      <th>country_full_x</th>\n",
              "      <th>rank_date_x</th>\n",
              "      <th>year_month_y</th>\n",
              "      <th>year_month_away</th>\n",
              "      <th>away_rank</th>\n",
              "      <th>country_full_y</th>\n",
              "      <th>rank_date_y</th>\n",
              "      <th>year_month</th>\n",
              "      <th>year_month_home_y</th>\n",
              "    </tr>\n",
              "  </thead>\n",
              "  <tbody>\n",
              "    <tr>\n",
              "      <th>0</th>\n",
              "      <td>1993-08-08</td>\n",
              "      <td>Bolivia</td>\n",
              "      <td>Uruguay</td>\n",
              "      <td>3</td>\n",
              "      <td>1</td>\n",
              "      <td>FIFA World Cup qualification</td>\n",
              "      <td>1993-8</td>\n",
              "      <td>Bolivia 1993-8</td>\n",
              "      <td>59.0</td>\n",
              "      <td>Bolivia</td>\n",
              "      <td>1993-08-08</td>\n",
              "      <td>1993-8</td>\n",
              "      <td>Uruguay 1993-8</td>\n",
              "      <td>22.0</td>\n",
              "      <td>Uruguay</td>\n",
              "      <td>1993-08-08</td>\n",
              "      <td>1993-8</td>\n",
              "      <td>Uruguay 1993-8</td>\n",
              "    </tr>\n",
              "    <tr>\n",
              "      <th>1</th>\n",
              "      <td>1993-08-08</td>\n",
              "      <td>Brazil</td>\n",
              "      <td>Mexico</td>\n",
              "      <td>1</td>\n",
              "      <td>1</td>\n",
              "      <td>Friendly</td>\n",
              "      <td>1993-8</td>\n",
              "      <td>Brazil 1993-8</td>\n",
              "      <td>8.0</td>\n",
              "      <td>Brazil</td>\n",
              "      <td>1993-08-08</td>\n",
              "      <td>1993-8</td>\n",
              "      <td>Mexico 1993-8</td>\n",
              "      <td>14.0</td>\n",
              "      <td>Mexico</td>\n",
              "      <td>1993-08-08</td>\n",
              "      <td>1993-8</td>\n",
              "      <td>Mexico 1993-8</td>\n",
              "    </tr>\n",
              "  </tbody>\n",
              "</table>\n",
              "</div>\n",
              "      <button class=\"colab-df-convert\" onclick=\"convertToInteractive('df-819a26a1-b3f5-46b9-a29c-bdc7003c2cf5')\"\n",
              "              title=\"Convert this dataframe to an interactive table.\"\n",
              "              style=\"display:none;\">\n",
              "        \n",
              "  <svg xmlns=\"http://www.w3.org/2000/svg\" height=\"24px\"viewBox=\"0 0 24 24\"\n",
              "       width=\"24px\">\n",
              "    <path d=\"M0 0h24v24H0V0z\" fill=\"none\"/>\n",
              "    <path d=\"M18.56 5.44l.94 2.06.94-2.06 2.06-.94-2.06-.94-.94-2.06-.94 2.06-2.06.94zm-11 1L8.5 8.5l.94-2.06 2.06-.94-2.06-.94L8.5 2.5l-.94 2.06-2.06.94zm10 10l.94 2.06.94-2.06 2.06-.94-2.06-.94-.94-2.06-.94 2.06-2.06.94z\"/><path d=\"M17.41 7.96l-1.37-1.37c-.4-.4-.92-.59-1.43-.59-.52 0-1.04.2-1.43.59L10.3 9.45l-7.72 7.72c-.78.78-.78 2.05 0 2.83L4 21.41c.39.39.9.59 1.41.59.51 0 1.02-.2 1.41-.59l7.78-7.78 2.81-2.81c.8-.78.8-2.07 0-2.86zM5.41 20L4 18.59l7.72-7.72 1.47 1.35L5.41 20z\"/>\n",
              "  </svg>\n",
              "      </button>\n",
              "      \n",
              "  <style>\n",
              "    .colab-df-container {\n",
              "      display:flex;\n",
              "      flex-wrap:wrap;\n",
              "      gap: 12px;\n",
              "    }\n",
              "\n",
              "    .colab-df-convert {\n",
              "      background-color: #E8F0FE;\n",
              "      border: none;\n",
              "      border-radius: 50%;\n",
              "      cursor: pointer;\n",
              "      display: none;\n",
              "      fill: #1967D2;\n",
              "      height: 32px;\n",
              "      padding: 0 0 0 0;\n",
              "      width: 32px;\n",
              "    }\n",
              "\n",
              "    .colab-df-convert:hover {\n",
              "      background-color: #E2EBFA;\n",
              "      box-shadow: 0px 1px 2px rgba(60, 64, 67, 0.3), 0px 1px 3px 1px rgba(60, 64, 67, 0.15);\n",
              "      fill: #174EA6;\n",
              "    }\n",
              "\n",
              "    [theme=dark] .colab-df-convert {\n",
              "      background-color: #3B4455;\n",
              "      fill: #D2E3FC;\n",
              "    }\n",
              "\n",
              "    [theme=dark] .colab-df-convert:hover {\n",
              "      background-color: #434B5C;\n",
              "      box-shadow: 0px 1px 3px 1px rgba(0, 0, 0, 0.15);\n",
              "      filter: drop-shadow(0px 1px 2px rgba(0, 0, 0, 0.3));\n",
              "      fill: #FFFFFF;\n",
              "    }\n",
              "  </style>\n",
              "\n",
              "      <script>\n",
              "        const buttonEl =\n",
              "          document.querySelector('#df-819a26a1-b3f5-46b9-a29c-bdc7003c2cf5 button.colab-df-convert');\n",
              "        buttonEl.style.display =\n",
              "          google.colab.kernel.accessAllowed ? 'block' : 'none';\n",
              "\n",
              "        async function convertToInteractive(key) {\n",
              "          const element = document.querySelector('#df-819a26a1-b3f5-46b9-a29c-bdc7003c2cf5');\n",
              "          const dataTable =\n",
              "            await google.colab.kernel.invokeFunction('convertToInteractive',\n",
              "                                                     [key], {});\n",
              "          if (!dataTable) return;\n",
              "\n",
              "          const docLinkHtml = 'Like what you see? Visit the ' +\n",
              "            '<a target=\"_blank\" href=https://colab.research.google.com/notebooks/data_table.ipynb>data table notebook</a>'\n",
              "            + ' to learn more about interactive tables.';\n",
              "          element.innerHTML = '';\n",
              "          dataTable['output_type'] = 'display_data';\n",
              "          await google.colab.output.renderOutput(dataTable, element);\n",
              "          const docLink = document.createElement('div');\n",
              "          docLink.innerHTML = docLinkHtml;\n",
              "          element.appendChild(docLink);\n",
              "        }\n",
              "      </script>\n",
              "    </div>\n",
              "  </div>\n",
              "  "
            ]
          },
          "metadata": {},
          "execution_count": 79
        }
      ]
    },
    {
      "cell_type": "code",
      "source": [
        "#dropping duplicated and now unnecessary columns from merged dataset\n",
        "df_home_away.drop(columns = ['year_month_x', 'country_full_x', 'rank_date_x', 'year_month_y', 'rank_date_y',\n",
        "                             'country_full_y', 'year_month_home_y'], inplace=True)"
      ],
      "metadata": {
        "id": "PjP2VEnigIbj"
      },
      "execution_count": null,
      "outputs": []
    },
    {
      "cell_type": "code",
      "source": [
        "df_home_away.head(2)"
      ],
      "metadata": {
        "colab": {
          "base_uri": "https://localhost:8080/",
          "height": 228
        },
        "id": "UJGkBDzhhc5M",
        "outputId": "041b73c1-fb51-464c-e42f-b5cdfa0452a1"
      },
      "execution_count": null,
      "outputs": [
        {
          "output_type": "execute_result",
          "data": {
            "text/plain": [
              "        date home_team away_team  home_score  away_score  \\\n",
              "0 1993-08-08   Bolivia   Uruguay           3           1   \n",
              "1 1993-08-08    Brazil    Mexico           1           1   \n",
              "\n",
              "                     tournament year_month_home_x  home_rank year_month_away  \\\n",
              "0  FIFA World Cup qualification    Bolivia 1993-8       59.0  Uruguay 1993-8   \n",
              "1                      Friendly     Brazil 1993-8        8.0   Mexico 1993-8   \n",
              "\n",
              "   away_rank year_month  \n",
              "0       22.0     1993-8  \n",
              "1       14.0     1993-8  "
            ],
            "text/html": [
              "\n",
              "  <div id=\"df-5aa2f126-deef-48d3-8ed4-666635e82093\">\n",
              "    <div class=\"colab-df-container\">\n",
              "      <div>\n",
              "<style scoped>\n",
              "    .dataframe tbody tr th:only-of-type {\n",
              "        vertical-align: middle;\n",
              "    }\n",
              "\n",
              "    .dataframe tbody tr th {\n",
              "        vertical-align: top;\n",
              "    }\n",
              "\n",
              "    .dataframe thead th {\n",
              "        text-align: right;\n",
              "    }\n",
              "</style>\n",
              "<table border=\"1\" class=\"dataframe\">\n",
              "  <thead>\n",
              "    <tr style=\"text-align: right;\">\n",
              "      <th></th>\n",
              "      <th>date</th>\n",
              "      <th>home_team</th>\n",
              "      <th>away_team</th>\n",
              "      <th>home_score</th>\n",
              "      <th>away_score</th>\n",
              "      <th>tournament</th>\n",
              "      <th>year_month_home_x</th>\n",
              "      <th>home_rank</th>\n",
              "      <th>year_month_away</th>\n",
              "      <th>away_rank</th>\n",
              "      <th>year_month</th>\n",
              "    </tr>\n",
              "  </thead>\n",
              "  <tbody>\n",
              "    <tr>\n",
              "      <th>0</th>\n",
              "      <td>1993-08-08</td>\n",
              "      <td>Bolivia</td>\n",
              "      <td>Uruguay</td>\n",
              "      <td>3</td>\n",
              "      <td>1</td>\n",
              "      <td>FIFA World Cup qualification</td>\n",
              "      <td>Bolivia 1993-8</td>\n",
              "      <td>59.0</td>\n",
              "      <td>Uruguay 1993-8</td>\n",
              "      <td>22.0</td>\n",
              "      <td>1993-8</td>\n",
              "    </tr>\n",
              "    <tr>\n",
              "      <th>1</th>\n",
              "      <td>1993-08-08</td>\n",
              "      <td>Brazil</td>\n",
              "      <td>Mexico</td>\n",
              "      <td>1</td>\n",
              "      <td>1</td>\n",
              "      <td>Friendly</td>\n",
              "      <td>Brazil 1993-8</td>\n",
              "      <td>8.0</td>\n",
              "      <td>Mexico 1993-8</td>\n",
              "      <td>14.0</td>\n",
              "      <td>1993-8</td>\n",
              "    </tr>\n",
              "  </tbody>\n",
              "</table>\n",
              "</div>\n",
              "      <button class=\"colab-df-convert\" onclick=\"convertToInteractive('df-5aa2f126-deef-48d3-8ed4-666635e82093')\"\n",
              "              title=\"Convert this dataframe to an interactive table.\"\n",
              "              style=\"display:none;\">\n",
              "        \n",
              "  <svg xmlns=\"http://www.w3.org/2000/svg\" height=\"24px\"viewBox=\"0 0 24 24\"\n",
              "       width=\"24px\">\n",
              "    <path d=\"M0 0h24v24H0V0z\" fill=\"none\"/>\n",
              "    <path d=\"M18.56 5.44l.94 2.06.94-2.06 2.06-.94-2.06-.94-.94-2.06-.94 2.06-2.06.94zm-11 1L8.5 8.5l.94-2.06 2.06-.94-2.06-.94L8.5 2.5l-.94 2.06-2.06.94zm10 10l.94 2.06.94-2.06 2.06-.94-2.06-.94-.94-2.06-.94 2.06-2.06.94z\"/><path d=\"M17.41 7.96l-1.37-1.37c-.4-.4-.92-.59-1.43-.59-.52 0-1.04.2-1.43.59L10.3 9.45l-7.72 7.72c-.78.78-.78 2.05 0 2.83L4 21.41c.39.39.9.59 1.41.59.51 0 1.02-.2 1.41-.59l7.78-7.78 2.81-2.81c.8-.78.8-2.07 0-2.86zM5.41 20L4 18.59l7.72-7.72 1.47 1.35L5.41 20z\"/>\n",
              "  </svg>\n",
              "      </button>\n",
              "      \n",
              "  <style>\n",
              "    .colab-df-container {\n",
              "      display:flex;\n",
              "      flex-wrap:wrap;\n",
              "      gap: 12px;\n",
              "    }\n",
              "\n",
              "    .colab-df-convert {\n",
              "      background-color: #E8F0FE;\n",
              "      border: none;\n",
              "      border-radius: 50%;\n",
              "      cursor: pointer;\n",
              "      display: none;\n",
              "      fill: #1967D2;\n",
              "      height: 32px;\n",
              "      padding: 0 0 0 0;\n",
              "      width: 32px;\n",
              "    }\n",
              "\n",
              "    .colab-df-convert:hover {\n",
              "      background-color: #E2EBFA;\n",
              "      box-shadow: 0px 1px 2px rgba(60, 64, 67, 0.3), 0px 1px 3px 1px rgba(60, 64, 67, 0.15);\n",
              "      fill: #174EA6;\n",
              "    }\n",
              "\n",
              "    [theme=dark] .colab-df-convert {\n",
              "      background-color: #3B4455;\n",
              "      fill: #D2E3FC;\n",
              "    }\n",
              "\n",
              "    [theme=dark] .colab-df-convert:hover {\n",
              "      background-color: #434B5C;\n",
              "      box-shadow: 0px 1px 3px 1px rgba(0, 0, 0, 0.15);\n",
              "      filter: drop-shadow(0px 1px 2px rgba(0, 0, 0, 0.3));\n",
              "      fill: #FFFFFF;\n",
              "    }\n",
              "  </style>\n",
              "\n",
              "      <script>\n",
              "        const buttonEl =\n",
              "          document.querySelector('#df-5aa2f126-deef-48d3-8ed4-666635e82093 button.colab-df-convert');\n",
              "        buttonEl.style.display =\n",
              "          google.colab.kernel.accessAllowed ? 'block' : 'none';\n",
              "\n",
              "        async function convertToInteractive(key) {\n",
              "          const element = document.querySelector('#df-5aa2f126-deef-48d3-8ed4-666635e82093');\n",
              "          const dataTable =\n",
              "            await google.colab.kernel.invokeFunction('convertToInteractive',\n",
              "                                                     [key], {});\n",
              "          if (!dataTable) return;\n",
              "\n",
              "          const docLinkHtml = 'Like what you see? Visit the ' +\n",
              "            '<a target=\"_blank\" href=https://colab.research.google.com/notebooks/data_table.ipynb>data table notebook</a>'\n",
              "            + ' to learn more about interactive tables.';\n",
              "          element.innerHTML = '';\n",
              "          dataTable['output_type'] = 'display_data';\n",
              "          await google.colab.output.renderOutput(dataTable, element);\n",
              "          const docLink = document.createElement('div');\n",
              "          docLink.innerHTML = docLinkHtml;\n",
              "          element.appendChild(docLink);\n",
              "        }\n",
              "      </script>\n",
              "    </div>\n",
              "  </div>\n",
              "  "
            ]
          },
          "metadata": {},
          "execution_count": 81
        }
      ]
    },
    {
      "cell_type": "code",
      "source": [
        "#dropping columns that are no longer needed and renaming\n",
        "df_home_away.drop(columns = ['year_month'], inplace=True)\n",
        "df_home_away.rename(columns = {'year_month_home_x': 'year_month_home'}, inplace=True)"
      ],
      "metadata": {
        "id": "F0YAab_7hthd"
      },
      "execution_count": null,
      "outputs": []
    },
    {
      "cell_type": "code",
      "source": [
        "df_home_away.shape"
      ],
      "metadata": {
        "colab": {
          "base_uri": "https://localhost:8080/"
        },
        "id": "3ErTJjKYirMC",
        "outputId": "fb8650bc-f405-48b1-912c-30cc973dd055"
      },
      "execution_count": null,
      "outputs": [
        {
          "output_type": "execute_result",
          "data": {
            "text/plain": [
              "(21919, 10)"
            ]
          },
          "metadata": {},
          "execution_count": 83
        }
      ]
    },
    {
      "cell_type": "code",
      "source": [
        "#checking for null home rank values in merged\n",
        "df_home_away.home_rank.isnull().sum()"
      ],
      "metadata": {
        "colab": {
          "base_uri": "https://localhost:8080/"
        },
        "id": "zipG-0TEiD1P",
        "outputId": "a9b736c6-765a-482b-973f-5c8c229ab636"
      },
      "execution_count": null,
      "outputs": [
        {
          "output_type": "execute_result",
          "data": {
            "text/plain": [
              "3450"
            ]
          },
          "metadata": {},
          "execution_count": 84
        }
      ]
    },
    {
      "cell_type": "code",
      "source": [
        "#checking for null away rank values in merged\n",
        "df_home_away.away_rank.isnull().sum()"
      ],
      "metadata": {
        "colab": {
          "base_uri": "https://localhost:8080/"
        },
        "id": "HLH_BrkVjxqt",
        "outputId": "be87ad7f-f441-4950-e819-0bbf1377a5fd"
      },
      "execution_count": null,
      "outputs": [
        {
          "output_type": "execute_result",
          "data": {
            "text/plain": [
              "3541"
            ]
          },
          "metadata": {},
          "execution_count": 85
        }
      ]
    },
    {
      "cell_type": "code",
      "source": [
        "#dropping records with ranks null because rank is a key factor for modelling\n",
        "df_home_away.dropna(subset = ['home_rank', 'away_rank'],inplace = True)"
      ],
      "metadata": {
        "id": "8c4He6CSiyLL"
      },
      "execution_count": null,
      "outputs": []
    },
    {
      "cell_type": "code",
      "source": [
        "df_home_away.shape"
      ],
      "metadata": {
        "colab": {
          "base_uri": "https://localhost:8080/"
        },
        "id": "-BLBaFlhi-B0",
        "outputId": "72bdc97b-1f49-4ee2-d82f-accd7042768e"
      },
      "execution_count": null,
      "outputs": [
        {
          "output_type": "execute_result",
          "data": {
            "text/plain": [
              "(16704, 10)"
            ]
          },
          "metadata": {},
          "execution_count": 87
        }
      ]
    },
    {
      "cell_type": "code",
      "source": [
        "df_home_away.isnull().sum()"
      ],
      "metadata": {
        "colab": {
          "base_uri": "https://localhost:8080/"
        },
        "id": "-Rnph11Bio7B",
        "outputId": "19d3852c-0de9-4582-fe44-1d77a4ba6271"
      },
      "execution_count": null,
      "outputs": [
        {
          "output_type": "execute_result",
          "data": {
            "text/plain": [
              "date               0\n",
              "home_team          0\n",
              "away_team          0\n",
              "home_score         0\n",
              "away_score         0\n",
              "tournament         0\n",
              "year_month_home    0\n",
              "home_rank          0\n",
              "year_month_away    0\n",
              "away_rank          0\n",
              "dtype: int64"
            ]
          },
          "metadata": {},
          "execution_count": 88
        }
      ]
    },
    {
      "cell_type": "code",
      "source": [
        "df_home_away"
      ],
      "metadata": {
        "colab": {
          "base_uri": "https://localhost:8080/",
          "height": 713
        },
        "id": "sw7eCcEwkNl0",
        "outputId": "a2488e5d-85b0-4138-89d2-9b237d2c62a1"
      },
      "execution_count": null,
      "outputs": [
        {
          "output_type": "execute_result",
          "data": {
            "text/plain": [
              "            date home_team     away_team  home_score  away_score  \\\n",
              "0     1993-08-08   Bolivia       Uruguay           3           1   \n",
              "1     1993-08-08    Brazil        Mexico           1           1   \n",
              "2     1993-08-08   Ecuador     Venezuela           5           0   \n",
              "3     1993-08-08    Guinea  Sierra Leone           1           0   \n",
              "4     1993-08-08  Paraguay     Argentina           1           3   \n",
              "...          ...       ...           ...         ...         ...   \n",
              "21905 2018-06-07   England    Costa Rica           2           0   \n",
              "21906 2018-06-07   Uruguay    Uzbekistan           3           0   \n",
              "21907 2018-06-07  Portugal       Algeria           3           0   \n",
              "21909 2018-06-07   Iceland         Ghana           2           2   \n",
              "21911 2018-06-07     India   New Zealand           1           2   \n",
              "\n",
              "                         tournament  year_month_home  home_rank  \\\n",
              "0      FIFA World Cup qualification   Bolivia 1993-8       59.0   \n",
              "1                          Friendly    Brazil 1993-8        8.0   \n",
              "2      FIFA World Cup qualification   Ecuador 1993-8       35.0   \n",
              "3                          Friendly    Guinea 1993-8       65.0   \n",
              "4      FIFA World Cup qualification  Paraguay 1993-8       67.0   \n",
              "...                             ...              ...        ...   \n",
              "21905                      Friendly   England 2018-6       12.0   \n",
              "21906                      Friendly   Uruguay 2018-6       14.0   \n",
              "21907                      Friendly  Portugal 2018-6        4.0   \n",
              "21909                      Friendly   Iceland 2018-6       22.0   \n",
              "21911          Intercontinental Cup     India 2018-6       97.0   \n",
              "\n",
              "           year_month_away  away_rank  \n",
              "0           Uruguay 1993-8       22.0  \n",
              "1            Mexico 1993-8       14.0  \n",
              "2         Venezuela 1993-8       94.0  \n",
              "3      Sierra Leone 1993-8       86.0  \n",
              "4         Argentina 1993-8        5.0  \n",
              "...                    ...        ...  \n",
              "21905    Costa Rica 2018-6       23.0  \n",
              "21906    Uzbekistan 2018-6       95.0  \n",
              "21907       Algeria 2018-6       66.0  \n",
              "21909         Ghana 2018-6       47.0  \n",
              "21911   New Zealand 2018-6      120.0  \n",
              "\n",
              "[16704 rows x 10 columns]"
            ],
            "text/html": [
              "\n",
              "  <div id=\"df-dbc413d7-786b-4a38-8244-d5a6718b114d\">\n",
              "    <div class=\"colab-df-container\">\n",
              "      <div>\n",
              "<style scoped>\n",
              "    .dataframe tbody tr th:only-of-type {\n",
              "        vertical-align: middle;\n",
              "    }\n",
              "\n",
              "    .dataframe tbody tr th {\n",
              "        vertical-align: top;\n",
              "    }\n",
              "\n",
              "    .dataframe thead th {\n",
              "        text-align: right;\n",
              "    }\n",
              "</style>\n",
              "<table border=\"1\" class=\"dataframe\">\n",
              "  <thead>\n",
              "    <tr style=\"text-align: right;\">\n",
              "      <th></th>\n",
              "      <th>date</th>\n",
              "      <th>home_team</th>\n",
              "      <th>away_team</th>\n",
              "      <th>home_score</th>\n",
              "      <th>away_score</th>\n",
              "      <th>tournament</th>\n",
              "      <th>year_month_home</th>\n",
              "      <th>home_rank</th>\n",
              "      <th>year_month_away</th>\n",
              "      <th>away_rank</th>\n",
              "    </tr>\n",
              "  </thead>\n",
              "  <tbody>\n",
              "    <tr>\n",
              "      <th>0</th>\n",
              "      <td>1993-08-08</td>\n",
              "      <td>Bolivia</td>\n",
              "      <td>Uruguay</td>\n",
              "      <td>3</td>\n",
              "      <td>1</td>\n",
              "      <td>FIFA World Cup qualification</td>\n",
              "      <td>Bolivia 1993-8</td>\n",
              "      <td>59.0</td>\n",
              "      <td>Uruguay 1993-8</td>\n",
              "      <td>22.0</td>\n",
              "    </tr>\n",
              "    <tr>\n",
              "      <th>1</th>\n",
              "      <td>1993-08-08</td>\n",
              "      <td>Brazil</td>\n",
              "      <td>Mexico</td>\n",
              "      <td>1</td>\n",
              "      <td>1</td>\n",
              "      <td>Friendly</td>\n",
              "      <td>Brazil 1993-8</td>\n",
              "      <td>8.0</td>\n",
              "      <td>Mexico 1993-8</td>\n",
              "      <td>14.0</td>\n",
              "    </tr>\n",
              "    <tr>\n",
              "      <th>2</th>\n",
              "      <td>1993-08-08</td>\n",
              "      <td>Ecuador</td>\n",
              "      <td>Venezuela</td>\n",
              "      <td>5</td>\n",
              "      <td>0</td>\n",
              "      <td>FIFA World Cup qualification</td>\n",
              "      <td>Ecuador 1993-8</td>\n",
              "      <td>35.0</td>\n",
              "      <td>Venezuela 1993-8</td>\n",
              "      <td>94.0</td>\n",
              "    </tr>\n",
              "    <tr>\n",
              "      <th>3</th>\n",
              "      <td>1993-08-08</td>\n",
              "      <td>Guinea</td>\n",
              "      <td>Sierra Leone</td>\n",
              "      <td>1</td>\n",
              "      <td>0</td>\n",
              "      <td>Friendly</td>\n",
              "      <td>Guinea 1993-8</td>\n",
              "      <td>65.0</td>\n",
              "      <td>Sierra Leone 1993-8</td>\n",
              "      <td>86.0</td>\n",
              "    </tr>\n",
              "    <tr>\n",
              "      <th>4</th>\n",
              "      <td>1993-08-08</td>\n",
              "      <td>Paraguay</td>\n",
              "      <td>Argentina</td>\n",
              "      <td>1</td>\n",
              "      <td>3</td>\n",
              "      <td>FIFA World Cup qualification</td>\n",
              "      <td>Paraguay 1993-8</td>\n",
              "      <td>67.0</td>\n",
              "      <td>Argentina 1993-8</td>\n",
              "      <td>5.0</td>\n",
              "    </tr>\n",
              "    <tr>\n",
              "      <th>...</th>\n",
              "      <td>...</td>\n",
              "      <td>...</td>\n",
              "      <td>...</td>\n",
              "      <td>...</td>\n",
              "      <td>...</td>\n",
              "      <td>...</td>\n",
              "      <td>...</td>\n",
              "      <td>...</td>\n",
              "      <td>...</td>\n",
              "      <td>...</td>\n",
              "    </tr>\n",
              "    <tr>\n",
              "      <th>21905</th>\n",
              "      <td>2018-06-07</td>\n",
              "      <td>England</td>\n",
              "      <td>Costa Rica</td>\n",
              "      <td>2</td>\n",
              "      <td>0</td>\n",
              "      <td>Friendly</td>\n",
              "      <td>England 2018-6</td>\n",
              "      <td>12.0</td>\n",
              "      <td>Costa Rica 2018-6</td>\n",
              "      <td>23.0</td>\n",
              "    </tr>\n",
              "    <tr>\n",
              "      <th>21906</th>\n",
              "      <td>2018-06-07</td>\n",
              "      <td>Uruguay</td>\n",
              "      <td>Uzbekistan</td>\n",
              "      <td>3</td>\n",
              "      <td>0</td>\n",
              "      <td>Friendly</td>\n",
              "      <td>Uruguay 2018-6</td>\n",
              "      <td>14.0</td>\n",
              "      <td>Uzbekistan 2018-6</td>\n",
              "      <td>95.0</td>\n",
              "    </tr>\n",
              "    <tr>\n",
              "      <th>21907</th>\n",
              "      <td>2018-06-07</td>\n",
              "      <td>Portugal</td>\n",
              "      <td>Algeria</td>\n",
              "      <td>3</td>\n",
              "      <td>0</td>\n",
              "      <td>Friendly</td>\n",
              "      <td>Portugal 2018-6</td>\n",
              "      <td>4.0</td>\n",
              "      <td>Algeria 2018-6</td>\n",
              "      <td>66.0</td>\n",
              "    </tr>\n",
              "    <tr>\n",
              "      <th>21909</th>\n",
              "      <td>2018-06-07</td>\n",
              "      <td>Iceland</td>\n",
              "      <td>Ghana</td>\n",
              "      <td>2</td>\n",
              "      <td>2</td>\n",
              "      <td>Friendly</td>\n",
              "      <td>Iceland 2018-6</td>\n",
              "      <td>22.0</td>\n",
              "      <td>Ghana 2018-6</td>\n",
              "      <td>47.0</td>\n",
              "    </tr>\n",
              "    <tr>\n",
              "      <th>21911</th>\n",
              "      <td>2018-06-07</td>\n",
              "      <td>India</td>\n",
              "      <td>New Zealand</td>\n",
              "      <td>1</td>\n",
              "      <td>2</td>\n",
              "      <td>Intercontinental Cup</td>\n",
              "      <td>India 2018-6</td>\n",
              "      <td>97.0</td>\n",
              "      <td>New Zealand 2018-6</td>\n",
              "      <td>120.0</td>\n",
              "    </tr>\n",
              "  </tbody>\n",
              "</table>\n",
              "<p>16704 rows × 10 columns</p>\n",
              "</div>\n",
              "      <button class=\"colab-df-convert\" onclick=\"convertToInteractive('df-dbc413d7-786b-4a38-8244-d5a6718b114d')\"\n",
              "              title=\"Convert this dataframe to an interactive table.\"\n",
              "              style=\"display:none;\">\n",
              "        \n",
              "  <svg xmlns=\"http://www.w3.org/2000/svg\" height=\"24px\"viewBox=\"0 0 24 24\"\n",
              "       width=\"24px\">\n",
              "    <path d=\"M0 0h24v24H0V0z\" fill=\"none\"/>\n",
              "    <path d=\"M18.56 5.44l.94 2.06.94-2.06 2.06-.94-2.06-.94-.94-2.06-.94 2.06-2.06.94zm-11 1L8.5 8.5l.94-2.06 2.06-.94-2.06-.94L8.5 2.5l-.94 2.06-2.06.94zm10 10l.94 2.06.94-2.06 2.06-.94-2.06-.94-.94-2.06-.94 2.06-2.06.94z\"/><path d=\"M17.41 7.96l-1.37-1.37c-.4-.4-.92-.59-1.43-.59-.52 0-1.04.2-1.43.59L10.3 9.45l-7.72 7.72c-.78.78-.78 2.05 0 2.83L4 21.41c.39.39.9.59 1.41.59.51 0 1.02-.2 1.41-.59l7.78-7.78 2.81-2.81c.8-.78.8-2.07 0-2.86zM5.41 20L4 18.59l7.72-7.72 1.47 1.35L5.41 20z\"/>\n",
              "  </svg>\n",
              "      </button>\n",
              "      \n",
              "  <style>\n",
              "    .colab-df-container {\n",
              "      display:flex;\n",
              "      flex-wrap:wrap;\n",
              "      gap: 12px;\n",
              "    }\n",
              "\n",
              "    .colab-df-convert {\n",
              "      background-color: #E8F0FE;\n",
              "      border: none;\n",
              "      border-radius: 50%;\n",
              "      cursor: pointer;\n",
              "      display: none;\n",
              "      fill: #1967D2;\n",
              "      height: 32px;\n",
              "      padding: 0 0 0 0;\n",
              "      width: 32px;\n",
              "    }\n",
              "\n",
              "    .colab-df-convert:hover {\n",
              "      background-color: #E2EBFA;\n",
              "      box-shadow: 0px 1px 2px rgba(60, 64, 67, 0.3), 0px 1px 3px 1px rgba(60, 64, 67, 0.15);\n",
              "      fill: #174EA6;\n",
              "    }\n",
              "\n",
              "    [theme=dark] .colab-df-convert {\n",
              "      background-color: #3B4455;\n",
              "      fill: #D2E3FC;\n",
              "    }\n",
              "\n",
              "    [theme=dark] .colab-df-convert:hover {\n",
              "      background-color: #434B5C;\n",
              "      box-shadow: 0px 1px 3px 1px rgba(0, 0, 0, 0.15);\n",
              "      filter: drop-shadow(0px 1px 2px rgba(0, 0, 0, 0.3));\n",
              "      fill: #FFFFFF;\n",
              "    }\n",
              "  </style>\n",
              "\n",
              "      <script>\n",
              "        const buttonEl =\n",
              "          document.querySelector('#df-dbc413d7-786b-4a38-8244-d5a6718b114d button.colab-df-convert');\n",
              "        buttonEl.style.display =\n",
              "          google.colab.kernel.accessAllowed ? 'block' : 'none';\n",
              "\n",
              "        async function convertToInteractive(key) {\n",
              "          const element = document.querySelector('#df-dbc413d7-786b-4a38-8244-d5a6718b114d');\n",
              "          const dataTable =\n",
              "            await google.colab.kernel.invokeFunction('convertToInteractive',\n",
              "                                                     [key], {});\n",
              "          if (!dataTable) return;\n",
              "\n",
              "          const docLinkHtml = 'Like what you see? Visit the ' +\n",
              "            '<a target=\"_blank\" href=https://colab.research.google.com/notebooks/data_table.ipynb>data table notebook</a>'\n",
              "            + ' to learn more about interactive tables.';\n",
              "          element.innerHTML = '';\n",
              "          dataTable['output_type'] = 'display_data';\n",
              "          await google.colab.output.renderOutput(dataTable, element);\n",
              "          const docLink = document.createElement('div');\n",
              "          docLink.innerHTML = docLinkHtml;\n",
              "          element.appendChild(docLink);\n",
              "        }\n",
              "      </script>\n",
              "    </div>\n",
              "  </div>\n",
              "  "
            ]
          },
          "metadata": {},
          "execution_count": 89
        }
      ]
    },
    {
      "cell_type": "code",
      "source": [
        "# dividing tournaments to 3 types - Worldcup, Friendly, Other\n"
      ],
      "metadata": {
        "id": "LGfKMcUElwUU"
      },
      "execution_count": null,
      "outputs": []
    },
    {
      "cell_type": "code",
      "source": [
        "df_home_away['tournament'].unique()"
      ],
      "metadata": {
        "colab": {
          "base_uri": "https://localhost:8080/"
        },
        "id": "ZWSx8MPG-akK",
        "outputId": "74e9706c-045d-4d22-de2b-7b1145921a6a"
      },
      "execution_count": null,
      "outputs": [
        {
          "output_type": "execute_result",
          "data": {
            "text/plain": [
              "array(['FIFA World Cup qualification', 'Friendly',\n",
              "       'African Cup of Nations qualification', 'Amílcar Cabral Cup',\n",
              "       'United Arab Emirates Friendship Tournament',\n",
              "       'Malta International Tournament',\n",
              "       'CFU Caribbean Cup qualification', 'African Cup of Nations',\n",
              "       'CFU Caribbean Cup', 'UEFA Euro qualification', 'Kirin Cup',\n",
              "       'FIFA World Cup', 'Oceania Nations Cup qualification',\n",
              "       'Baltic Cup', 'Gulf Cup', 'Simba Tournament', 'CECAFA Cup',\n",
              "       'Dynasty Cup', \"King's Cup\", 'SAFF Cup', 'Copa Paz del Chaco',\n",
              "       'Korea Cup', 'USA Cup', 'Copa América', 'Merdeka Tournament',\n",
              "       'South Pacific Games', 'UNCAF Cup', 'Oceania Nations Cup',\n",
              "       'Windward Islands Tournament', 'Gold Cup',\n",
              "       'AFC Asian Cup qualification', 'Lunar New Year Cup',\n",
              "       'AFF Championship', 'AFC Asian Cup', 'King Hassan II Tournament',\n",
              "       'Cyprus International Tournament', 'Dunhill Cup', 'Nehru Cup',\n",
              "       'COSAFA Cup', 'Tournoi de France', 'Confederations Cup',\n",
              "       'UAFA Cup', 'Gold Cup qualification', 'UNIFFAC Cup',\n",
              "       'Nordic Championship', 'WAFF Championship', 'UEFA Euro',\n",
              "       'Millennium Cup', \"Prime Minister's Cup\", 'SKN Football Festival',\n",
              "       'EAFF Championship', 'AFC Challenge Cup', 'Copa del Pacífico',\n",
              "       'UAFA Cup qualification', 'AFC Challenge Cup qualification',\n",
              "       'African Nations Championship', 'VFF Cup', 'Dragon Cup',\n",
              "       'Nile Basin Tournament', 'Nations Cup', 'Pacific Games',\n",
              "       'ABCS Tournament', 'OSN Cup', 'Copa América qualification',\n",
              "       'Intercontinental Cup'], dtype=object)"
            ]
          },
          "metadata": {},
          "execution_count": 91
        }
      ]
    },
    {
      "cell_type": "code",
      "source": [
        "#seeing how world cup is represented\n",
        "values = []\n",
        "\n",
        "for val in df_home_away['tournament'].unique():\n",
        "  if 'World Cup' in val:\n",
        "    values.append(val)\n",
        "print(values)"
      ],
      "metadata": {
        "colab": {
          "base_uri": "https://localhost:8080/"
        },
        "id": "SoLI05Nz-qqJ",
        "outputId": "ac1fe108-4e51-4e13-ec68-0176243717a1"
      },
      "execution_count": null,
      "outputs": [
        {
          "output_type": "stream",
          "name": "stdout",
          "text": [
            "['FIFA World Cup qualification', 'FIFA World Cup']\n"
          ]
        }
      ]
    },
    {
      "cell_type": "code",
      "source": [
        "#function to convert tournaments to 3 main types - friendly, world cup, other\n",
        "def new_col(x):\n",
        "   \n",
        "    if x == 'Friendly':\n",
        "      return 'Friendly'\n",
        "    elif 'World Cup' in x:\n",
        "      return 'World Cup'\n",
        "    else:\n",
        "      return 'Other'"
      ],
      "metadata": {
        "id": "cQ8DORLhApdE"
      },
      "execution_count": null,
      "outputs": []
    },
    {
      "cell_type": "code",
      "source": [
        "#creating column with 3 types of tournament\n",
        "df_home_away['tournament_types'] = df_home_away['tournament'].apply(lambda x: new_col(x))"
      ],
      "metadata": {
        "id": "ZMCCmr3AAjZN"
      },
      "execution_count": null,
      "outputs": []
    },
    {
      "cell_type": "code",
      "source": [
        "df_home_away['tournament_types'].unique()"
      ],
      "metadata": {
        "colab": {
          "base_uri": "https://localhost:8080/"
        },
        "id": "889nw_2oKbhD",
        "outputId": "d9789fa2-ef0a-4cd6-8555-cdb48f81f019"
      },
      "execution_count": null,
      "outputs": [
        {
          "output_type": "execute_result",
          "data": {
            "text/plain": [
              "array(['World Cup', 'Friendly', 'Other'], dtype=object)"
            ]
          },
          "metadata": {},
          "execution_count": 95
        }
      ]
    },
    {
      "cell_type": "code",
      "source": [
        "df_home_away"
      ],
      "metadata": {
        "colab": {
          "base_uri": "https://localhost:8080/",
          "height": 713
        },
        "id": "rEAau_jzmS0r",
        "outputId": "503059cd-8e7e-434b-9df7-947e1fb55e0d"
      },
      "execution_count": null,
      "outputs": [
        {
          "output_type": "execute_result",
          "data": {
            "text/plain": [
              "            date home_team     away_team  home_score  away_score  \\\n",
              "0     1993-08-08   Bolivia       Uruguay           3           1   \n",
              "1     1993-08-08    Brazil        Mexico           1           1   \n",
              "2     1993-08-08   Ecuador     Venezuela           5           0   \n",
              "3     1993-08-08    Guinea  Sierra Leone           1           0   \n",
              "4     1993-08-08  Paraguay     Argentina           1           3   \n",
              "...          ...       ...           ...         ...         ...   \n",
              "21905 2018-06-07   England    Costa Rica           2           0   \n",
              "21906 2018-06-07   Uruguay    Uzbekistan           3           0   \n",
              "21907 2018-06-07  Portugal       Algeria           3           0   \n",
              "21909 2018-06-07   Iceland         Ghana           2           2   \n",
              "21911 2018-06-07     India   New Zealand           1           2   \n",
              "\n",
              "                         tournament  year_month_home  home_rank  \\\n",
              "0      FIFA World Cup qualification   Bolivia 1993-8       59.0   \n",
              "1                          Friendly    Brazil 1993-8        8.0   \n",
              "2      FIFA World Cup qualification   Ecuador 1993-8       35.0   \n",
              "3                          Friendly    Guinea 1993-8       65.0   \n",
              "4      FIFA World Cup qualification  Paraguay 1993-8       67.0   \n",
              "...                             ...              ...        ...   \n",
              "21905                      Friendly   England 2018-6       12.0   \n",
              "21906                      Friendly   Uruguay 2018-6       14.0   \n",
              "21907                      Friendly  Portugal 2018-6        4.0   \n",
              "21909                      Friendly   Iceland 2018-6       22.0   \n",
              "21911          Intercontinental Cup     India 2018-6       97.0   \n",
              "\n",
              "           year_month_away  away_rank tournament_types  \n",
              "0           Uruguay 1993-8       22.0        World Cup  \n",
              "1            Mexico 1993-8       14.0         Friendly  \n",
              "2         Venezuela 1993-8       94.0        World Cup  \n",
              "3      Sierra Leone 1993-8       86.0         Friendly  \n",
              "4         Argentina 1993-8        5.0        World Cup  \n",
              "...                    ...        ...              ...  \n",
              "21905    Costa Rica 2018-6       23.0         Friendly  \n",
              "21906    Uzbekistan 2018-6       95.0         Friendly  \n",
              "21907       Algeria 2018-6       66.0         Friendly  \n",
              "21909         Ghana 2018-6       47.0         Friendly  \n",
              "21911   New Zealand 2018-6      120.0            Other  \n",
              "\n",
              "[16704 rows x 11 columns]"
            ],
            "text/html": [
              "\n",
              "  <div id=\"df-6d731be8-68cb-4073-988d-1f75c64d9832\">\n",
              "    <div class=\"colab-df-container\">\n",
              "      <div>\n",
              "<style scoped>\n",
              "    .dataframe tbody tr th:only-of-type {\n",
              "        vertical-align: middle;\n",
              "    }\n",
              "\n",
              "    .dataframe tbody tr th {\n",
              "        vertical-align: top;\n",
              "    }\n",
              "\n",
              "    .dataframe thead th {\n",
              "        text-align: right;\n",
              "    }\n",
              "</style>\n",
              "<table border=\"1\" class=\"dataframe\">\n",
              "  <thead>\n",
              "    <tr style=\"text-align: right;\">\n",
              "      <th></th>\n",
              "      <th>date</th>\n",
              "      <th>home_team</th>\n",
              "      <th>away_team</th>\n",
              "      <th>home_score</th>\n",
              "      <th>away_score</th>\n",
              "      <th>tournament</th>\n",
              "      <th>year_month_home</th>\n",
              "      <th>home_rank</th>\n",
              "      <th>year_month_away</th>\n",
              "      <th>away_rank</th>\n",
              "      <th>tournament_types</th>\n",
              "    </tr>\n",
              "  </thead>\n",
              "  <tbody>\n",
              "    <tr>\n",
              "      <th>0</th>\n",
              "      <td>1993-08-08</td>\n",
              "      <td>Bolivia</td>\n",
              "      <td>Uruguay</td>\n",
              "      <td>3</td>\n",
              "      <td>1</td>\n",
              "      <td>FIFA World Cup qualification</td>\n",
              "      <td>Bolivia 1993-8</td>\n",
              "      <td>59.0</td>\n",
              "      <td>Uruguay 1993-8</td>\n",
              "      <td>22.0</td>\n",
              "      <td>World Cup</td>\n",
              "    </tr>\n",
              "    <tr>\n",
              "      <th>1</th>\n",
              "      <td>1993-08-08</td>\n",
              "      <td>Brazil</td>\n",
              "      <td>Mexico</td>\n",
              "      <td>1</td>\n",
              "      <td>1</td>\n",
              "      <td>Friendly</td>\n",
              "      <td>Brazil 1993-8</td>\n",
              "      <td>8.0</td>\n",
              "      <td>Mexico 1993-8</td>\n",
              "      <td>14.0</td>\n",
              "      <td>Friendly</td>\n",
              "    </tr>\n",
              "    <tr>\n",
              "      <th>2</th>\n",
              "      <td>1993-08-08</td>\n",
              "      <td>Ecuador</td>\n",
              "      <td>Venezuela</td>\n",
              "      <td>5</td>\n",
              "      <td>0</td>\n",
              "      <td>FIFA World Cup qualification</td>\n",
              "      <td>Ecuador 1993-8</td>\n",
              "      <td>35.0</td>\n",
              "      <td>Venezuela 1993-8</td>\n",
              "      <td>94.0</td>\n",
              "      <td>World Cup</td>\n",
              "    </tr>\n",
              "    <tr>\n",
              "      <th>3</th>\n",
              "      <td>1993-08-08</td>\n",
              "      <td>Guinea</td>\n",
              "      <td>Sierra Leone</td>\n",
              "      <td>1</td>\n",
              "      <td>0</td>\n",
              "      <td>Friendly</td>\n",
              "      <td>Guinea 1993-8</td>\n",
              "      <td>65.0</td>\n",
              "      <td>Sierra Leone 1993-8</td>\n",
              "      <td>86.0</td>\n",
              "      <td>Friendly</td>\n",
              "    </tr>\n",
              "    <tr>\n",
              "      <th>4</th>\n",
              "      <td>1993-08-08</td>\n",
              "      <td>Paraguay</td>\n",
              "      <td>Argentina</td>\n",
              "      <td>1</td>\n",
              "      <td>3</td>\n",
              "      <td>FIFA World Cup qualification</td>\n",
              "      <td>Paraguay 1993-8</td>\n",
              "      <td>67.0</td>\n",
              "      <td>Argentina 1993-8</td>\n",
              "      <td>5.0</td>\n",
              "      <td>World Cup</td>\n",
              "    </tr>\n",
              "    <tr>\n",
              "      <th>...</th>\n",
              "      <td>...</td>\n",
              "      <td>...</td>\n",
              "      <td>...</td>\n",
              "      <td>...</td>\n",
              "      <td>...</td>\n",
              "      <td>...</td>\n",
              "      <td>...</td>\n",
              "      <td>...</td>\n",
              "      <td>...</td>\n",
              "      <td>...</td>\n",
              "      <td>...</td>\n",
              "    </tr>\n",
              "    <tr>\n",
              "      <th>21905</th>\n",
              "      <td>2018-06-07</td>\n",
              "      <td>England</td>\n",
              "      <td>Costa Rica</td>\n",
              "      <td>2</td>\n",
              "      <td>0</td>\n",
              "      <td>Friendly</td>\n",
              "      <td>England 2018-6</td>\n",
              "      <td>12.0</td>\n",
              "      <td>Costa Rica 2018-6</td>\n",
              "      <td>23.0</td>\n",
              "      <td>Friendly</td>\n",
              "    </tr>\n",
              "    <tr>\n",
              "      <th>21906</th>\n",
              "      <td>2018-06-07</td>\n",
              "      <td>Uruguay</td>\n",
              "      <td>Uzbekistan</td>\n",
              "      <td>3</td>\n",
              "      <td>0</td>\n",
              "      <td>Friendly</td>\n",
              "      <td>Uruguay 2018-6</td>\n",
              "      <td>14.0</td>\n",
              "      <td>Uzbekistan 2018-6</td>\n",
              "      <td>95.0</td>\n",
              "      <td>Friendly</td>\n",
              "    </tr>\n",
              "    <tr>\n",
              "      <th>21907</th>\n",
              "      <td>2018-06-07</td>\n",
              "      <td>Portugal</td>\n",
              "      <td>Algeria</td>\n",
              "      <td>3</td>\n",
              "      <td>0</td>\n",
              "      <td>Friendly</td>\n",
              "      <td>Portugal 2018-6</td>\n",
              "      <td>4.0</td>\n",
              "      <td>Algeria 2018-6</td>\n",
              "      <td>66.0</td>\n",
              "      <td>Friendly</td>\n",
              "    </tr>\n",
              "    <tr>\n",
              "      <th>21909</th>\n",
              "      <td>2018-06-07</td>\n",
              "      <td>Iceland</td>\n",
              "      <td>Ghana</td>\n",
              "      <td>2</td>\n",
              "      <td>2</td>\n",
              "      <td>Friendly</td>\n",
              "      <td>Iceland 2018-6</td>\n",
              "      <td>22.0</td>\n",
              "      <td>Ghana 2018-6</td>\n",
              "      <td>47.0</td>\n",
              "      <td>Friendly</td>\n",
              "    </tr>\n",
              "    <tr>\n",
              "      <th>21911</th>\n",
              "      <td>2018-06-07</td>\n",
              "      <td>India</td>\n",
              "      <td>New Zealand</td>\n",
              "      <td>1</td>\n",
              "      <td>2</td>\n",
              "      <td>Intercontinental Cup</td>\n",
              "      <td>India 2018-6</td>\n",
              "      <td>97.0</td>\n",
              "      <td>New Zealand 2018-6</td>\n",
              "      <td>120.0</td>\n",
              "      <td>Other</td>\n",
              "    </tr>\n",
              "  </tbody>\n",
              "</table>\n",
              "<p>16704 rows × 11 columns</p>\n",
              "</div>\n",
              "      <button class=\"colab-df-convert\" onclick=\"convertToInteractive('df-6d731be8-68cb-4073-988d-1f75c64d9832')\"\n",
              "              title=\"Convert this dataframe to an interactive table.\"\n",
              "              style=\"display:none;\">\n",
              "        \n",
              "  <svg xmlns=\"http://www.w3.org/2000/svg\" height=\"24px\"viewBox=\"0 0 24 24\"\n",
              "       width=\"24px\">\n",
              "    <path d=\"M0 0h24v24H0V0z\" fill=\"none\"/>\n",
              "    <path d=\"M18.56 5.44l.94 2.06.94-2.06 2.06-.94-2.06-.94-.94-2.06-.94 2.06-2.06.94zm-11 1L8.5 8.5l.94-2.06 2.06-.94-2.06-.94L8.5 2.5l-.94 2.06-2.06.94zm10 10l.94 2.06.94-2.06 2.06-.94-2.06-.94-.94-2.06-.94 2.06-2.06.94z\"/><path d=\"M17.41 7.96l-1.37-1.37c-.4-.4-.92-.59-1.43-.59-.52 0-1.04.2-1.43.59L10.3 9.45l-7.72 7.72c-.78.78-.78 2.05 0 2.83L4 21.41c.39.39.9.59 1.41.59.51 0 1.02-.2 1.41-.59l7.78-7.78 2.81-2.81c.8-.78.8-2.07 0-2.86zM5.41 20L4 18.59l7.72-7.72 1.47 1.35L5.41 20z\"/>\n",
              "  </svg>\n",
              "      </button>\n",
              "      \n",
              "  <style>\n",
              "    .colab-df-container {\n",
              "      display:flex;\n",
              "      flex-wrap:wrap;\n",
              "      gap: 12px;\n",
              "    }\n",
              "\n",
              "    .colab-df-convert {\n",
              "      background-color: #E8F0FE;\n",
              "      border: none;\n",
              "      border-radius: 50%;\n",
              "      cursor: pointer;\n",
              "      display: none;\n",
              "      fill: #1967D2;\n",
              "      height: 32px;\n",
              "      padding: 0 0 0 0;\n",
              "      width: 32px;\n",
              "    }\n",
              "\n",
              "    .colab-df-convert:hover {\n",
              "      background-color: #E2EBFA;\n",
              "      box-shadow: 0px 1px 2px rgba(60, 64, 67, 0.3), 0px 1px 3px 1px rgba(60, 64, 67, 0.15);\n",
              "      fill: #174EA6;\n",
              "    }\n",
              "\n",
              "    [theme=dark] .colab-df-convert {\n",
              "      background-color: #3B4455;\n",
              "      fill: #D2E3FC;\n",
              "    }\n",
              "\n",
              "    [theme=dark] .colab-df-convert:hover {\n",
              "      background-color: #434B5C;\n",
              "      box-shadow: 0px 1px 3px 1px rgba(0, 0, 0, 0.15);\n",
              "      filter: drop-shadow(0px 1px 2px rgba(0, 0, 0, 0.3));\n",
              "      fill: #FFFFFF;\n",
              "    }\n",
              "  </style>\n",
              "\n",
              "      <script>\n",
              "        const buttonEl =\n",
              "          document.querySelector('#df-6d731be8-68cb-4073-988d-1f75c64d9832 button.colab-df-convert');\n",
              "        buttonEl.style.display =\n",
              "          google.colab.kernel.accessAllowed ? 'block' : 'none';\n",
              "\n",
              "        async function convertToInteractive(key) {\n",
              "          const element = document.querySelector('#df-6d731be8-68cb-4073-988d-1f75c64d9832');\n",
              "          const dataTable =\n",
              "            await google.colab.kernel.invokeFunction('convertToInteractive',\n",
              "                                                     [key], {});\n",
              "          if (!dataTable) return;\n",
              "\n",
              "          const docLinkHtml = 'Like what you see? Visit the ' +\n",
              "            '<a target=\"_blank\" href=https://colab.research.google.com/notebooks/data_table.ipynb>data table notebook</a>'\n",
              "            + ' to learn more about interactive tables.';\n",
              "          element.innerHTML = '';\n",
              "          dataTable['output_type'] = 'display_data';\n",
              "          await google.colab.output.renderOutput(dataTable, element);\n",
              "          const docLink = document.createElement('div');\n",
              "          docLink.innerHTML = docLinkHtml;\n",
              "          element.appendChild(docLink);\n",
              "        }\n",
              "      </script>\n",
              "    </div>\n",
              "  </div>\n",
              "  "
            ]
          },
          "metadata": {},
          "execution_count": 96
        }
      ]
    },
    {
      "cell_type": "code",
      "source": [
        ""
      ],
      "metadata": {
        "id": "J64obaAB653F"
      },
      "execution_count": null,
      "outputs": []
    },
    {
      "cell_type": "markdown",
      "metadata": {
        "id": "rF2ABPsHUtbZ"
      },
      "source": [
        "## Exploratory Analysis"
      ]
    },
    {
      "cell_type": "code",
      "source": [
        ""
      ],
      "metadata": {
        "id": "3V2VyEwl6-Jz"
      },
      "execution_count": null,
      "outputs": []
    },
    {
      "cell_type": "code",
      "source": [
        "df_home_away.columns"
      ],
      "metadata": {
        "colab": {
          "base_uri": "https://localhost:8080/"
        },
        "id": "S_Rp5KtMnSVH",
        "outputId": "2f0cdfa9-971d-43bc-ce36-1cf72b951435"
      },
      "execution_count": null,
      "outputs": [
        {
          "output_type": "execute_result",
          "data": {
            "text/plain": [
              "Index(['date', 'home_team', 'away_team', 'home_score', 'away_score',\n",
              "       'tournament', 'year_month_home', 'home_rank', 'year_month_away',\n",
              "       'away_rank', 'tournament_types'],\n",
              "      dtype='object')"
            ]
          },
          "metadata": {},
          "execution_count": 97
        }
      ]
    },
    {
      "cell_type": "markdown",
      "source": [
        "### Univariate Analysis"
      ],
      "metadata": {
        "id": "Odqgq_uepm4g"
      }
    },
    {
      "cell_type": "code",
      "source": [
        "# Ploting the univariate summaries and recording our observations"
      ],
      "metadata": {
        "id": "D2CikavypjhQ"
      },
      "execution_count": null,
      "outputs": []
    },
    {
      "cell_type": "code",
      "source": [
        "#plotting tournament types counts\n",
        "df_home_away['tournament_types'].value_counts().plot.bar()\n",
        "plt.title('Tournament types')\n",
        "plt.ylabel('Count')\n",
        "plt.show()"
      ],
      "metadata": {
        "colab": {
          "base_uri": "https://localhost:8080/",
          "height": 323
        },
        "id": "FTmALJEqpuOt",
        "outputId": "621e31b1-a83f-4c5c-dbf3-d30e8edd2003"
      },
      "execution_count": null,
      "outputs": [
        {
          "output_type": "display_data",
          "data": {
            "text/plain": [
              "<Figure size 432x288 with 1 Axes>"
            ],
            "image/png": "[encoded data removed]"
          },
          "metadata": {
            "needs_background": "light"
          }
        }
      ]
    },
    {
      "cell_type": "markdown",
      "source": [
        "Most matches were friendly or other types other than World Cup matches"
      ],
      "metadata": {
        "id": "Pf1h0XKmqLEP"
      }
    },
    {
      "cell_type": "code",
      "metadata": {
        "id": "5nnRToniXGDK",
        "colab": {
          "base_uri": "https://localhost:8080/",
          "height": 514
        },
        "outputId": "f3e4444e-c86e-45b6-8970-5bde23955a33"
      },
      "source": [
        "#plotting matches per year\n",
        "df_home_away['date'].dt.year.value_counts().plot.bar()\n",
        "plt.title('Matches per year')\n",
        "plt.ylabel('Count')\n",
        "plt.gcf().set_size_inches(8,8)\n",
        "plt.show()"
      ],
      "execution_count": null,
      "outputs": [
        {
          "output_type": "display_data",
          "data": {
            "text/plain": [
              "<Figure size 576x576 with 1 Axes>"
            ],
            "image/png": "[encoded data removed]"
          },
          "metadata": {
            "needs_background": "light"
          }
        }
      ]
    },
    {
      "cell_type": "markdown",
      "source": [
        "2011 had the most matches"
      ],
      "metadata": {
        "id": "kUR44bZTpe9M"
      }
    },
    {
      "cell_type": "code",
      "source": [
        "#descrptive statistics home score\n",
        "df_home_away['home_score'].describe()"
      ],
      "metadata": {
        "colab": {
          "base_uri": "https://localhost:8080/"
        },
        "id": "ZkWDwENJqQgU",
        "outputId": "11473686-5cc0-40b0-aa1c-88bb5773eda2"
      },
      "execution_count": null,
      "outputs": [
        {
          "output_type": "execute_result",
          "data": {
            "text/plain": [
              "count    16704.000000\n",
              "mean         1.608896\n",
              "std          1.619086\n",
              "min          0.000000\n",
              "25%          0.000000\n",
              "50%          1.000000\n",
              "75%          2.000000\n",
              "max         31.000000\n",
              "Name: home_score, dtype: float64"
            ]
          },
          "metadata": {},
          "execution_count": 101
        }
      ]
    },
    {
      "cell_type": "markdown",
      "source": [
        "* The mean home score is approximately 1.\n",
        "* The standard deviation is approximately 1\n",
        "* The minimum home score - 0.\n",
        "* The first quartile is 0 scores\n",
        "* The median is 1 score\n",
        "* The third quartile is 2 scores\n",
        "* The maximum number of homescores is 31"
      ],
      "metadata": {
        "id": "d5HX1c-crBiZ"
      }
    },
    {
      "cell_type": "code",
      "source": [
        "#plotting histogram of home scores\n",
        "df_home_away['home_score'].hist(grid=False, bins= 10, rwidth=0.9)\n",
        "\n",
        "plt.title('Histogram of home scores.')\n",
        "plt.xlabel('home scores')\n",
        "plt.ylabel('Frequency')"
      ],
      "metadata": {
        "colab": {
          "base_uri": "https://localhost:8080/",
          "height": 312
        },
        "id": "wW8dC6BQ6erQ",
        "outputId": "af6e11ee-2ec0-4ff6-e99d-1ceba61ad81c"
      },
      "execution_count": null,
      "outputs": [
        {
          "output_type": "execute_result",
          "data": {
            "text/plain": [
              "Text(0, 0.5, 'Frequency')"
            ]
          },
          "metadata": {},
          "execution_count": 102
        },
        {
          "output_type": "display_data",
          "data": {
            "text/plain": [
              "<Figure size 432x288 with 1 Axes>"
            ],
            "image/png": "[encoded data removed]"
          },
          "metadata": {
            "needs_background": "light"
          }
        }
      ]
    },
    {
      "cell_type": "code",
      "source": [
        "bin_width = (df_home_away['home_score'].max() - df_home_away['home_score'].min())/10\n",
        "lower_lim = int(df_home_away['home_score'].min())\n",
        "upper_lim = int(df_home_away['home_score'].min() +bin_width*1)\n",
        "print(f'Most home team scores ranged between {lower_lim} to {upper_lim}')"
      ],
      "metadata": {
        "colab": {
          "base_uri": "https://localhost:8080/"
        },
        "id": "mb9je68jucbG",
        "outputId": "feddc28b-b949-464c-913a-eacc25e54db8"
      },
      "execution_count": null,
      "outputs": [
        {
          "output_type": "stream",
          "name": "stdout",
          "text": [
            "Most home team scores ranged between 0 to 3\n"
          ]
        }
      ]
    },
    {
      "cell_type": "code",
      "source": [
        ""
      ],
      "metadata": {
        "id": "tVszNnFltw3S"
      },
      "execution_count": null,
      "outputs": []
    },
    {
      "cell_type": "code",
      "source": [
        "#describing away scores\n",
        "df_home_away['away_score'].describe()"
      ],
      "metadata": {
        "colab": {
          "base_uri": "https://localhost:8080/"
        },
        "outputId": "8b0c82fb-8fad-4ea2-c724-e39ce11d8a1d",
        "id": "IYYAp_KFtxN0"
      },
      "execution_count": null,
      "outputs": [
        {
          "output_type": "execute_result",
          "data": {
            "text/plain": [
              "count    16704.000000\n",
              "mean         1.068307\n",
              "std          1.247666\n",
              "min          0.000000\n",
              "25%          0.000000\n",
              "50%          1.000000\n",
              "75%          2.000000\n",
              "max         15.000000\n",
              "Name: away_score, dtype: float64"
            ]
          },
          "metadata": {},
          "execution_count": 104
        }
      ]
    },
    {
      "cell_type": "markdown",
      "source": [
        "* The mean away score is approximately 1.\n",
        "* The standard deviation is approximately 1\n",
        "* The minimum away score - 0.\n",
        "* The first quartile is 0 scores\n",
        "* The median is 1 score\n",
        "* The third quartile is 2 scores\n",
        "* The maximum away score is 15"
      ],
      "metadata": {
        "id": "fa4rBs8utxN2"
      }
    },
    {
      "cell_type": "code",
      "source": [
        "#plotting histogram of away scores\n",
        "df_home_away['away_score'].hist(grid=False, bins= 5, rwidth=0.9)\n",
        "\n",
        "plt.title('Histogram of away scores.')\n",
        "plt.xlabel('away scores')\n",
        "plt.ylabel('Frequency')"
      ],
      "metadata": {
        "colab": {
          "base_uri": "https://localhost:8080/",
          "height": 312
        },
        "outputId": "9b02e4f7-f786-495a-e35b-43578ae1c573",
        "id": "Rlm8lfwLtxN3"
      },
      "execution_count": null,
      "outputs": [
        {
          "output_type": "execute_result",
          "data": {
            "text/plain": [
              "Text(0, 0.5, 'Frequency')"
            ]
          },
          "metadata": {},
          "execution_count": 105
        },
        {
          "output_type": "display_data",
          "data": {
            "text/plain": [
              "<Figure size 432x288 with 1 Axes>"
            ],
            "image/png": "[encoded data removed]"
          },
          "metadata": {
            "needs_background": "light"
          }
        }
      ]
    },
    {
      "cell_type": "code",
      "source": [
        "bin_width = (df_home_away['away_score'].max() - df_home_away['away_score'].min())/5\n",
        "lower_lim = int(df_home_away['away_score'].min())\n",
        "upper_lim = int(df_home_away['away_score'].min() +bin_width*1)\n",
        "print(f'Most away team scores ranged between {lower_lim} to {upper_lim}')"
      ],
      "metadata": {
        "colab": {
          "base_uri": "https://localhost:8080/"
        },
        "id": "gSlZUsLS6sEg",
        "outputId": "4c05c8d8-59ff-404d-85ab-2c8338956adc"
      },
      "execution_count": null,
      "outputs": [
        {
          "output_type": "stream",
          "name": "stdout",
          "text": [
            "Most away team scores ranged between 0 to 3\n"
          ]
        }
      ]
    },
    {
      "cell_type": "markdown",
      "source": [
        "### Bivariate Analysis"
      ],
      "metadata": {
        "id": "KW4bBZulu-6i"
      }
    },
    {
      "cell_type": "code",
      "source": [
        "df_home_away.columns"
      ],
      "metadata": {
        "colab": {
          "base_uri": "https://localhost:8080/"
        },
        "id": "BEmhn7j7vRwm",
        "outputId": "c253b299-d15f-4576-b5ea-a3a7c91732d3"
      },
      "execution_count": null,
      "outputs": [
        {
          "output_type": "execute_result",
          "data": {
            "text/plain": [
              "Index(['date', 'home_team', 'away_team', 'home_score', 'away_score',\n",
              "       'tournament', 'year_month_home', 'home_rank', 'year_month_away',\n",
              "       'away_rank', 'tournament_types'],\n",
              "      dtype='object')"
            ]
          },
          "metadata": {},
          "execution_count": 107
        }
      ]
    },
    {
      "cell_type": "code",
      "source": [
        "#top 5 home scores by team\n",
        "top_5_home_scores = df_home_away.sort_values(by='home_score', ascending=False).head(5)\n",
        "top_5_home_scores.plot.bar(x='home_team', y='home_score')\n",
        "plt.title('Top 5 home scores and teams')\n",
        "plt.show()"
      ],
      "metadata": {
        "colab": {
          "base_uri": "https://localhost:8080/",
          "height": 385
        },
        "id": "33Cf-asNvVme",
        "outputId": "7156f843-3664-4126-da57-d596a6b91dfa"
      },
      "execution_count": null,
      "outputs": [
        {
          "output_type": "display_data",
          "data": {
            "text/plain": [
              "<Figure size 432x288 with 1 Axes>"
            ],
            "image/png": "[encoded data removed]"
          },
          "metadata": {
            "needs_background": "light"
          }
        }
      ]
    },
    {
      "cell_type": "markdown",
      "source": [
        "Australia recorded the highest number of home scores"
      ],
      "metadata": {
        "id": "PERS87ftwBbR"
      }
    },
    {
      "cell_type": "code",
      "source": [
        "#top 5 away scores by team\n",
        "top_5_away_scores = df_home_away.sort_values(by='away_score', ascending=False).head(5)\n",
        "top_5_away_scores.plot.bar(x='away_team', y='away_score')\n",
        "plt.title('Top 5 away scores and teams')\n",
        "plt.show()"
      ],
      "metadata": {
        "colab": {
          "base_uri": "https://localhost:8080/",
          "height": 380
        },
        "outputId": "3d0a2ba8-1239-4514-d942-c72c70e95af7",
        "id": "S1beRVYCwMo-"
      },
      "execution_count": null,
      "outputs": [
        {
          "output_type": "display_data",
          "data": {
            "text/plain": [
              "<Figure size 432x288 with 1 Axes>"
            ],
            "image/png": "[encoded data removed]"
          },
          "metadata": {
            "needs_background": "light"
          }
        }
      ]
    },
    {
      "cell_type": "markdown",
      "source": [
        "Hong Kong and Vanuatu recorded the highest numbers of away scores"
      ],
      "metadata": {
        "id": "hujMxRn4wMpA"
      }
    },
    {
      "cell_type": "code",
      "source": [
        "#tournament types will be used in modeling, so encoding it to numerical representation\n",
        "from sklearn.preprocessing import LabelEncoder\n",
        "enc = LabelEncoder()\n",
        "df_home_away['tournament_types'] = enc.fit_transform(df_home_away['tournament_types'])"
      ],
      "metadata": {
        "id": "4v7q-hzqKnER"
      },
      "execution_count": null,
      "outputs": []
    },
    {
      "cell_type": "code",
      "source": [
        "df_home_away.dtypes"
      ],
      "metadata": {
        "colab": {
          "base_uri": "https://localhost:8080/"
        },
        "id": "cymFTYU7yWTW",
        "outputId": "3cea1aea-7289-46fa-d2c1-f1d401e4af99"
      },
      "execution_count": null,
      "outputs": [
        {
          "output_type": "execute_result",
          "data": {
            "text/plain": [
              "date                datetime64[ns]\n",
              "home_team                   object\n",
              "away_team                   object\n",
              "home_score                   int64\n",
              "away_score                   int64\n",
              "tournament                  object\n",
              "year_month_home             object\n",
              "home_rank                  float64\n",
              "year_month_away             object\n",
              "away_rank                  float64\n",
              "tournament_types             int64\n",
              "dtype: object"
            ]
          },
          "metadata": {},
          "execution_count": 112
        }
      ]
    },
    {
      "cell_type": "code",
      "source": [
        "#looking at the bivariate correlations of the 3 predictor variables to be used in analysis\n",
        "sb.heatmap(df_home_away[['home_rank', 'away_rank', 'tournament_types']].corr(),annot=True)\n",
        "# plt.gcf().set_size_inches(12,6)\n",
        "plt.show()"
      ],
      "metadata": {
        "colab": {
          "base_uri": "https://localhost:8080/",
          "height": 270
        },
        "id": "t1gcqzfGybR1",
        "outputId": "e892e1b2-72a1-44ac-9a7a-b9b091ee6494"
      },
      "execution_count": null,
      "outputs": [
        {
          "output_type": "display_data",
          "data": {
            "text/plain": [
              "<Figure size 432x288 with 2 Axes>"
            ],
            "image/png": "[encoded data removed]"
          },
          "metadata": {
            "needs_background": "light"
          }
        }
      ]
    },
    {
      "cell_type": "markdown",
      "source": [
        "Home rank and away rank are moderately correlated. The remaining combinations show very weak correlation."
      ],
      "metadata": {
        "id": "SkDcuWgb72eM"
      }
    },
    {
      "cell_type": "markdown",
      "metadata": {
        "id": "vTbdjSrhVIiT"
      },
      "source": [
        "## Implementing the Solution"
      ]
    },
    {
      "cell_type": "markdown",
      "source": [
        "### Multivariate Analysis and Modelling"
      ],
      "metadata": {
        "id": "a8WYYC-QvEr1"
      }
    },
    {
      "cell_type": "code",
      "metadata": {
        "id": "PJLZaRzJXJ3w"
      },
      "source": [
        "# Implementing the Solution\n",
        "# "
      ],
      "execution_count": null,
      "outputs": []
    },
    {
      "cell_type": "code",
      "source": [
        "df_home_away.columns"
      ],
      "metadata": {
        "colab": {
          "base_uri": "https://localhost:8080/"
        },
        "id": "kmxQTOfD0dos",
        "outputId": "3f16cee8-5cd7-4c07-fa69-1dc5351069dc"
      },
      "execution_count": null,
      "outputs": [
        {
          "output_type": "execute_result",
          "data": {
            "text/plain": [
              "Index(['date', 'home_team', 'away_team', 'home_score', 'away_score',\n",
              "       'tournament', 'year_month_home', 'home_rank', 'year_month_away',\n",
              "       'away_rank', 'tournament_types'],\n",
              "      dtype='object')"
            ]
          },
          "metadata": {},
          "execution_count": 115
        }
      ]
    },
    {
      "cell_type": "code",
      "source": [
        "df_home_away.dtypes"
      ],
      "metadata": {
        "colab": {
          "base_uri": "https://localhost:8080/"
        },
        "id": "BlCm_sUv8bAK",
        "outputId": "061622f1-af9e-49e7-c6e4-a8ab36706fd7"
      },
      "execution_count": null,
      "outputs": [
        {
          "output_type": "execute_result",
          "data": {
            "text/plain": [
              "date                datetime64[ns]\n",
              "home_team                   object\n",
              "away_team                   object\n",
              "home_score                   int64\n",
              "away_score                   int64\n",
              "tournament                  object\n",
              "year_month_home             object\n",
              "home_rank                  float64\n",
              "year_month_away             object\n",
              "away_rank                  float64\n",
              "tournament_types             int64\n",
              "dtype: object"
            ]
          },
          "metadata": {},
          "execution_count": 117
        }
      ]
    },
    {
      "cell_type": "markdown",
      "source": [
        "#### Polynomial regression"
      ],
      "metadata": {
        "id": "wUoe-nkqwmMQ"
      }
    },
    {
      "cell_type": "markdown",
      "source": [
        "##### Predict how many goals the home team scores."
      ],
      "metadata": {
        "id": "e3s26ZMYwfGQ"
      }
    },
    {
      "cell_type": "code",
      "source": [
        "df_home_away['home_score'].describe()"
      ],
      "metadata": {
        "colab": {
          "base_uri": "https://localhost:8080/"
        },
        "id": "nvbG06Pp1CPr",
        "outputId": "2c9af718-fc9f-4b7f-c03a-a1c85e7254e4"
      },
      "execution_count": null,
      "outputs": [
        {
          "output_type": "execute_result",
          "data": {
            "text/plain": [
              "count    16704.000000\n",
              "mean         1.608896\n",
              "std          1.619086\n",
              "min          0.000000\n",
              "25%          0.000000\n",
              "50%          1.000000\n",
              "75%          2.000000\n",
              "max         31.000000\n",
              "Name: home_score, dtype: float64"
            ]
          },
          "metadata": {},
          "execution_count": 118
        }
      ]
    },
    {
      "cell_type": "code",
      "source": [
        "#correlation matrix of predictors to use in multicollinearity VIF check\n",
        "correlations = df_home_away[['home_rank', 'away_rank', 'tournament_types']].corr()\n",
        "\n",
        "correlations"
      ],
      "metadata": {
        "colab": {
          "base_uri": "https://localhost:8080/",
          "height": 143
        },
        "id": "kci9Wac31lU1",
        "outputId": "b144015e-9bfa-4b48-8341-dd0773e90012"
      },
      "execution_count": null,
      "outputs": [
        {
          "output_type": "execute_result",
          "data": {
            "text/plain": [
              "                  home_rank  away_rank  tournament_types\n",
              "home_rank          1.000000   0.468256          0.034596\n",
              "away_rank          0.468256   1.000000          0.025961\n",
              "tournament_types   0.034596   0.025961          1.000000"
            ],
            "text/html": [
              "\n",
              "  <div id=\"df-16093307-eaad-4ea7-8fe3-de187880fb62\">\n",
              "    <div class=\"colab-df-container\">\n",
              "      <div>\n",
              "<style scoped>\n",
              "    .dataframe tbody tr th:only-of-type {\n",
              "        vertical-align: middle;\n",
              "    }\n",
              "\n",
              "    .dataframe tbody tr th {\n",
              "        vertical-align: top;\n",
              "    }\n",
              "\n",
              "    .dataframe thead th {\n",
              "        text-align: right;\n",
              "    }\n",
              "</style>\n",
              "<table border=\"1\" class=\"dataframe\">\n",
              "  <thead>\n",
              "    <tr style=\"text-align: right;\">\n",
              "      <th></th>\n",
              "      <th>home_rank</th>\n",
              "      <th>away_rank</th>\n",
              "      <th>tournament_types</th>\n",
              "    </tr>\n",
              "  </thead>\n",
              "  <tbody>\n",
              "    <tr>\n",
              "      <th>home_rank</th>\n",
              "      <td>1.000000</td>\n",
              "      <td>0.468256</td>\n",
              "      <td>0.034596</td>\n",
              "    </tr>\n",
              "    <tr>\n",
              "      <th>away_rank</th>\n",
              "      <td>0.468256</td>\n",
              "      <td>1.000000</td>\n",
              "      <td>0.025961</td>\n",
              "    </tr>\n",
              "    <tr>\n",
              "      <th>tournament_types</th>\n",
              "      <td>0.034596</td>\n",
              "      <td>0.025961</td>\n",
              "      <td>1.000000</td>\n",
              "    </tr>\n",
              "  </tbody>\n",
              "</table>\n",
              "</div>\n",
              "      <button class=\"colab-df-convert\" onclick=\"convertToInteractive('df-16093307-eaad-4ea7-8fe3-de187880fb62')\"\n",
              "              title=\"Convert this dataframe to an interactive table.\"\n",
              "              style=\"display:none;\">\n",
              "        \n",
              "  <svg xmlns=\"http://www.w3.org/2000/svg\" height=\"24px\"viewBox=\"0 0 24 24\"\n",
              "       width=\"24px\">\n",
              "    <path d=\"M0 0h24v24H0V0z\" fill=\"none\"/>\n",
              "    <path d=\"M18.56 5.44l.94 2.06.94-2.06 2.06-.94-2.06-.94-.94-2.06-.94 2.06-2.06.94zm-11 1L8.5 8.5l.94-2.06 2.06-.94-2.06-.94L8.5 2.5l-.94 2.06-2.06.94zm10 10l.94 2.06.94-2.06 2.06-.94-2.06-.94-.94-2.06-.94 2.06-2.06.94z\"/><path d=\"M17.41 7.96l-1.37-1.37c-.4-.4-.92-.59-1.43-.59-.52 0-1.04.2-1.43.59L10.3 9.45l-7.72 7.72c-.78.78-.78 2.05 0 2.83L4 21.41c.39.39.9.59 1.41.59.51 0 1.02-.2 1.41-.59l7.78-7.78 2.81-2.81c.8-.78.8-2.07 0-2.86zM5.41 20L4 18.59l7.72-7.72 1.47 1.35L5.41 20z\"/>\n",
              "  </svg>\n",
              "      </button>\n",
              "      \n",
              "  <style>\n",
              "    .colab-df-container {\n",
              "      display:flex;\n",
              "      flex-wrap:wrap;\n",
              "      gap: 12px;\n",
              "    }\n",
              "\n",
              "    .colab-df-convert {\n",
              "      background-color: #E8F0FE;\n",
              "      border: none;\n",
              "      border-radius: 50%;\n",
              "      cursor: pointer;\n",
              "      display: none;\n",
              "      fill: #1967D2;\n",
              "      height: 32px;\n",
              "      padding: 0 0 0 0;\n",
              "      width: 32px;\n",
              "    }\n",
              "\n",
              "    .colab-df-convert:hover {\n",
              "      background-color: #E2EBFA;\n",
              "      box-shadow: 0px 1px 2px rgba(60, 64, 67, 0.3), 0px 1px 3px 1px rgba(60, 64, 67, 0.15);\n",
              "      fill: #174EA6;\n",
              "    }\n",
              "\n",
              "    [theme=dark] .colab-df-convert {\n",
              "      background-color: #3B4455;\n",
              "      fill: #D2E3FC;\n",
              "    }\n",
              "\n",
              "    [theme=dark] .colab-df-convert:hover {\n",
              "      background-color: #434B5C;\n",
              "      box-shadow: 0px 1px 3px 1px rgba(0, 0, 0, 0.15);\n",
              "      filter: drop-shadow(0px 1px 2px rgba(0, 0, 0, 0.3));\n",
              "      fill: #FFFFFF;\n",
              "    }\n",
              "  </style>\n",
              "\n",
              "      <script>\n",
              "        const buttonEl =\n",
              "          document.querySelector('#df-16093307-eaad-4ea7-8fe3-de187880fb62 button.colab-df-convert');\n",
              "        buttonEl.style.display =\n",
              "          google.colab.kernel.accessAllowed ? 'block' : 'none';\n",
              "\n",
              "        async function convertToInteractive(key) {\n",
              "          const element = document.querySelector('#df-16093307-eaad-4ea7-8fe3-de187880fb62');\n",
              "          const dataTable =\n",
              "            await google.colab.kernel.invokeFunction('convertToInteractive',\n",
              "                                                     [key], {});\n",
              "          if (!dataTable) return;\n",
              "\n",
              "          const docLinkHtml = 'Like what you see? Visit the ' +\n",
              "            '<a target=\"_blank\" href=https://colab.research.google.com/notebooks/data_table.ipynb>data table notebook</a>'\n",
              "            + ' to learn more about interactive tables.';\n",
              "          element.innerHTML = '';\n",
              "          dataTable['output_type'] = 'display_data';\n",
              "          await google.colab.output.renderOutput(dataTable, element);\n",
              "          const docLink = document.createElement('div');\n",
              "          docLink.innerHTML = docLinkHtml;\n",
              "          element.appendChild(docLink);\n",
              "        }\n",
              "      </script>\n",
              "    </div>\n",
              "  </div>\n",
              "  "
            ]
          },
          "metadata": {},
          "execution_count": 126
        }
      ]
    },
    {
      "cell_type": "code",
      "source": [
        "#checking for multicollinearity\n",
        "# creating a new dataframe with the inverse of the matrix above to interprete VIF from diagonal\n",
        "pd.DataFrame(np.linalg.inv(correlations.values), index = correlations.index, columns=correlations.columns)"
      ],
      "metadata": {
        "colab": {
          "base_uri": "https://localhost:8080/",
          "height": 143
        },
        "id": "egwKSmDS1xy9",
        "outputId": "440efcd9-41f8-4ae6-ac72-9fd1cfa792cb"
      },
      "execution_count": null,
      "outputs": [
        {
          "output_type": "execute_result",
          "data": {
            "text/plain": [
              "                  home_rank  away_rank  tournament_types\n",
              "home_rank          1.281669  -0.599402         -0.028779\n",
              "away_rank         -0.599402   1.280999         -0.012519\n",
              "tournament_types  -0.028779  -0.012519          1.001321"
            ],
            "text/html": [
              "\n",
              "  <div id=\"df-234ad38e-6da7-4d45-925e-50823149c029\">\n",
              "    <div class=\"colab-df-container\">\n",
              "      <div>\n",
              "<style scoped>\n",
              "    .dataframe tbody tr th:only-of-type {\n",
              "        vertical-align: middle;\n",
              "    }\n",
              "\n",
              "    .dataframe tbody tr th {\n",
              "        vertical-align: top;\n",
              "    }\n",
              "\n",
              "    .dataframe thead th {\n",
              "        text-align: right;\n",
              "    }\n",
              "</style>\n",
              "<table border=\"1\" class=\"dataframe\">\n",
              "  <thead>\n",
              "    <tr style=\"text-align: right;\">\n",
              "      <th></th>\n",
              "      <th>home_rank</th>\n",
              "      <th>away_rank</th>\n",
              "      <th>tournament_types</th>\n",
              "    </tr>\n",
              "  </thead>\n",
              "  <tbody>\n",
              "    <tr>\n",
              "      <th>home_rank</th>\n",
              "      <td>1.281669</td>\n",
              "      <td>-0.599402</td>\n",
              "      <td>-0.028779</td>\n",
              "    </tr>\n",
              "    <tr>\n",
              "      <th>away_rank</th>\n",
              "      <td>-0.599402</td>\n",
              "      <td>1.280999</td>\n",
              "      <td>-0.012519</td>\n",
              "    </tr>\n",
              "    <tr>\n",
              "      <th>tournament_types</th>\n",
              "      <td>-0.028779</td>\n",
              "      <td>-0.012519</td>\n",
              "      <td>1.001321</td>\n",
              "    </tr>\n",
              "  </tbody>\n",
              "</table>\n",
              "</div>\n",
              "      <button class=\"colab-df-convert\" onclick=\"convertToInteractive('df-234ad38e-6da7-4d45-925e-50823149c029')\"\n",
              "              title=\"Convert this dataframe to an interactive table.\"\n",
              "              style=\"display:none;\">\n",
              "        \n",
              "  <svg xmlns=\"http://www.w3.org/2000/svg\" height=\"24px\"viewBox=\"0 0 24 24\"\n",
              "       width=\"24px\">\n",
              "    <path d=\"M0 0h24v24H0V0z\" fill=\"none\"/>\n",
              "    <path d=\"M18.56 5.44l.94 2.06.94-2.06 2.06-.94-2.06-.94-.94-2.06-.94 2.06-2.06.94zm-11 1L8.5 8.5l.94-2.06 2.06-.94-2.06-.94L8.5 2.5l-.94 2.06-2.06.94zm10 10l.94 2.06.94-2.06 2.06-.94-2.06-.94-.94-2.06-.94 2.06-2.06.94z\"/><path d=\"M17.41 7.96l-1.37-1.37c-.4-.4-.92-.59-1.43-.59-.52 0-1.04.2-1.43.59L10.3 9.45l-7.72 7.72c-.78.78-.78 2.05 0 2.83L4 21.41c.39.39.9.59 1.41.59.51 0 1.02-.2 1.41-.59l7.78-7.78 2.81-2.81c.8-.78.8-2.07 0-2.86zM5.41 20L4 18.59l7.72-7.72 1.47 1.35L5.41 20z\"/>\n",
              "  </svg>\n",
              "      </button>\n",
              "      \n",
              "  <style>\n",
              "    .colab-df-container {\n",
              "      display:flex;\n",
              "      flex-wrap:wrap;\n",
              "      gap: 12px;\n",
              "    }\n",
              "\n",
              "    .colab-df-convert {\n",
              "      background-color: #E8F0FE;\n",
              "      border: none;\n",
              "      border-radius: 50%;\n",
              "      cursor: pointer;\n",
              "      display: none;\n",
              "      fill: #1967D2;\n",
              "      height: 32px;\n",
              "      padding: 0 0 0 0;\n",
              "      width: 32px;\n",
              "    }\n",
              "\n",
              "    .colab-df-convert:hover {\n",
              "      background-color: #E2EBFA;\n",
              "      box-shadow: 0px 1px 2px rgba(60, 64, 67, 0.3), 0px 1px 3px 1px rgba(60, 64, 67, 0.15);\n",
              "      fill: #174EA6;\n",
              "    }\n",
              "\n",
              "    [theme=dark] .colab-df-convert {\n",
              "      background-color: #3B4455;\n",
              "      fill: #D2E3FC;\n",
              "    }\n",
              "\n",
              "    [theme=dark] .colab-df-convert:hover {\n",
              "      background-color: #434B5C;\n",
              "      box-shadow: 0px 1px 3px 1px rgba(0, 0, 0, 0.15);\n",
              "      filter: drop-shadow(0px 1px 2px rgba(0, 0, 0, 0.3));\n",
              "      fill: #FFFFFF;\n",
              "    }\n",
              "  </style>\n",
              "\n",
              "      <script>\n",
              "        const buttonEl =\n",
              "          document.querySelector('#df-234ad38e-6da7-4d45-925e-50823149c029 button.colab-df-convert');\n",
              "        buttonEl.style.display =\n",
              "          google.colab.kernel.accessAllowed ? 'block' : 'none';\n",
              "\n",
              "        async function convertToInteractive(key) {\n",
              "          const element = document.querySelector('#df-234ad38e-6da7-4d45-925e-50823149c029');\n",
              "          const dataTable =\n",
              "            await google.colab.kernel.invokeFunction('convertToInteractive',\n",
              "                                                     [key], {});\n",
              "          if (!dataTable) return;\n",
              "\n",
              "          const docLinkHtml = 'Like what you see? Visit the ' +\n",
              "            '<a target=\"_blank\" href=https://colab.research.google.com/notebooks/data_table.ipynb>data table notebook</a>'\n",
              "            + ' to learn more about interactive tables.';\n",
              "          element.innerHTML = '';\n",
              "          dataTable['output_type'] = 'display_data';\n",
              "          await google.colab.output.renderOutput(dataTable, element);\n",
              "          const docLink = document.createElement('div');\n",
              "          docLink.innerHTML = docLinkHtml;\n",
              "          element.appendChild(docLink);\n",
              "        }\n",
              "      </script>\n",
              "    </div>\n",
              "  </div>\n",
              "  "
            ]
          },
          "metadata": {},
          "execution_count": 128
        }
      ]
    },
    {
      "cell_type": "markdown",
      "source": [
        "The VIF (variance inflation factor) score for each variable is found alongside the downwards sloping diagonal. Home rank has a score of 1.282, away_rank has a score of 1.281, tournament types a score of 1.001. VIF score of 5 and above is of concern. All the VIFs are below 5 so there is no high degree of multicollinearity present and all the 3 features can be used."
      ],
      "metadata": {
        "id": "j6RXH2vN18dl"
      }
    },
    {
      "cell_type": "code",
      "source": [
        "#creating polynomial regressions of different degrees\n",
        "degrees = [2, 3, 4, 5, 6]\n",
        "for x in degrees:  \n",
        "  X = df_home_away[['home_rank', 'away_rank', 'tournament_types']].values\n",
        "  y = df_home_away['home_score'].values\n",
        "  #instance of polynomialfeatures\n",
        "  poly_reg = PolynomialFeatures(degree = x, include_bias=False) \n",
        "\n",
        "  #creating new features\n",
        "  X_poly = poly_reg.fit_transform(X)\n",
        "  #splitting to train and test\n",
        "  X_train, X_test, y_train, y_test = train_test_split(X_poly, y, test_size=0.2, random_state=0)\n",
        "\n",
        "  #instance of linear regression\n",
        "  pol_reg_model = LinearRegression()\n",
        "  pol_reg_model.fit(X_train, y_train)\n",
        "\n",
        "  #predicted\n",
        "  pol_reg_predicted = pol_reg_model.predict(X_test)\n",
        "\n",
        "  predicted_int = []\n",
        "\n",
        "  for y in pol_reg_predicted:\n",
        "    predicted_int.append(int(y)) \n",
        "\n",
        "  #rmse\n",
        "  from sklearn import metrics\n",
        "  pol_reg_rmse = np.sqrt(metrics.mean_squared_error(y_test, predicted_int))\n",
        "  # rmses.append(f'Degrees: {x}, RMSE: {pol_reg_rmse}')\n",
        "  print(f'Degrees: {x}, RMSE: {pol_reg_rmse}')"
      ],
      "metadata": {
        "colab": {
          "base_uri": "https://localhost:8080/"
        },
        "id": "5pDJ8vmeu8vg",
        "outputId": "bd37d72e-a35a-4650-85a6-212ccfd5e76f"
      },
      "execution_count": null,
      "outputs": [
        {
          "output_type": "stream",
          "name": "stdout",
          "text": [
            "Degrees: 2, RMSE: 1.5169401612649147\n",
            "Degrees: 3, RMSE: 1.5063469432501564\n",
            "Degrees: 4, RMSE: 1.5076379419551458\n",
            "Degrees: 5, RMSE: 1.513977577561067\n",
            "Degrees: 6, RMSE: 1.5155583428860169\n"
          ]
        }
      ]
    },
    {
      "cell_type": "markdown",
      "source": [
        "Using a model with 3 degrees compared to other degrees in the range 2-6 produces the lowest RMSE(root mean squared error) at 1.506. The RMSE is relatively high so the model is not as accurate but can make a number of decent predictions."
      ],
      "metadata": {
        "id": "1VFd8rm8wGz5"
      }
    },
    {
      "cell_type": "code",
      "source": [
        "# dictn = {\n",
        "#     'actual': y_test,\n",
        "#     'predicted': predicted_int\n",
        "# }\n",
        "# pd.DataFrame.from_dict(dictn).head()"
      ],
      "metadata": {
        "id": "RsKGgRyUwEqr"
      },
      "execution_count": null,
      "outputs": []
    },
    {
      "cell_type": "code",
      "source": [
        "#assessing the heteroscedasticity\n",
        "#using the model with 3 degrees of polynomial as it had lowest RMSE.\n",
        "\n",
        "X = df_home_away[['home_rank', 'away_rank', 'tournament_types']].values\n",
        "y = df_home_away['home_score'].values\n",
        "#instance of polynomialfeatures\n",
        "poly_reg = PolynomialFeatures(degree = 3, include_bias=False) \n",
        "\n",
        "#creating new features\n",
        "X_poly = poly_reg.fit_transform(X)\n",
        "\n",
        "X_train, X_test, y_train, y_test = train_test_split(X_poly, y, test_size=0.2, random_state=0)\n",
        "\n",
        "#instance of linear regression\n",
        "pol_reg_model = LinearRegression()\n",
        "pol_reg_model.fit(X_train, y_train)\n",
        "\n",
        "# The prediction for based on the model\n",
        "pol_reg_predicted = pol_reg_model.predict(X_test)\n",
        "\n",
        "predicted_int = []\n",
        "\n",
        "for y in pol_reg_predicted:\n",
        "  predicted_int.append(int(y)) \n",
        "\n",
        "# Creating the residual by substracting the test value from the predicted \n",
        "# value for each row in the test dataset\n",
        "\n",
        "residuals = np.subtract(predicted_int, y_test)\n",
        "\n",
        "import matplotlib.pyplot as plt\n",
        "\n",
        "plt.scatter(predicted_int, residuals, color='black')\n",
        "plt.ylabel('residual')\n",
        "plt.xlabel('fitted values')\n",
        "plt.axhline(y= residuals.mean(), color='red', linewidth=1)\n",
        "plt.show()"
      ],
      "metadata": {
        "colab": {
          "base_uri": "https://localhost:8080/",
          "height": 279
        },
        "id": "PH8UxQWAzpoB",
        "outputId": "15d30c67-8b32-44fb-9cbc-71fae9926878"
      },
      "execution_count": null,
      "outputs": [
        {
          "output_type": "display_data",
          "data": {
            "text/plain": [
              "<Figure size 432x288 with 1 Axes>"
            ],
            "image/png": "[encoded data removed]"
          },
          "metadata": {
            "needs_background": "light"
          }
        }
      ]
    },
    {
      "cell_type": "markdown",
      "source": [
        "residuals are centered around a mean that is close to 0, with some outliers"
      ],
      "metadata": {
        "id": "uNtlGTTJ8qeu"
      }
    },
    {
      "cell_type": "code",
      "source": [
        "#assessing heteroscedasticity using Barlett's test\n",
        "import scipy as sp\n",
        "\n",
        "test_result, p_value = sp.stats.bartlett(predicted_int, residuals)\n",
        "\n",
        "\n",
        "# If the pvalue is less than the significance level of 0.05, then the null\n",
        "# hypothesis is rejected - the variance is different for at least one pair of datapoints\n",
        "\n",
        "# Otherwise the null hypothesis that \n",
        "# the variance is homogeneous across the data\n",
        "\n",
        "#using significance level of 0.05:\n",
        "if (p_value < 0.05 ):\n",
        "  print('the variance is different for at least one pair of datapoints')\n",
        "else:\n",
        "  print('the variances are homogeneous across the data')\n"
      ],
      "metadata": {
        "colab": {
          "base_uri": "https://localhost:8080/"
        },
        "id": "yjjsGcJy5vZ8",
        "outputId": "56373c1a-42eb-4cf5-e49c-6fb6fd81dd11"
      },
      "execution_count": null,
      "outputs": [
        {
          "output_type": "stream",
          "name": "stdout",
          "text": [
            "the variance is different for at least one pair of datapoints\n"
          ]
        }
      ]
    },
    {
      "cell_type": "markdown",
      "source": [
        "###### Challenging the solution"
      ],
      "metadata": {
        "id": "n5TFYq8Q_gKC"
      }
    },
    {
      "cell_type": "code",
      "source": [
        "#challenging the solution with k-fold cross validation to see if model with lower RMSE can\n",
        "# be obtained. Had selected model with polynomial degree of 3, whose RMSE was 1.506.\n",
        "\n",
        "folds = KFold(n_splits=10)\n",
        "\n",
        "\n",
        "print(str(folds.get_n_splits(X)) + ' folds are being used')\n",
        "\n",
        "# create and assess 10 models based on the folds .\n",
        "RMSES = [] # to keep track of the RSME of each model\n",
        "count = 1  #count of training model\n",
        "\n",
        "for train_index, test_index in folds.split(X):\n",
        "    print('\\nTraining model ' + str(count))\n",
        "    X = df_home_away[['home_rank', 'away_rank', 'tournament_types']].values\n",
        "    y = df_home_away['home_score'].values\n",
        "    #instance of polynomialfeatures\n",
        "    \n",
        "    poly_reg = PolynomialFeatures(degree = 3, include_bias=False) \n",
        "\n",
        "    #creating new features\n",
        "    X_poly = poly_reg.fit_transform(X)\n",
        "\n",
        "    # set up the train and test based on the split determined by KFold\n",
        "    X_train, X_test = X_poly[train_index], X_poly[test_index]\n",
        "    y_train, y_test = y[train_index], y[test_index]\n",
        "\n",
        "    #instance of linear regression\n",
        "    pol_reg_model = LinearRegression()\n",
        "    pol_reg_model.fit(X_train, y_train)\n",
        "\n",
        "    #predicting\n",
        "    pol_reg_predicted = pol_reg_model.predict(X_test)\n",
        "\n",
        "    predicted_int = []\n",
        "\n",
        "    for y in pol_reg_predicted:\n",
        "      predicted_int.append(int(y)) \n",
        "\n",
        "    #rmse/evaluating\n",
        "    from sklearn import metrics\n",
        "    pol_reg_rmse = np.sqrt(metrics.mean_squared_error(y_test, predicted_int))\n",
        "    RMSES.append(pol_reg_rmse)\n",
        "    print(f'RMSE: {pol_reg_rmse}')\n",
        "    count+=1\n",
        "\n",
        "\n",
        "print(f'\\nMinimum RMSE: {np.min(RMSES)}')"
      ],
      "metadata": {
        "colab": {
          "base_uri": "https://localhost:8080/"
        },
        "id": "swo8B-R_qsAA",
        "outputId": "6dc86d41-ba82-4aa5-bb74-58266dca7317"
      },
      "execution_count": null,
      "outputs": [
        {
          "output_type": "stream",
          "name": "stdout",
          "text": [
            "10 folds are being used\n",
            "\n",
            "Training model 1\n",
            "RMSE: 1.4836027767842264\n",
            "\n",
            "Training model 2\n",
            "RMSE: 1.7275533146092696\n",
            "\n",
            "Training model 3\n",
            "RMSE: 1.8227894394346984\n",
            "\n",
            "Training model 4\n",
            "RMSE: 1.5273293322947255\n",
            "\n",
            "Training model 5\n",
            "RMSE: 1.4306315342625253\n",
            "\n",
            "Training model 6\n",
            "RMSE: 1.4680224182073247\n",
            "\n",
            "Training model 7\n",
            "RMSE: 1.4518210740782505\n",
            "\n",
            "Training model 8\n",
            "RMSE: 1.412942739685067\n",
            "\n",
            "Training model 9\n",
            "RMSE: 1.3842570804119654\n",
            "\n",
            "Training model 10\n",
            "RMSE: 1.4418883161214895\n",
            "\n",
            "Minimum RMSE: 1.3842570804119654\n"
          ]
        }
      ]
    },
    {
      "cell_type": "markdown",
      "source": [
        "Using 10-fold cross validation a model with an RMSE of 1.384 (model 9) was obtained, which is lower than the RMSE with a single train-test-split method (1.506). A better model was therefor identified using k-fold cross validation."
      ],
      "metadata": {
        "id": "0NKG-DpxCwSN"
      }
    },
    {
      "cell_type": "markdown",
      "source": [
        "##### Predict how many goals the away team scores."
      ],
      "metadata": {
        "id": "ioEfPi2h0WHY"
      }
    },
    {
      "cell_type": "code",
      "source": [
        "df_home_away['away_score'].describe()"
      ],
      "metadata": {
        "colab": {
          "base_uri": "https://localhost:8080/"
        },
        "outputId": "fa24134a-86d1-40c3-cdfd-b68613f19a81",
        "id": "XjSmUSICDrhT"
      },
      "execution_count": null,
      "outputs": [
        {
          "output_type": "execute_result",
          "data": {
            "text/plain": [
              "count    16704.000000\n",
              "mean         1.068307\n",
              "std          1.247666\n",
              "min          0.000000\n",
              "25%          0.000000\n",
              "50%          1.000000\n",
              "75%          2.000000\n",
              "max         15.000000\n",
              "Name: away_score, dtype: float64"
            ]
          },
          "metadata": {},
          "execution_count": 148
        }
      ]
    },
    {
      "cell_type": "code",
      "source": [
        "#correlation matrix to be used for multicollinearity VIF check\n",
        "correlations = df_home_away[['home_rank', 'away_rank', 'tournament_types']].corr()\n",
        "correlations"
      ],
      "metadata": {
        "colab": {
          "base_uri": "https://localhost:8080/",
          "height": 143
        },
        "outputId": "eefdcfab-b7af-4221-d902-205c2d67c9fb",
        "id": "FVGhrQb-DrhV"
      },
      "execution_count": null,
      "outputs": [
        {
          "output_type": "execute_result",
          "data": {
            "text/plain": [
              "                  home_rank  away_rank  tournament_types\n",
              "home_rank          1.000000   0.468256          0.034596\n",
              "away_rank          0.468256   1.000000          0.025961\n",
              "tournament_types   0.034596   0.025961          1.000000"
            ],
            "text/html": [
              "\n",
              "  <div id=\"df-6385fe44-400b-41bb-9ab6-d4dfe0282c40\">\n",
              "    <div class=\"colab-df-container\">\n",
              "      <div>\n",
              "<style scoped>\n",
              "    .dataframe tbody tr th:only-of-type {\n",
              "        vertical-align: middle;\n",
              "    }\n",
              "\n",
              "    .dataframe tbody tr th {\n",
              "        vertical-align: top;\n",
              "    }\n",
              "\n",
              "    .dataframe thead th {\n",
              "        text-align: right;\n",
              "    }\n",
              "</style>\n",
              "<table border=\"1\" class=\"dataframe\">\n",
              "  <thead>\n",
              "    <tr style=\"text-align: right;\">\n",
              "      <th></th>\n",
              "      <th>home_rank</th>\n",
              "      <th>away_rank</th>\n",
              "      <th>tournament_types</th>\n",
              "    </tr>\n",
              "  </thead>\n",
              "  <tbody>\n",
              "    <tr>\n",
              "      <th>home_rank</th>\n",
              "      <td>1.000000</td>\n",
              "      <td>0.468256</td>\n",
              "      <td>0.034596</td>\n",
              "    </tr>\n",
              "    <tr>\n",
              "      <th>away_rank</th>\n",
              "      <td>0.468256</td>\n",
              "      <td>1.000000</td>\n",
              "      <td>0.025961</td>\n",
              "    </tr>\n",
              "    <tr>\n",
              "      <th>tournament_types</th>\n",
              "      <td>0.034596</td>\n",
              "      <td>0.025961</td>\n",
              "      <td>1.000000</td>\n",
              "    </tr>\n",
              "  </tbody>\n",
              "</table>\n",
              "</div>\n",
              "      <button class=\"colab-df-convert\" onclick=\"convertToInteractive('df-6385fe44-400b-41bb-9ab6-d4dfe0282c40')\"\n",
              "              title=\"Convert this dataframe to an interactive table.\"\n",
              "              style=\"display:none;\">\n",
              "        \n",
              "  <svg xmlns=\"http://www.w3.org/2000/svg\" height=\"24px\"viewBox=\"0 0 24 24\"\n",
              "       width=\"24px\">\n",
              "    <path d=\"M0 0h24v24H0V0z\" fill=\"none\"/>\n",
              "    <path d=\"M18.56 5.44l.94 2.06.94-2.06 2.06-.94-2.06-.94-.94-2.06-.94 2.06-2.06.94zm-11 1L8.5 8.5l.94-2.06 2.06-.94-2.06-.94L8.5 2.5l-.94 2.06-2.06.94zm10 10l.94 2.06.94-2.06 2.06-.94-2.06-.94-.94-2.06-.94 2.06-2.06.94z\"/><path d=\"M17.41 7.96l-1.37-1.37c-.4-.4-.92-.59-1.43-.59-.52 0-1.04.2-1.43.59L10.3 9.45l-7.72 7.72c-.78.78-.78 2.05 0 2.83L4 21.41c.39.39.9.59 1.41.59.51 0 1.02-.2 1.41-.59l7.78-7.78 2.81-2.81c.8-.78.8-2.07 0-2.86zM5.41 20L4 18.59l7.72-7.72 1.47 1.35L5.41 20z\"/>\n",
              "  </svg>\n",
              "      </button>\n",
              "      \n",
              "  <style>\n",
              "    .colab-df-container {\n",
              "      display:flex;\n",
              "      flex-wrap:wrap;\n",
              "      gap: 12px;\n",
              "    }\n",
              "\n",
              "    .colab-df-convert {\n",
              "      background-color: #E8F0FE;\n",
              "      border: none;\n",
              "      border-radius: 50%;\n",
              "      cursor: pointer;\n",
              "      display: none;\n",
              "      fill: #1967D2;\n",
              "      height: 32px;\n",
              "      padding: 0 0 0 0;\n",
              "      width: 32px;\n",
              "    }\n",
              "\n",
              "    .colab-df-convert:hover {\n",
              "      background-color: #E2EBFA;\n",
              "      box-shadow: 0px 1px 2px rgba(60, 64, 67, 0.3), 0px 1px 3px 1px rgba(60, 64, 67, 0.15);\n",
              "      fill: #174EA6;\n",
              "    }\n",
              "\n",
              "    [theme=dark] .colab-df-convert {\n",
              "      background-color: #3B4455;\n",
              "      fill: #D2E3FC;\n",
              "    }\n",
              "\n",
              "    [theme=dark] .colab-df-convert:hover {\n",
              "      background-color: #434B5C;\n",
              "      box-shadow: 0px 1px 3px 1px rgba(0, 0, 0, 0.15);\n",
              "      filter: drop-shadow(0px 1px 2px rgba(0, 0, 0, 0.3));\n",
              "      fill: #FFFFFF;\n",
              "    }\n",
              "  </style>\n",
              "\n",
              "      <script>\n",
              "        const buttonEl =\n",
              "          document.querySelector('#df-6385fe44-400b-41bb-9ab6-d4dfe0282c40 button.colab-df-convert');\n",
              "        buttonEl.style.display =\n",
              "          google.colab.kernel.accessAllowed ? 'block' : 'none';\n",
              "\n",
              "        async function convertToInteractive(key) {\n",
              "          const element = document.querySelector('#df-6385fe44-400b-41bb-9ab6-d4dfe0282c40');\n",
              "          const dataTable =\n",
              "            await google.colab.kernel.invokeFunction('convertToInteractive',\n",
              "                                                     [key], {});\n",
              "          if (!dataTable) return;\n",
              "\n",
              "          const docLinkHtml = 'Like what you see? Visit the ' +\n",
              "            '<a target=\"_blank\" href=https://colab.research.google.com/notebooks/data_table.ipynb>data table notebook</a>'\n",
              "            + ' to learn more about interactive tables.';\n",
              "          element.innerHTML = '';\n",
              "          dataTable['output_type'] = 'display_data';\n",
              "          await google.colab.output.renderOutput(dataTable, element);\n",
              "          const docLink = document.createElement('div');\n",
              "          docLink.innerHTML = docLinkHtml;\n",
              "          element.appendChild(docLink);\n",
              "        }\n",
              "      </script>\n",
              "    </div>\n",
              "  </div>\n",
              "  "
            ]
          },
          "metadata": {},
          "execution_count": 151
        }
      ]
    },
    {
      "cell_type": "code",
      "source": [
        "#checking for multicollinearity\n",
        "# creating a new dataframe with the inverse of the matrix above to interprete VIF from diagonal\n",
        "pd.DataFrame(np.linalg.inv(correlations.values), index = correlations.index, columns=correlations.columns)"
      ],
      "metadata": {
        "colab": {
          "base_uri": "https://localhost:8080/",
          "height": 143
        },
        "outputId": "e322d0f8-ae13-4aff-91bc-ceda3d9a3174",
        "id": "LwQO5bfIDrhW"
      },
      "execution_count": null,
      "outputs": [
        {
          "output_type": "execute_result",
          "data": {
            "text/plain": [
              "                  home_rank  away_rank  tournament_types\n",
              "home_rank          1.281669  -0.599402         -0.028779\n",
              "away_rank         -0.599402   1.280999         -0.012519\n",
              "tournament_types  -0.028779  -0.012519          1.001321"
            ],
            "text/html": [
              "\n",
              "  <div id=\"df-734f323c-6629-48be-83d6-a6f6bb5aa003\">\n",
              "    <div class=\"colab-df-container\">\n",
              "      <div>\n",
              "<style scoped>\n",
              "    .dataframe tbody tr th:only-of-type {\n",
              "        vertical-align: middle;\n",
              "    }\n",
              "\n",
              "    .dataframe tbody tr th {\n",
              "        vertical-align: top;\n",
              "    }\n",
              "\n",
              "    .dataframe thead th {\n",
              "        text-align: right;\n",
              "    }\n",
              "</style>\n",
              "<table border=\"1\" class=\"dataframe\">\n",
              "  <thead>\n",
              "    <tr style=\"text-align: right;\">\n",
              "      <th></th>\n",
              "      <th>home_rank</th>\n",
              "      <th>away_rank</th>\n",
              "      <th>tournament_types</th>\n",
              "    </tr>\n",
              "  </thead>\n",
              "  <tbody>\n",
              "    <tr>\n",
              "      <th>home_rank</th>\n",
              "      <td>1.281669</td>\n",
              "      <td>-0.599402</td>\n",
              "      <td>-0.028779</td>\n",
              "    </tr>\n",
              "    <tr>\n",
              "      <th>away_rank</th>\n",
              "      <td>-0.599402</td>\n",
              "      <td>1.280999</td>\n",
              "      <td>-0.012519</td>\n",
              "    </tr>\n",
              "    <tr>\n",
              "      <th>tournament_types</th>\n",
              "      <td>-0.028779</td>\n",
              "      <td>-0.012519</td>\n",
              "      <td>1.001321</td>\n",
              "    </tr>\n",
              "  </tbody>\n",
              "</table>\n",
              "</div>\n",
              "      <button class=\"colab-df-convert\" onclick=\"convertToInteractive('df-734f323c-6629-48be-83d6-a6f6bb5aa003')\"\n",
              "              title=\"Convert this dataframe to an interactive table.\"\n",
              "              style=\"display:none;\">\n",
              "        \n",
              "  <svg xmlns=\"http://www.w3.org/2000/svg\" height=\"24px\"viewBox=\"0 0 24 24\"\n",
              "       width=\"24px\">\n",
              "    <path d=\"M0 0h24v24H0V0z\" fill=\"none\"/>\n",
              "    <path d=\"M18.56 5.44l.94 2.06.94-2.06 2.06-.94-2.06-.94-.94-2.06-.94 2.06-2.06.94zm-11 1L8.5 8.5l.94-2.06 2.06-.94-2.06-.94L8.5 2.5l-.94 2.06-2.06.94zm10 10l.94 2.06.94-2.06 2.06-.94-2.06-.94-.94-2.06-.94 2.06-2.06.94z\"/><path d=\"M17.41 7.96l-1.37-1.37c-.4-.4-.92-.59-1.43-.59-.52 0-1.04.2-1.43.59L10.3 9.45l-7.72 7.72c-.78.78-.78 2.05 0 2.83L4 21.41c.39.39.9.59 1.41.59.51 0 1.02-.2 1.41-.59l7.78-7.78 2.81-2.81c.8-.78.8-2.07 0-2.86zM5.41 20L4 18.59l7.72-7.72 1.47 1.35L5.41 20z\"/>\n",
              "  </svg>\n",
              "      </button>\n",
              "      \n",
              "  <style>\n",
              "    .colab-df-container {\n",
              "      display:flex;\n",
              "      flex-wrap:wrap;\n",
              "      gap: 12px;\n",
              "    }\n",
              "\n",
              "    .colab-df-convert {\n",
              "      background-color: #E8F0FE;\n",
              "      border: none;\n",
              "      border-radius: 50%;\n",
              "      cursor: pointer;\n",
              "      display: none;\n",
              "      fill: #1967D2;\n",
              "      height: 32px;\n",
              "      padding: 0 0 0 0;\n",
              "      width: 32px;\n",
              "    }\n",
              "\n",
              "    .colab-df-convert:hover {\n",
              "      background-color: #E2EBFA;\n",
              "      box-shadow: 0px 1px 2px rgba(60, 64, 67, 0.3), 0px 1px 3px 1px rgba(60, 64, 67, 0.15);\n",
              "      fill: #174EA6;\n",
              "    }\n",
              "\n",
              "    [theme=dark] .colab-df-convert {\n",
              "      background-color: #3B4455;\n",
              "      fill: #D2E3FC;\n",
              "    }\n",
              "\n",
              "    [theme=dark] .colab-df-convert:hover {\n",
              "      background-color: #434B5C;\n",
              "      box-shadow: 0px 1px 3px 1px rgba(0, 0, 0, 0.15);\n",
              "      filter: drop-shadow(0px 1px 2px rgba(0, 0, 0, 0.3));\n",
              "      fill: #FFFFFF;\n",
              "    }\n",
              "  </style>\n",
              "\n",
              "      <script>\n",
              "        const buttonEl =\n",
              "          document.querySelector('#df-734f323c-6629-48be-83d6-a6f6bb5aa003 button.colab-df-convert');\n",
              "        buttonEl.style.display =\n",
              "          google.colab.kernel.accessAllowed ? 'block' : 'none';\n",
              "\n",
              "        async function convertToInteractive(key) {\n",
              "          const element = document.querySelector('#df-734f323c-6629-48be-83d6-a6f6bb5aa003');\n",
              "          const dataTable =\n",
              "            await google.colab.kernel.invokeFunction('convertToInteractive',\n",
              "                                                     [key], {});\n",
              "          if (!dataTable) return;\n",
              "\n",
              "          const docLinkHtml = 'Like what you see? Visit the ' +\n",
              "            '<a target=\"_blank\" href=https://colab.research.google.com/notebooks/data_table.ipynb>data table notebook</a>'\n",
              "            + ' to learn more about interactive tables.';\n",
              "          element.innerHTML = '';\n",
              "          dataTable['output_type'] = 'display_data';\n",
              "          await google.colab.output.renderOutput(dataTable, element);\n",
              "          const docLink = document.createElement('div');\n",
              "          docLink.innerHTML = docLinkHtml;\n",
              "          element.appendChild(docLink);\n",
              "        }\n",
              "      </script>\n",
              "    </div>\n",
              "  </div>\n",
              "  "
            ]
          },
          "metadata": {},
          "execution_count": 152
        }
      ]
    },
    {
      "cell_type": "markdown",
      "source": [
        "The VIF (variance inflation factor) score for each variable is found alongside the downwards sloping diagonal. Home rank has a score of 1.282, away_rank has a score of 1.281, tournament types a score of 1.001. VIF score of 5 and above is of concern. All the VIFs are below 5 so there is no high degree of multicollinearity present and all the 3 features can be used."
      ],
      "metadata": {
        "id": "2cGRwePgDrhY"
      }
    },
    {
      "cell_type": "code",
      "source": [
        "#creating polynomial regressions of different degrees\n",
        "degrees = [2, 3, 4, 5, 6]\n",
        "for x in degrees:  \n",
        "  X = df_home_away[['home_rank', 'away_rank', 'tournament_types']].values\n",
        "  y = df_home_away['away_score'].values\n",
        "  #instance of polynomialfeatures\n",
        "  poly_reg = PolynomialFeatures(degree = x, include_bias=False) \n",
        "\n",
        "  #creating new features\n",
        "  X_poly = poly_reg.fit_transform(X)\n",
        "  #splitting to train and test\n",
        "  X_train, X_test, y_train, y_test = train_test_split(X_poly, y, test_size=0.2, random_state=0)\n",
        "\n",
        "  #instance of linear regression\n",
        "  pol_reg_model = LinearRegression()\n",
        "  pol_reg_model.fit(X_train, y_train)\n",
        "\n",
        "  #predicted\n",
        "  pol_reg_predicted = pol_reg_model.predict(X_test)\n",
        "\n",
        "  predicted_int = []\n",
        "\n",
        "  for y in pol_reg_predicted:\n",
        "    predicted_int.append(int(y)) \n",
        "\n",
        "  #rmse\n",
        "  from sklearn import metrics\n",
        "  pol_reg_rmse = np.sqrt(metrics.mean_squared_error(y_test, predicted_int))\n",
        "  # rmses.append(f'Degrees: {x}, RMSE: {pol_reg_rmse}')\n",
        "  print(f'Degrees: {x}, RMSE: {pol_reg_rmse}')"
      ],
      "metadata": {
        "colab": {
          "base_uri": "https://localhost:8080/"
        },
        "outputId": "6e1848a2-84ce-487e-97a3-ac6b3e0760da",
        "id": "OtuLkIQVDrhZ"
      },
      "execution_count": null,
      "outputs": [
        {
          "output_type": "stream",
          "name": "stdout",
          "text": [
            "Degrees: 2, RMSE: 1.2469657876406408\n",
            "Degrees: 3, RMSE: 1.2461253927525655\n",
            "Degrees: 4, RMSE: 1.2487647293612267\n",
            "Degrees: 5, RMSE: 1.2460052900687772\n",
            "Degrees: 6, RMSE: 1.247685675579548\n"
          ]
        }
      ]
    },
    {
      "cell_type": "code",
      "source": [
        "#some comparisons of actual vs predicted away scores with 5 degree polynomial (lowest RMSE)\n",
        "\n",
        "X = df_home_away[['home_rank', 'away_rank', 'tournament_types']].values\n",
        "y = df_home_away['away_score'].values\n",
        "#instance of polynomialfeatures\n",
        "poly_reg = PolynomialFeatures(degree = 5, include_bias=False) \n",
        "\n",
        "#creating new features\n",
        "X_poly = poly_reg.fit_transform(X)\n",
        "\n",
        "X_train, X_test, y_train, y_test = train_test_split(X_poly, y, test_size=0.2, random_state=0)\n",
        "\n",
        "#instance of linear regression\n",
        "pol_reg_model = LinearRegression()\n",
        "pol_reg_model.fit(X_train, y_train)\n",
        "\n",
        "# The prediction for based on the model\n",
        "pol_reg_predicted = pol_reg_model.predict(X_test)\n",
        "\n",
        "predicted_int = []\n",
        "\n",
        "for y in pol_reg_predicted:\n",
        "  predicted_int.append(int(y)) \n",
        "\n",
        "dictn = {\n",
        "    'actual': y_test,\n",
        "    'predicted': predicted_int\n",
        "}\n",
        "pd.DataFrame.from_dict(dictn).head()"
      ],
      "metadata": {
        "colab": {
          "base_uri": "https://localhost:8080/",
          "height": 206
        },
        "id": "xK8Zs0UsDrhb",
        "outputId": "31eee3b2-df0c-40c1-fe74-891395a6cd55"
      },
      "execution_count": null,
      "outputs": [
        {
          "output_type": "execute_result",
          "data": {
            "text/plain": [
              "   actual  predicted\n",
              "0       1          0\n",
              "1       2          1\n",
              "2       0          0\n",
              "3       0          0\n",
              "4       1          1"
            ],
            "text/html": [
              "\n",
              "  <div id=\"df-2b332b23-9c2d-4cc3-9377-e5b8e0b62530\">\n",
              "    <div class=\"colab-df-container\">\n",
              "      <div>\n",
              "<style scoped>\n",
              "    .dataframe tbody tr th:only-of-type {\n",
              "        vertical-align: middle;\n",
              "    }\n",
              "\n",
              "    .dataframe tbody tr th {\n",
              "        vertical-align: top;\n",
              "    }\n",
              "\n",
              "    .dataframe thead th {\n",
              "        text-align: right;\n",
              "    }\n",
              "</style>\n",
              "<table border=\"1\" class=\"dataframe\">\n",
              "  <thead>\n",
              "    <tr style=\"text-align: right;\">\n",
              "      <th></th>\n",
              "      <th>actual</th>\n",
              "      <th>predicted</th>\n",
              "    </tr>\n",
              "  </thead>\n",
              "  <tbody>\n",
              "    <tr>\n",
              "      <th>0</th>\n",
              "      <td>1</td>\n",
              "      <td>0</td>\n",
              "    </tr>\n",
              "    <tr>\n",
              "      <th>1</th>\n",
              "      <td>2</td>\n",
              "      <td>1</td>\n",
              "    </tr>\n",
              "    <tr>\n",
              "      <th>2</th>\n",
              "      <td>0</td>\n",
              "      <td>0</td>\n",
              "    </tr>\n",
              "    <tr>\n",
              "      <th>3</th>\n",
              "      <td>0</td>\n",
              "      <td>0</td>\n",
              "    </tr>\n",
              "    <tr>\n",
              "      <th>4</th>\n",
              "      <td>1</td>\n",
              "      <td>1</td>\n",
              "    </tr>\n",
              "  </tbody>\n",
              "</table>\n",
              "</div>\n",
              "      <button class=\"colab-df-convert\" onclick=\"convertToInteractive('df-2b332b23-9c2d-4cc3-9377-e5b8e0b62530')\"\n",
              "              title=\"Convert this dataframe to an interactive table.\"\n",
              "              style=\"display:none;\">\n",
              "        \n",
              "  <svg xmlns=\"http://www.w3.org/2000/svg\" height=\"24px\"viewBox=\"0 0 24 24\"\n",
              "       width=\"24px\">\n",
              "    <path d=\"M0 0h24v24H0V0z\" fill=\"none\"/>\n",
              "    <path d=\"M18.56 5.44l.94 2.06.94-2.06 2.06-.94-2.06-.94-.94-2.06-.94 2.06-2.06.94zm-11 1L8.5 8.5l.94-2.06 2.06-.94-2.06-.94L8.5 2.5l-.94 2.06-2.06.94zm10 10l.94 2.06.94-2.06 2.06-.94-2.06-.94-.94-2.06-.94 2.06-2.06.94z\"/><path d=\"M17.41 7.96l-1.37-1.37c-.4-.4-.92-.59-1.43-.59-.52 0-1.04.2-1.43.59L10.3 9.45l-7.72 7.72c-.78.78-.78 2.05 0 2.83L4 21.41c.39.39.9.59 1.41.59.51 0 1.02-.2 1.41-.59l7.78-7.78 2.81-2.81c.8-.78.8-2.07 0-2.86zM5.41 20L4 18.59l7.72-7.72 1.47 1.35L5.41 20z\"/>\n",
              "  </svg>\n",
              "      </button>\n",
              "      \n",
              "  <style>\n",
              "    .colab-df-container {\n",
              "      display:flex;\n",
              "      flex-wrap:wrap;\n",
              "      gap: 12px;\n",
              "    }\n",
              "\n",
              "    .colab-df-convert {\n",
              "      background-color: #E8F0FE;\n",
              "      border: none;\n",
              "      border-radius: 50%;\n",
              "      cursor: pointer;\n",
              "      display: none;\n",
              "      fill: #1967D2;\n",
              "      height: 32px;\n",
              "      padding: 0 0 0 0;\n",
              "      width: 32px;\n",
              "    }\n",
              "\n",
              "    .colab-df-convert:hover {\n",
              "      background-color: #E2EBFA;\n",
              "      box-shadow: 0px 1px 2px rgba(60, 64, 67, 0.3), 0px 1px 3px 1px rgba(60, 64, 67, 0.15);\n",
              "      fill: #174EA6;\n",
              "    }\n",
              "\n",
              "    [theme=dark] .colab-df-convert {\n",
              "      background-color: #3B4455;\n",
              "      fill: #D2E3FC;\n",
              "    }\n",
              "\n",
              "    [theme=dark] .colab-df-convert:hover {\n",
              "      background-color: #434B5C;\n",
              "      box-shadow: 0px 1px 3px 1px rgba(0, 0, 0, 0.15);\n",
              "      filter: drop-shadow(0px 1px 2px rgba(0, 0, 0, 0.3));\n",
              "      fill: #FFFFFF;\n",
              "    }\n",
              "  </style>\n",
              "\n",
              "      <script>\n",
              "        const buttonEl =\n",
              "          document.querySelector('#df-2b332b23-9c2d-4cc3-9377-e5b8e0b62530 button.colab-df-convert');\n",
              "        buttonEl.style.display =\n",
              "          google.colab.kernel.accessAllowed ? 'block' : 'none';\n",
              "\n",
              "        async function convertToInteractive(key) {\n",
              "          const element = document.querySelector('#df-2b332b23-9c2d-4cc3-9377-e5b8e0b62530');\n",
              "          const dataTable =\n",
              "            await google.colab.kernel.invokeFunction('convertToInteractive',\n",
              "                                                     [key], {});\n",
              "          if (!dataTable) return;\n",
              "\n",
              "          const docLinkHtml = 'Like what you see? Visit the ' +\n",
              "            '<a target=\"_blank\" href=https://colab.research.google.com/notebooks/data_table.ipynb>data table notebook</a>'\n",
              "            + ' to learn more about interactive tables.';\n",
              "          element.innerHTML = '';\n",
              "          dataTable['output_type'] = 'display_data';\n",
              "          await google.colab.output.renderOutput(dataTable, element);\n",
              "          const docLink = document.createElement('div');\n",
              "          docLink.innerHTML = docLinkHtml;\n",
              "          element.appendChild(docLink);\n",
              "        }\n",
              "      </script>\n",
              "    </div>\n",
              "  </div>\n",
              "  "
            ]
          },
          "metadata": {},
          "execution_count": 158
        }
      ]
    },
    {
      "cell_type": "markdown",
      "source": [
        "Using a model with 5 degrees compared to other degrees in the range 2-6 produces the lowest RMSE(root mean squared error) at 1.2460. The RMSE is relatively high so the model is not as accurate but can make a number of decent predictions."
      ],
      "metadata": {
        "id": "d8ZIwdQ2Drha"
      }
    },
    {
      "cell_type": "code",
      "source": [
        "#assessing the heteroscedasticity\n",
        "#using the model with 5 degrees of polynomial as it had lowest RMSE.\n",
        "\n",
        "X = df_home_away[['home_rank', 'away_rank', 'tournament_types']].values\n",
        "y = df_home_away['away_score'].values\n",
        "#instance of polynomialfeatures\n",
        "poly_reg = PolynomialFeatures(degree = 5, include_bias=False) \n",
        "\n",
        "#creating new features\n",
        "X_poly = poly_reg.fit_transform(X)\n",
        "\n",
        "X_train, X_test, y_train, y_test = train_test_split(X_poly, y, test_size=0.2, random_state=0)\n",
        "\n",
        "#instance of linear regression\n",
        "pol_reg_model = LinearRegression()\n",
        "pol_reg_model.fit(X_train, y_train)\n",
        "\n",
        "# The prediction for based on the model\n",
        "pol_reg_predicted = pol_reg_model.predict(X_test)\n",
        "\n",
        "predicted_int = []\n",
        "\n",
        "for y in pol_reg_predicted:\n",
        "  predicted_int.append(int(y)) \n",
        "\n",
        "# Creating the residual by substracting the test value from the predicted \n",
        "# value for each row in the test dataset\n",
        "\n",
        "residuals = np.subtract(predicted_int, y_test)\n",
        "\n",
        "import matplotlib.pyplot as plt\n",
        "\n",
        "plt.scatter(predicted_int, residuals, color='black')\n",
        "plt.ylabel('residual')\n",
        "plt.xlabel('fitted values')\n",
        "plt.axhline(y= residuals.mean(), color='red', linewidth=1)\n",
        "plt.show()"
      ],
      "metadata": {
        "colab": {
          "base_uri": "https://localhost:8080/",
          "height": 279
        },
        "outputId": "1de61279-c568-465c-8155-ec1d47193ef9",
        "id": "9gBsjbkBDrhb"
      },
      "execution_count": null,
      "outputs": [
        {
          "output_type": "display_data",
          "data": {
            "text/plain": [
              "<Figure size 432x288 with 1 Axes>"
            ],
            "image/png": "[encoded data removed]"
          },
          "metadata": {
            "needs_background": "light"
          }
        }
      ]
    },
    {
      "cell_type": "markdown",
      "source": [
        "residuals are centered around a mean that is close to 0, with some outliers"
      ],
      "metadata": {
        "id": "7fn6T5Y3Drhc"
      }
    },
    {
      "cell_type": "code",
      "source": [
        "#assessing heteroscedasticity using Barlett's test\n",
        "import scipy as sp\n",
        "\n",
        "test_result, p_value = sp.stats.bartlett(predicted_int, residuals)\n",
        "\n",
        "\n",
        "# If the pvalue is less than the significance level of 0.05, then the null\n",
        "# hypothesis is rejected - the variance is different for at least one pair of datapoints\n",
        "\n",
        "# Otherwise the null hypothesis that \n",
        "# the variance is homogeneous across the data\n",
        "\n",
        "#using significance level of 0.05:\n",
        "if (p_value < 0.05 ):\n",
        "  print('the variance is different for at least one pair of datapoints')\n",
        "else:\n",
        "  print('the variances are homogeneous across the data')\n"
      ],
      "metadata": {
        "colab": {
          "base_uri": "https://localhost:8080/"
        },
        "outputId": "d0cf0317-eef3-4c20-8a71-959e6825a946",
        "id": "eqic0pEIDrhe"
      },
      "execution_count": null,
      "outputs": [
        {
          "output_type": "stream",
          "name": "stdout",
          "text": [
            "the variance is different for at least one pair of datapoints\n"
          ]
        }
      ]
    },
    {
      "cell_type": "code",
      "source": [
        ""
      ],
      "metadata": {
        "id": "Cl7VC06VGOcg"
      },
      "execution_count": null,
      "outputs": []
    },
    {
      "cell_type": "markdown",
      "source": [
        "###### Challenging the solution"
      ],
      "metadata": {
        "id": "bYHQgC5rGO1o"
      }
    },
    {
      "cell_type": "code",
      "source": [
        "#challenging the solution with k-fold cross validation to see if model with lower RMSE can\n",
        "# be obtained. Had selected model with polynomial degree of 5, whose RMSE was 1.2460.\n",
        "\n",
        "folds = KFold(n_splits=10)\n",
        "\n",
        "\n",
        "print(str(folds.get_n_splits(X)) + ' folds are being used')\n",
        "\n",
        "# create and assess 10 models based on the folds .\n",
        "RMSES = [] # to keep track of the RSME of each model\n",
        "count = 1  #training model count\n",
        "\n",
        "for train_index, test_index in folds.split(X):\n",
        "    print('\\nTraining model ' + str(count))\n",
        "    X = df_home_away[['home_rank', 'away_rank', 'tournament_types']].values\n",
        "    y = df_home_away['away_score'].values\n",
        "    #instance of polynomialfeatures\n",
        "    \n",
        "    poly_reg = PolynomialFeatures(degree = 5, include_bias=False) \n",
        "\n",
        "    #creating new features\n",
        "    X_poly = poly_reg.fit_transform(X)\n",
        "\n",
        "    # set up the train and test based on the split determined by KFold\n",
        "    X_train, X_test = X_poly[train_index], X_poly[test_index]\n",
        "    y_train, y_test = y[train_index], y[test_index]\n",
        "\n",
        "    #instance of linear regression\n",
        "    pol_reg_model = LinearRegression()\n",
        "    pol_reg_model.fit(X_train, y_train)\n",
        "\n",
        "    #predicted\n",
        "    pol_reg_predicted = pol_reg_model.predict(X_test)\n",
        "\n",
        "    predicted_int = []\n",
        "\n",
        "    for y in pol_reg_predicted:\n",
        "      predicted_int.append(int(y)) \n",
        "\n",
        "    #rmse\n",
        "    from sklearn import metrics\n",
        "    pol_reg_rmse = np.sqrt(metrics.mean_squared_error(y_test, predicted_int))\n",
        "    RMSES.append(pol_reg_rmse)\n",
        "    print(f'RMSE: {pol_reg_rmse}')\n",
        "    count+=1\n",
        "\n",
        "\n",
        "print(f'\\nMinimum RMSE: {np.min(RMSES)}')"
      ],
      "metadata": {
        "colab": {
          "base_uri": "https://localhost:8080/"
        },
        "outputId": "5b61a0f5-ed5d-4dbd-d4a3-ed1234888eff",
        "id": "gFcBH_AbGO1p"
      },
      "execution_count": null,
      "outputs": [
        {
          "output_type": "stream",
          "name": "stdout",
          "text": [
            "10 folds are being used\n",
            "\n",
            "Training model 1\n",
            "RMSE: 1.292384358826567\n",
            "\n",
            "Training model 2\n",
            "RMSE: 1.2793531429564626\n",
            "\n",
            "Training model 3\n",
            "RMSE: 1.3392299295896868\n",
            "\n",
            "Training model 4\n",
            "RMSE: 1.2732576012771546\n",
            "\n",
            "Training model 5\n",
            "RMSE: 1.3170916972337787\n",
            "\n",
            "Training model 6\n",
            "RMSE: 1.3081961800544222\n",
            "\n",
            "Training model 7\n",
            "RMSE: 1.240050221119372\n",
            "\n",
            "Training model 8\n",
            "RMSE: 1.288363395754846\n",
            "\n",
            "Training model 9\n",
            "RMSE: 1.234727054131233\n",
            "\n",
            "Training model 10\n",
            "RMSE: 1.2320568460327987\n",
            "\n",
            "Minimum RMSE: 1.2320568460327987\n"
          ]
        }
      ]
    },
    {
      "cell_type": "markdown",
      "source": [
        "Using 10-fold cross validation a model with an RMSE of 1.2321 (model 10) was obtained, which is lower than the RMSE with initial train-test-split method (1.2460). A better model was therefor identified using k-fold cross validation."
      ],
      "metadata": {
        "id": "hg1xCm1_GO1w"
      }
    },
    {
      "cell_type": "markdown",
      "source": [
        "#### Logistic regression"
      ],
      "metadata": {
        "id": "BlLI8hqP0CbZ"
      }
    },
    {
      "cell_type": "markdown",
      "source": [
        "##### Figure out from the home team’s perspective if the game is a Win, Lose or Draw"
      ],
      "metadata": {
        "id": "GUQCP0xW0OtB"
      }
    },
    {
      "cell_type": "code",
      "source": [
        "df_home_away.head(2)"
      ],
      "metadata": {
        "colab": {
          "base_uri": "https://localhost:8080/",
          "height": 228
        },
        "id": "W664URwfPI_7",
        "outputId": "2fbc6555-e416-4c06-b46e-fc5af5640e16"
      },
      "execution_count": null,
      "outputs": [
        {
          "output_type": "execute_result",
          "data": {
            "text/plain": [
              "        date home_team away_team  home_score  away_score  \\\n",
              "0 1993-08-08   Bolivia   Uruguay           3           1   \n",
              "1 1993-08-08    Brazil    Mexico           1           1   \n",
              "\n",
              "                     tournament year_month_home  home_rank year_month_away  \\\n",
              "0  FIFA World Cup qualification  Bolivia 1993-8       59.0  Uruguay 1993-8   \n",
              "1                      Friendly   Brazil 1993-8        8.0   Mexico 1993-8   \n",
              "\n",
              "   away_rank  tournament_types  \n",
              "0       22.0                 2  \n",
              "1       14.0                 0  "
            ],
            "text/html": [
              "\n",
              "  <div id=\"df-3b686dbd-a436-475b-94a9-6bfddce5efb4\">\n",
              "    <div class=\"colab-df-container\">\n",
              "      <div>\n",
              "<style scoped>\n",
              "    .dataframe tbody tr th:only-of-type {\n",
              "        vertical-align: middle;\n",
              "    }\n",
              "\n",
              "    .dataframe tbody tr th {\n",
              "        vertical-align: top;\n",
              "    }\n",
              "\n",
              "    .dataframe thead th {\n",
              "        text-align: right;\n",
              "    }\n",
              "</style>\n",
              "<table border=\"1\" class=\"dataframe\">\n",
              "  <thead>\n",
              "    <tr style=\"text-align: right;\">\n",
              "      <th></th>\n",
              "      <th>date</th>\n",
              "      <th>home_team</th>\n",
              "      <th>away_team</th>\n",
              "      <th>home_score</th>\n",
              "      <th>away_score</th>\n",
              "      <th>tournament</th>\n",
              "      <th>year_month_home</th>\n",
              "      <th>home_rank</th>\n",
              "      <th>year_month_away</th>\n",
              "      <th>away_rank</th>\n",
              "      <th>tournament_types</th>\n",
              "    </tr>\n",
              "  </thead>\n",
              "  <tbody>\n",
              "    <tr>\n",
              "      <th>0</th>\n",
              "      <td>1993-08-08</td>\n",
              "      <td>Bolivia</td>\n",
              "      <td>Uruguay</td>\n",
              "      <td>3</td>\n",
              "      <td>1</td>\n",
              "      <td>FIFA World Cup qualification</td>\n",
              "      <td>Bolivia 1993-8</td>\n",
              "      <td>59.0</td>\n",
              "      <td>Uruguay 1993-8</td>\n",
              "      <td>22.0</td>\n",
              "      <td>2</td>\n",
              "    </tr>\n",
              "    <tr>\n",
              "      <th>1</th>\n",
              "      <td>1993-08-08</td>\n",
              "      <td>Brazil</td>\n",
              "      <td>Mexico</td>\n",
              "      <td>1</td>\n",
              "      <td>1</td>\n",
              "      <td>Friendly</td>\n",
              "      <td>Brazil 1993-8</td>\n",
              "      <td>8.0</td>\n",
              "      <td>Mexico 1993-8</td>\n",
              "      <td>14.0</td>\n",
              "      <td>0</td>\n",
              "    </tr>\n",
              "  </tbody>\n",
              "</table>\n",
              "</div>\n",
              "      <button class=\"colab-df-convert\" onclick=\"convertToInteractive('df-3b686dbd-a436-475b-94a9-6bfddce5efb4')\"\n",
              "              title=\"Convert this dataframe to an interactive table.\"\n",
              "              style=\"display:none;\">\n",
              "        \n",
              "  <svg xmlns=\"http://www.w3.org/2000/svg\" height=\"24px\"viewBox=\"0 0 24 24\"\n",
              "       width=\"24px\">\n",
              "    <path d=\"M0 0h24v24H0V0z\" fill=\"none\"/>\n",
              "    <path d=\"M18.56 5.44l.94 2.06.94-2.06 2.06-.94-2.06-.94-.94-2.06-.94 2.06-2.06.94zm-11 1L8.5 8.5l.94-2.06 2.06-.94-2.06-.94L8.5 2.5l-.94 2.06-2.06.94zm10 10l.94 2.06.94-2.06 2.06-.94-2.06-.94-.94-2.06-.94 2.06-2.06.94z\"/><path d=\"M17.41 7.96l-1.37-1.37c-.4-.4-.92-.59-1.43-.59-.52 0-1.04.2-1.43.59L10.3 9.45l-7.72 7.72c-.78.78-.78 2.05 0 2.83L4 21.41c.39.39.9.59 1.41.59.51 0 1.02-.2 1.41-.59l7.78-7.78 2.81-2.81c.8-.78.8-2.07 0-2.86zM5.41 20L4 18.59l7.72-7.72 1.47 1.35L5.41 20z\"/>\n",
              "  </svg>\n",
              "      </button>\n",
              "      \n",
              "  <style>\n",
              "    .colab-df-container {\n",
              "      display:flex;\n",
              "      flex-wrap:wrap;\n",
              "      gap: 12px;\n",
              "    }\n",
              "\n",
              "    .colab-df-convert {\n",
              "      background-color: #E8F0FE;\n",
              "      border: none;\n",
              "      border-radius: 50%;\n",
              "      cursor: pointer;\n",
              "      display: none;\n",
              "      fill: #1967D2;\n",
              "      height: 32px;\n",
              "      padding: 0 0 0 0;\n",
              "      width: 32px;\n",
              "    }\n",
              "\n",
              "    .colab-df-convert:hover {\n",
              "      background-color: #E2EBFA;\n",
              "      box-shadow: 0px 1px 2px rgba(60, 64, 67, 0.3), 0px 1px 3px 1px rgba(60, 64, 67, 0.15);\n",
              "      fill: #174EA6;\n",
              "    }\n",
              "\n",
              "    [theme=dark] .colab-df-convert {\n",
              "      background-color: #3B4455;\n",
              "      fill: #D2E3FC;\n",
              "    }\n",
              "\n",
              "    [theme=dark] .colab-df-convert:hover {\n",
              "      background-color: #434B5C;\n",
              "      box-shadow: 0px 1px 3px 1px rgba(0, 0, 0, 0.15);\n",
              "      filter: drop-shadow(0px 1px 2px rgba(0, 0, 0, 0.3));\n",
              "      fill: #FFFFFF;\n",
              "    }\n",
              "  </style>\n",
              "\n",
              "      <script>\n",
              "        const buttonEl =\n",
              "          document.querySelector('#df-3b686dbd-a436-475b-94a9-6bfddce5efb4 button.colab-df-convert');\n",
              "        buttonEl.style.display =\n",
              "          google.colab.kernel.accessAllowed ? 'block' : 'none';\n",
              "\n",
              "        async function convertToInteractive(key) {\n",
              "          const element = document.querySelector('#df-3b686dbd-a436-475b-94a9-6bfddce5efb4');\n",
              "          const dataTable =\n",
              "            await google.colab.kernel.invokeFunction('convertToInteractive',\n",
              "                                                     [key], {});\n",
              "          if (!dataTable) return;\n",
              "\n",
              "          const docLinkHtml = 'Like what you see? Visit the ' +\n",
              "            '<a target=\"_blank\" href=https://colab.research.google.com/notebooks/data_table.ipynb>data table notebook</a>'\n",
              "            + ' to learn more about interactive tables.';\n",
              "          element.innerHTML = '';\n",
              "          dataTable['output_type'] = 'display_data';\n",
              "          await google.colab.output.renderOutput(dataTable, element);\n",
              "          const docLink = document.createElement('div');\n",
              "          docLink.innerHTML = docLinkHtml;\n",
              "          element.appendChild(docLink);\n",
              "        }\n",
              "      </script>\n",
              "    </div>\n",
              "  </div>\n",
              "  "
            ]
          },
          "metadata": {},
          "execution_count": 162
        }
      ]
    },
    {
      "cell_type": "code",
      "source": [
        "#creating function that will input correct values in home status column\n",
        "#based on home and away scores \n",
        "def status(x):\n",
        "  if x['home_score'] > x['away_score']:\n",
        "    return 'win'\n",
        "  elif x['home_score'] == x['away_score']:\n",
        "    return 'draw'\n",
        "  elif x['home_score'] < x['away_score']:\n",
        "    return 'lose'"
      ],
      "metadata": {
        "id": "yQK2B3zAPlgp"
      },
      "execution_count": null,
      "outputs": []
    },
    {
      "cell_type": "code",
      "source": [
        "#creating home team status column - target column\n",
        "df_home_away['home_status'] = df_home_away.apply(lambda x: status(x), axis=1)"
      ],
      "metadata": {
        "id": "ji1bjtFBRBCB"
      },
      "execution_count": null,
      "outputs": []
    },
    {
      "cell_type": "code",
      "source": [
        "df_home_away.head(3)"
      ],
      "metadata": {
        "colab": {
          "base_uri": "https://localhost:8080/",
          "height": 294
        },
        "id": "OZDK1icKRU22",
        "outputId": "3917db64-b855-4cfd-cf12-013d007c5705"
      },
      "execution_count": null,
      "outputs": [
        {
          "output_type": "execute_result",
          "data": {
            "text/plain": [
              "        date home_team  away_team  home_score  away_score  \\\n",
              "0 1993-08-08   Bolivia    Uruguay           3           1   \n",
              "1 1993-08-08    Brazil     Mexico           1           1   \n",
              "2 1993-08-08   Ecuador  Venezuela           5           0   \n",
              "\n",
              "                     tournament year_month_home  home_rank   year_month_away  \\\n",
              "0  FIFA World Cup qualification  Bolivia 1993-8       59.0    Uruguay 1993-8   \n",
              "1                      Friendly   Brazil 1993-8        8.0     Mexico 1993-8   \n",
              "2  FIFA World Cup qualification  Ecuador 1993-8       35.0  Venezuela 1993-8   \n",
              "\n",
              "   away_rank  tournament_types home_status  \n",
              "0       22.0                 2         win  \n",
              "1       14.0                 0        draw  \n",
              "2       94.0                 2         win  "
            ],
            "text/html": [
              "\n",
              "  <div id=\"df-64c66dea-7cfa-4507-a52b-2eacf643aa22\">\n",
              "    <div class=\"colab-df-container\">\n",
              "      <div>\n",
              "<style scoped>\n",
              "    .dataframe tbody tr th:only-of-type {\n",
              "        vertical-align: middle;\n",
              "    }\n",
              "\n",
              "    .dataframe tbody tr th {\n",
              "        vertical-align: top;\n",
              "    }\n",
              "\n",
              "    .dataframe thead th {\n",
              "        text-align: right;\n",
              "    }\n",
              "</style>\n",
              "<table border=\"1\" class=\"dataframe\">\n",
              "  <thead>\n",
              "    <tr style=\"text-align: right;\">\n",
              "      <th></th>\n",
              "      <th>date</th>\n",
              "      <th>home_team</th>\n",
              "      <th>away_team</th>\n",
              "      <th>home_score</th>\n",
              "      <th>away_score</th>\n",
              "      <th>tournament</th>\n",
              "      <th>year_month_home</th>\n",
              "      <th>home_rank</th>\n",
              "      <th>year_month_away</th>\n",
              "      <th>away_rank</th>\n",
              "      <th>tournament_types</th>\n",
              "      <th>home_status</th>\n",
              "    </tr>\n",
              "  </thead>\n",
              "  <tbody>\n",
              "    <tr>\n",
              "      <th>0</th>\n",
              "      <td>1993-08-08</td>\n",
              "      <td>Bolivia</td>\n",
              "      <td>Uruguay</td>\n",
              "      <td>3</td>\n",
              "      <td>1</td>\n",
              "      <td>FIFA World Cup qualification</td>\n",
              "      <td>Bolivia 1993-8</td>\n",
              "      <td>59.0</td>\n",
              "      <td>Uruguay 1993-8</td>\n",
              "      <td>22.0</td>\n",
              "      <td>2</td>\n",
              "      <td>win</td>\n",
              "    </tr>\n",
              "    <tr>\n",
              "      <th>1</th>\n",
              "      <td>1993-08-08</td>\n",
              "      <td>Brazil</td>\n",
              "      <td>Mexico</td>\n",
              "      <td>1</td>\n",
              "      <td>1</td>\n",
              "      <td>Friendly</td>\n",
              "      <td>Brazil 1993-8</td>\n",
              "      <td>8.0</td>\n",
              "      <td>Mexico 1993-8</td>\n",
              "      <td>14.0</td>\n",
              "      <td>0</td>\n",
              "      <td>draw</td>\n",
              "    </tr>\n",
              "    <tr>\n",
              "      <th>2</th>\n",
              "      <td>1993-08-08</td>\n",
              "      <td>Ecuador</td>\n",
              "      <td>Venezuela</td>\n",
              "      <td>5</td>\n",
              "      <td>0</td>\n",
              "      <td>FIFA World Cup qualification</td>\n",
              "      <td>Ecuador 1993-8</td>\n",
              "      <td>35.0</td>\n",
              "      <td>Venezuela 1993-8</td>\n",
              "      <td>94.0</td>\n",
              "      <td>2</td>\n",
              "      <td>win</td>\n",
              "    </tr>\n",
              "  </tbody>\n",
              "</table>\n",
              "</div>\n",
              "      <button class=\"colab-df-convert\" onclick=\"convertToInteractive('df-64c66dea-7cfa-4507-a52b-2eacf643aa22')\"\n",
              "              title=\"Convert this dataframe to an interactive table.\"\n",
              "              style=\"display:none;\">\n",
              "        \n",
              "  <svg xmlns=\"http://www.w3.org/2000/svg\" height=\"24px\"viewBox=\"0 0 24 24\"\n",
              "       width=\"24px\">\n",
              "    <path d=\"M0 0h24v24H0V0z\" fill=\"none\"/>\n",
              "    <path d=\"M18.56 5.44l.94 2.06.94-2.06 2.06-.94-2.06-.94-.94-2.06-.94 2.06-2.06.94zm-11 1L8.5 8.5l.94-2.06 2.06-.94-2.06-.94L8.5 2.5l-.94 2.06-2.06.94zm10 10l.94 2.06.94-2.06 2.06-.94-2.06-.94-.94-2.06-.94 2.06-2.06.94z\"/><path d=\"M17.41 7.96l-1.37-1.37c-.4-.4-.92-.59-1.43-.59-.52 0-1.04.2-1.43.59L10.3 9.45l-7.72 7.72c-.78.78-.78 2.05 0 2.83L4 21.41c.39.39.9.59 1.41.59.51 0 1.02-.2 1.41-.59l7.78-7.78 2.81-2.81c.8-.78.8-2.07 0-2.86zM5.41 20L4 18.59l7.72-7.72 1.47 1.35L5.41 20z\"/>\n",
              "  </svg>\n",
              "      </button>\n",
              "      \n",
              "  <style>\n",
              "    .colab-df-container {\n",
              "      display:flex;\n",
              "      flex-wrap:wrap;\n",
              "      gap: 12px;\n",
              "    }\n",
              "\n",
              "    .colab-df-convert {\n",
              "      background-color: #E8F0FE;\n",
              "      border: none;\n",
              "      border-radius: 50%;\n",
              "      cursor: pointer;\n",
              "      display: none;\n",
              "      fill: #1967D2;\n",
              "      height: 32px;\n",
              "      padding: 0 0 0 0;\n",
              "      width: 32px;\n",
              "    }\n",
              "\n",
              "    .colab-df-convert:hover {\n",
              "      background-color: #E2EBFA;\n",
              "      box-shadow: 0px 1px 2px rgba(60, 64, 67, 0.3), 0px 1px 3px 1px rgba(60, 64, 67, 0.15);\n",
              "      fill: #174EA6;\n",
              "    }\n",
              "\n",
              "    [theme=dark] .colab-df-convert {\n",
              "      background-color: #3B4455;\n",
              "      fill: #D2E3FC;\n",
              "    }\n",
              "\n",
              "    [theme=dark] .colab-df-convert:hover {\n",
              "      background-color: #434B5C;\n",
              "      box-shadow: 0px 1px 3px 1px rgba(0, 0, 0, 0.15);\n",
              "      filter: drop-shadow(0px 1px 2px rgba(0, 0, 0, 0.3));\n",
              "      fill: #FFFFFF;\n",
              "    }\n",
              "  </style>\n",
              "\n",
              "      <script>\n",
              "        const buttonEl =\n",
              "          document.querySelector('#df-64c66dea-7cfa-4507-a52b-2eacf643aa22 button.colab-df-convert');\n",
              "        buttonEl.style.display =\n",
              "          google.colab.kernel.accessAllowed ? 'block' : 'none';\n",
              "\n",
              "        async function convertToInteractive(key) {\n",
              "          const element = document.querySelector('#df-64c66dea-7cfa-4507-a52b-2eacf643aa22');\n",
              "          const dataTable =\n",
              "            await google.colab.kernel.invokeFunction('convertToInteractive',\n",
              "                                                     [key], {});\n",
              "          if (!dataTable) return;\n",
              "\n",
              "          const docLinkHtml = 'Like what you see? Visit the ' +\n",
              "            '<a target=\"_blank\" href=https://colab.research.google.com/notebooks/data_table.ipynb>data table notebook</a>'\n",
              "            + ' to learn more about interactive tables.';\n",
              "          element.innerHTML = '';\n",
              "          dataTable['output_type'] = 'display_data';\n",
              "          await google.colab.output.renderOutput(dataTable, element);\n",
              "          const docLink = document.createElement('div');\n",
              "          docLink.innerHTML = docLinkHtml;\n",
              "          element.appendChild(docLink);\n",
              "        }\n",
              "      </script>\n",
              "    </div>\n",
              "  </div>\n",
              "  "
            ]
          },
          "metadata": {},
          "execution_count": 167
        }
      ]
    },
    {
      "cell_type": "markdown",
      "source": [
        "The multicollinearity of the 3 predictor variables being used was assesed in polynomial regression, where it was observed that for variance inflation factors, home rank has a score of 1.282, away_rank has a score of 1.281, tournament types a score of 1.001. VIF score of 5 and above is of concern. All the VIFs are below 5 so there is no high degree of multicollinearity present and all the 3 features can be used in modelling."
      ],
      "metadata": {
        "id": "osqPd6KVM1vG"
      }
    },
    {
      "cell_type": "code",
      "source": [
        "#using home rank, away rank and tournament types to predict if \n",
        "#game is a win lose or draw for the home team\n",
        "\n",
        "#separating features and target\n",
        "X = df_home_away[['home_rank', 'away_rank', 'tournament_types']]\n",
        "y = df_home_away['home_status']\n",
        "\n",
        "# Splitting our dataset\n",
        "from sklearn.model_selection import train_test_split\n",
        "X_train, X_test, y_train, y_test = train_test_split(X, y, test_size = .2, random_state=0)\n",
        "\n",
        "\n",
        "from sklearn.linear_model import LogisticRegression\n",
        "#fitting logistic regression model\n",
        "LogReg = LogisticRegression()\n",
        "LogReg.fit(X_train, y_train)\n",
        "\n",
        "#predicting class\n",
        "y_pred = LogReg.predict(X_test)\n",
        "\n",
        "\n",
        "#testing accuracy of model\n",
        "print('\\nAccuracy: ' + str(metrics.accuracy_score(y_test, y_pred)))"
      ],
      "metadata": {
        "colab": {
          "base_uri": "https://localhost:8080/"
        },
        "id": "3KBi3PoQPgja",
        "outputId": "acac8ff2-361f-4b66-fac2-bb87d4486d75"
      },
      "execution_count": null,
      "outputs": [
        {
          "output_type": "stream",
          "name": "stdout",
          "text": [
            "\n",
            "Accuracy: 0.5809637832984137\n"
          ]
        }
      ]
    },
    {
      "cell_type": "markdown",
      "source": [
        "The model predicted whether the home team won, lost or had a draw with 58.1% accuracy."
      ],
      "metadata": {
        "id": "gL_IuTQEKbcL"
      }
    },
    {
      "cell_type": "code",
      "source": [
        "#previewing some predictions vs actual\n",
        "dictn = {\n",
        "    'actual': y_test,\n",
        "    'predicted': y_pred\n",
        "}\n",
        "pd.DataFrame.from_dict(dictn).head(5)"
      ],
      "metadata": {
        "colab": {
          "base_uri": "https://localhost:8080/",
          "height": 206
        },
        "id": "HSazvki3Sb6q",
        "outputId": "031d7460-f313-44d6-c6d3-aa34464868a7"
      },
      "execution_count": null,
      "outputs": [
        {
          "output_type": "execute_result",
          "data": {
            "text/plain": [
              "      actual predicted\n",
              "21751    win       win\n",
              "16104    win       win\n",
              "5677    draw       win\n",
              "1877     win       win\n",
              "18242   draw      lose"
            ],
            "text/html": [
              "\n",
              "  <div id=\"df-f3dcc4a1-cc50-4c32-bf29-6fb9e03241b4\">\n",
              "    <div class=\"colab-df-container\">\n",
              "      <div>\n",
              "<style scoped>\n",
              "    .dataframe tbody tr th:only-of-type {\n",
              "        vertical-align: middle;\n",
              "    }\n",
              "\n",
              "    .dataframe tbody tr th {\n",
              "        vertical-align: top;\n",
              "    }\n",
              "\n",
              "    .dataframe thead th {\n",
              "        text-align: right;\n",
              "    }\n",
              "</style>\n",
              "<table border=\"1\" class=\"dataframe\">\n",
              "  <thead>\n",
              "    <tr style=\"text-align: right;\">\n",
              "      <th></th>\n",
              "      <th>actual</th>\n",
              "      <th>predicted</th>\n",
              "    </tr>\n",
              "  </thead>\n",
              "  <tbody>\n",
              "    <tr>\n",
              "      <th>21751</th>\n",
              "      <td>win</td>\n",
              "      <td>win</td>\n",
              "    </tr>\n",
              "    <tr>\n",
              "      <th>16104</th>\n",
              "      <td>win</td>\n",
              "      <td>win</td>\n",
              "    </tr>\n",
              "    <tr>\n",
              "      <th>5677</th>\n",
              "      <td>draw</td>\n",
              "      <td>win</td>\n",
              "    </tr>\n",
              "    <tr>\n",
              "      <th>1877</th>\n",
              "      <td>win</td>\n",
              "      <td>win</td>\n",
              "    </tr>\n",
              "    <tr>\n",
              "      <th>18242</th>\n",
              "      <td>draw</td>\n",
              "      <td>lose</td>\n",
              "    </tr>\n",
              "  </tbody>\n",
              "</table>\n",
              "</div>\n",
              "      <button class=\"colab-df-convert\" onclick=\"convertToInteractive('df-f3dcc4a1-cc50-4c32-bf29-6fb9e03241b4')\"\n",
              "              title=\"Convert this dataframe to an interactive table.\"\n",
              "              style=\"display:none;\">\n",
              "        \n",
              "  <svg xmlns=\"http://www.w3.org/2000/svg\" height=\"24px\"viewBox=\"0 0 24 24\"\n",
              "       width=\"24px\">\n",
              "    <path d=\"M0 0h24v24H0V0z\" fill=\"none\"/>\n",
              "    <path d=\"M18.56 5.44l.94 2.06.94-2.06 2.06-.94-2.06-.94-.94-2.06-.94 2.06-2.06.94zm-11 1L8.5 8.5l.94-2.06 2.06-.94-2.06-.94L8.5 2.5l-.94 2.06-2.06.94zm10 10l.94 2.06.94-2.06 2.06-.94-2.06-.94-.94-2.06-.94 2.06-2.06.94z\"/><path d=\"M17.41 7.96l-1.37-1.37c-.4-.4-.92-.59-1.43-.59-.52 0-1.04.2-1.43.59L10.3 9.45l-7.72 7.72c-.78.78-.78 2.05 0 2.83L4 21.41c.39.39.9.59 1.41.59.51 0 1.02-.2 1.41-.59l7.78-7.78 2.81-2.81c.8-.78.8-2.07 0-2.86zM5.41 20L4 18.59l7.72-7.72 1.47 1.35L5.41 20z\"/>\n",
              "  </svg>\n",
              "      </button>\n",
              "      \n",
              "  <style>\n",
              "    .colab-df-container {\n",
              "      display:flex;\n",
              "      flex-wrap:wrap;\n",
              "      gap: 12px;\n",
              "    }\n",
              "\n",
              "    .colab-df-convert {\n",
              "      background-color: #E8F0FE;\n",
              "      border: none;\n",
              "      border-radius: 50%;\n",
              "      cursor: pointer;\n",
              "      display: none;\n",
              "      fill: #1967D2;\n",
              "      height: 32px;\n",
              "      padding: 0 0 0 0;\n",
              "      width: 32px;\n",
              "    }\n",
              "\n",
              "    .colab-df-convert:hover {\n",
              "      background-color: #E2EBFA;\n",
              "      box-shadow: 0px 1px 2px rgba(60, 64, 67, 0.3), 0px 1px 3px 1px rgba(60, 64, 67, 0.15);\n",
              "      fill: #174EA6;\n",
              "    }\n",
              "\n",
              "    [theme=dark] .colab-df-convert {\n",
              "      background-color: #3B4455;\n",
              "      fill: #D2E3FC;\n",
              "    }\n",
              "\n",
              "    [theme=dark] .colab-df-convert:hover {\n",
              "      background-color: #434B5C;\n",
              "      box-shadow: 0px 1px 3px 1px rgba(0, 0, 0, 0.15);\n",
              "      filter: drop-shadow(0px 1px 2px rgba(0, 0, 0, 0.3));\n",
              "      fill: #FFFFFF;\n",
              "    }\n",
              "  </style>\n",
              "\n",
              "      <script>\n",
              "        const buttonEl =\n",
              "          document.querySelector('#df-f3dcc4a1-cc50-4c32-bf29-6fb9e03241b4 button.colab-df-convert');\n",
              "        buttonEl.style.display =\n",
              "          google.colab.kernel.accessAllowed ? 'block' : 'none';\n",
              "\n",
              "        async function convertToInteractive(key) {\n",
              "          const element = document.querySelector('#df-f3dcc4a1-cc50-4c32-bf29-6fb9e03241b4');\n",
              "          const dataTable =\n",
              "            await google.colab.kernel.invokeFunction('convertToInteractive',\n",
              "                                                     [key], {});\n",
              "          if (!dataTable) return;\n",
              "\n",
              "          const docLinkHtml = 'Like what you see? Visit the ' +\n",
              "            '<a target=\"_blank\" href=https://colab.research.google.com/notebooks/data_table.ipynb>data table notebook</a>'\n",
              "            + ' to learn more about interactive tables.';\n",
              "          element.innerHTML = '';\n",
              "          dataTable['output_type'] = 'display_data';\n",
              "          await google.colab.output.renderOutput(dataTable, element);\n",
              "          const docLink = document.createElement('div');\n",
              "          docLink.innerHTML = docLinkHtml;\n",
              "          element.appendChild(docLink);\n",
              "        }\n",
              "      </script>\n",
              "    </div>\n",
              "  </div>\n",
              "  "
            ]
          },
          "metadata": {},
          "execution_count": 169
        }
      ]
    },
    {
      "cell_type": "markdown",
      "source": [
        "###### Challenging the solution"
      ],
      "metadata": {
        "id": "Ms_GvwzPMu0W"
      }
    },
    {
      "cell_type": "code",
      "source": [
        "#challenging the solution with k-fold cross validation to see if model with higher accuracy can\n",
        "# be obtained. current model - 58% accuracy.\n",
        "folds = KFold(n_splits=10)\n",
        "\n",
        "\n",
        "print(str(folds.get_n_splits(X)) + ' folds are being used')\n",
        "\n",
        "accuracies = [] # To keep track of the RSME of each model\n",
        "count = 1 # To keep count of models \n",
        "for train_index, test_index in folds.split(X):\n",
        "  print('\\nTraining model ' + str(count))\n",
        "  \n",
        "  # set up the train and test based on the split determined by KFold\n",
        "  X_train, X_test = X[train_index], X[test_index]\n",
        "  y_train, y_test = y[train_index], y[test_index]\n",
        "\n",
        "  from sklearn.preprocessing import StandardScaler\n",
        "  sc = StandardScaler()\n",
        "  X_train = sc.fit_transform(X_train)\n",
        "  X_test = sc.transform(X_test)\n",
        "  \n",
        "  #fitting logistic regression model\n",
        "  LogReg = LogisticRegression()\n",
        "  LogReg.fit(X_train, y_train)\n",
        "\n",
        "  #predicting class\n",
        "  y_pred = LogReg.predict(X_test)\n",
        "\n",
        "  #testing accuracy of model\n",
        "  print('Accuracy: ' + str(metrics.accuracy_score(y_test, y_pred)))\n",
        "  count += 1\n",
        "  accuracies.append(metrics.accuracy_score(y_test, y_pred))\n",
        "\n",
        "print(f'\\nMax accuracy: {np.max(accuracies)}')\n"
      ],
      "metadata": {
        "colab": {
          "base_uri": "https://localhost:8080/"
        },
        "id": "ZJ3Zi52qW93U",
        "outputId": "05cf6165-56c8-40cf-a3ee-df34e60d95c3"
      },
      "execution_count": null,
      "outputs": [
        {
          "output_type": "stream",
          "name": "stdout",
          "text": [
            "10 folds are being used\n",
            "\n",
            "Training model 1\n",
            "Accuracy: 0.5972471573907839\n",
            "\n",
            "Training model 2\n",
            "Accuracy: 0.5727109515260324\n",
            "\n",
            "Training model 3\n",
            "Accuracy: 0.5792938360263316\n",
            "\n",
            "Training model 4\n",
            "Accuracy: 0.5786953919808497\n",
            "\n",
            "Training model 5\n",
            "Accuracy: 0.5820359281437125\n",
            "\n",
            "Training model 6\n",
            "Accuracy: 0.5802395209580838\n",
            "\n",
            "Training model 7\n",
            "Accuracy: 0.588622754491018\n",
            "\n",
            "Training model 8\n",
            "Accuracy: 0.5616766467065868\n",
            "\n",
            "Training model 9\n",
            "Accuracy: 0.5730538922155689\n",
            "\n",
            "Training model 10\n",
            "Accuracy: 0.5622754491017964\n",
            "\n",
            "Max accuracy: 0.5972471573907839\n"
          ]
        }
      ]
    },
    {
      "cell_type": "markdown",
      "source": [
        "A model with higher accuracy was than 58.1% was identified - model 1 at 59.7% accuracy."
      ],
      "metadata": {
        "id": "u01qYKh_QtSH"
      }
    },
    {
      "cell_type": "markdown",
      "source": [
        "## Conclusions"
      ],
      "metadata": {
        "id": "7e0eMZtITg-1"
      }
    },
    {
      "cell_type": "markdown",
      "source": [
        "The datasets were loaded, cleaned and merged (to add ranking information to the dataset with the score information).\n",
        "\n",
        "Univariate and bivariate analysis was carried out, providing further insights on the target and predictor variables, some of which include:\n",
        "* Most matches were friendly or other types other than World Cup matches.\n",
        "* 2011 was the year with the most matches.\n",
        "* Most home and away team scores ranged between 0 to 3.\n",
        "* The highest value of home scores was by team Australia.\n",
        "* The highest values of away scores were by teams Hong Kong and Vanuatu. etc\n",
        "\n",
        "**Modelling**\n",
        "\n",
        "**1. Polynomial regression** \n",
        "\n",
        "For home team scores model:\n",
        "* Testing degrees of the polynomial to be used in a range of 2 to 6, 3 produced the lowest RMSE(root mean squared error) at 1.506. This model (using 3rd degree polynomial) was challenged using 10-fold cross validation and a model with a lower RMSE (1.384) was identified.\n",
        "\n",
        "For away team scores model:\n",
        "* Testing degrees of the polynomial to be used in a range of 2 to 6, 5 produced the lowest RMSE(root mean squared error) at 1.2460. This model (using 5th degree polynomial) was challenged using 10-fold cross validation and a model with a lower RMSE (1.2321) was identified.\n",
        "\n",
        "Looking at the RMSE values, it appears that the independent variables used (home team rank, away team rank, and tournament type) were slightly better at predicting away team scores than home team scores.\n",
        "\n",
        "**2. Logistic regression**\n",
        "\n",
        "To determine whether a game would be a win, lose or draw from the home team's perspective using home team rank, away team rank, and tournament type as inputs, a logistic regression model was used - classification problem.\n",
        "\n",
        "Based on the 3 inputs above, the initial model had an accuracy of 58.1%. Upon 10-fold cross validation, a model with higher accuracy (59.7%) was identified."
      ],
      "metadata": {
        "id": "IxeKWsuogAPU"
      }
    },
    {
      "cell_type": "markdown",
      "source": [
        "The objectives of the study - developing models to predict football match results - were therefore achieved. However, the accuracy of the models could be improved even further by researching on and identifying other features (such as player rankings, team playing styles etc.) that may heavily influence the game outcome and including them in the models.  "
      ],
      "metadata": {
        "id": "g7CfsVoqo9Tn"
      }
    }
  ]
}